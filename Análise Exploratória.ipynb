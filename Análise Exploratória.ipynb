{
 "cells": [
  {
   "cell_type": "markdown",
   "metadata": {},
   "source": [
    "# Dados Criminais na Cidade de São Paulo - SP\n",
    "\n",
    "\n",
    "### Dados disponíveis em: https://www.ssp.sp.gov.br/estatistica"
   ]
  },
  {
   "cell_type": "markdown",
   "metadata": {},
   "source": [
    "## Importações de Bibliotecas"
   ]
  },
  {
   "cell_type": "code",
   "execution_count": 2,
   "metadata": {},
   "outputs": [],
   "source": [
    "import pandas as pd\n",
    "import numpy as np\n",
    "import plotly_express as px\n",
    "import plotly.graph_objects as go\n",
    "from plotly.subplots import make_subplots"
   ]
  },
  {
   "cell_type": "markdown",
   "metadata": {},
   "source": [
    "## Leitura e Concatenação dados 2022/23"
   ]
  },
  {
   "cell_type": "code",
   "execution_count": 3,
   "metadata": {},
   "outputs": [
    {
     "name": "stderr",
     "output_type": "stream",
     "text": [
      "c:\\Users\\caiov\\AppData\\Local\\Programs\\Python\\Python311\\Lib\\site-packages\\openpyxl\\worksheet\\_reader.py:329: UserWarning: Data Validation extension is not supported and will be removed\n",
      "  warn(msg)\n"
     ]
    }
   ],
   "source": [
    "dados0 = pd.read_excel('./Dados/SPDadosCriminais_2022-2022_1.xlsx')\n",
    "dados1 = pd.read_excel('./Dados/SPDadosCriminais_2022-2022_2.xlsx')\n",
    "dados2 = pd.read_excel('./Dados/SPDadosCriminais_2022-2022_3.xlsx')\n",
    "dados3 = pd.read_excel('./Dados/SPDadosCriminais_2022-2022_4.xlsx')\n",
    "dados4 = pd.read_excel('./Dados/SPDadosCriminais_2022-2022_5.xlsx')\n",
    "dados5 = pd.read_excel('./Dados/SPDadosCriminais_2022-2022_6.xlsx')\n",
    "dados6 = pd.read_excel('./Dados/SPDadosCriminais_2022-2022_7.xlsx')\n",
    "dados7 = pd.read_excel('./Dados/SPDadosCriminais_2022-2022_8.xlsx')\n",
    "dados8 = pd.read_excel('./Dados/SPDadosCriminais_2022-2022_9.xlsx')\n",
    "dados9 = pd.read_excel('./Dados/SPDadosCriminais_2022-2022_10.xlsx')\n",
    "dados10 = pd.read_excel('./Dados/SPDadosCriminais_2022-2022_11.xlsx')\n",
    "dados10.rename(columns={'MÊS_ESTÁTISTICA' : 'MES_ESTATISTICA', 'ANO_ESTÁTISTICA' : 'ANO_ESTATISTICA' }, inplace=True)\n",
    "dados11 = pd.read_excel('./Dados/SPDadosCriminais_2022-2022_12.xlsx')\n",
    "dados11.rename(columns={'MÊS_ESTÁTISTICA' : 'MES_ESTATISTICA', 'ANO_ESTÁTISTICA' : 'ANO_ESTATISTICA' }, inplace=True)"
   ]
  },
  {
   "cell_type": "code",
   "execution_count": 4,
   "metadata": {},
   "outputs": [],
   "source": [
    "dados12 = pd.read_excel('./Dados/SPDadosCriminais_2023.xlsx')\n",
    "dados12.rename(columns={'DESC PERIODO' : 'DESCR PERIODO'}, inplace=True)"
   ]
  },
  {
   "cell_type": "code",
   "execution_count": 5,
   "metadata": {},
   "outputs": [
    {
     "data": {
      "text/html": [
       "<div>\n",
       "<style scoped>\n",
       "    .dataframe tbody tr th:only-of-type {\n",
       "        vertical-align: middle;\n",
       "    }\n",
       "\n",
       "    .dataframe tbody tr th {\n",
       "        vertical-align: top;\n",
       "    }\n",
       "\n",
       "    .dataframe thead th {\n",
       "        text-align: right;\n",
       "    }\n",
       "</style>\n",
       "<table border=\"1\" class=\"dataframe\">\n",
       "  <thead>\n",
       "    <tr style=\"text-align: right;\">\n",
       "      <th></th>\n",
       "      <th>NOME_DEPARTAMENTO</th>\n",
       "      <th>NOME_SECCIONAL</th>\n",
       "      <th>NOME_DELEGACIA</th>\n",
       "      <th>CIDADE</th>\n",
       "      <th>NUM_BO</th>\n",
       "      <th>ANO_BO</th>\n",
       "      <th>DATA_COMUNICACAO_BO</th>\n",
       "      <th>DATA_OCORRENCIA_BO</th>\n",
       "      <th>HORA_OCORRENCIA_BO</th>\n",
       "      <th>DESCR_PERIODO</th>\n",
       "      <th>...</th>\n",
       "      <th>DATA_COMUNICACAO</th>\n",
       "      <th>DESC_PERIODO</th>\n",
       "      <th>Unnamed: 25</th>\n",
       "      <th>Unnamed: 26</th>\n",
       "      <th>Unnamed: 27</th>\n",
       "      <th>Unnamed: 28</th>\n",
       "      <th>Unnamed: 29</th>\n",
       "      <th>Unnamed: 30</th>\n",
       "      <th>Unnamed: 31</th>\n",
       "      <th>Unnamed: 32</th>\n",
       "    </tr>\n",
       "  </thead>\n",
       "  <tbody>\n",
       "    <tr>\n",
       "      <th>0</th>\n",
       "      <td>DECAP</td>\n",
       "      <td>DEL.SEC.8º SAO MATEUS</td>\n",
       "      <td>08ª DDM SAO MATEUS</td>\n",
       "      <td>S.PAULO</td>\n",
       "      <td>AC0851</td>\n",
       "      <td>2022</td>\n",
       "      <td>2022-01-13</td>\n",
       "      <td>2021-09-01 00:00:00</td>\n",
       "      <td>NaN</td>\n",
       "      <td>EM HORA INCERTA</td>\n",
       "      <td>...</td>\n",
       "      <td>NaT</td>\n",
       "      <td>NaN</td>\n",
       "      <td>NaN</td>\n",
       "      <td>NaN</td>\n",
       "      <td>NaN</td>\n",
       "      <td>NaN</td>\n",
       "      <td>NaN</td>\n",
       "      <td>NaN</td>\n",
       "      <td>NaN</td>\n",
       "      <td>NaN</td>\n",
       "    </tr>\n",
       "    <tr>\n",
       "      <th>1</th>\n",
       "      <td>DECAP</td>\n",
       "      <td>DEL.SEC.8º SAO MATEUS</td>\n",
       "      <td>54º D.P. CID. TIRADENTES</td>\n",
       "      <td>S.PAULO</td>\n",
       "      <td>4</td>\n",
       "      <td>2022</td>\n",
       "      <td>2022-01-03</td>\n",
       "      <td>2021-12-31 00:00:00</td>\n",
       "      <td>15:20:00</td>\n",
       "      <td>NaN</td>\n",
       "      <td>...</td>\n",
       "      <td>NaT</td>\n",
       "      <td>NaN</td>\n",
       "      <td>NaN</td>\n",
       "      <td>NaN</td>\n",
       "      <td>NaN</td>\n",
       "      <td>NaN</td>\n",
       "      <td>NaN</td>\n",
       "      <td>NaN</td>\n",
       "      <td>NaN</td>\n",
       "      <td>NaN</td>\n",
       "    </tr>\n",
       "    <tr>\n",
       "      <th>2</th>\n",
       "      <td>DECAP</td>\n",
       "      <td>DEL.SEC.5º LESTE</td>\n",
       "      <td>29º D.P. VILA PRUDENTE</td>\n",
       "      <td>S.PAULO</td>\n",
       "      <td>7</td>\n",
       "      <td>2022</td>\n",
       "      <td>2022-01-04</td>\n",
       "      <td>2021-12-30 00:00:00</td>\n",
       "      <td>NaN</td>\n",
       "      <td>EM HORA INCERTA</td>\n",
       "      <td>...</td>\n",
       "      <td>NaT</td>\n",
       "      <td>NaN</td>\n",
       "      <td>NaN</td>\n",
       "      <td>NaN</td>\n",
       "      <td>NaN</td>\n",
       "      <td>NaN</td>\n",
       "      <td>NaN</td>\n",
       "      <td>NaN</td>\n",
       "      <td>NaN</td>\n",
       "      <td>NaN</td>\n",
       "    </tr>\n",
       "    <tr>\n",
       "      <th>3</th>\n",
       "      <td>DECAP</td>\n",
       "      <td>DEL.SEC.1º CENTRO</td>\n",
       "      <td>01º D.P. SE</td>\n",
       "      <td>S.PAULO</td>\n",
       "      <td>8</td>\n",
       "      <td>2022</td>\n",
       "      <td>2022-01-03</td>\n",
       "      <td>2022-01-03 00:00:00</td>\n",
       "      <td>16:00:00</td>\n",
       "      <td>NaN</td>\n",
       "      <td>...</td>\n",
       "      <td>NaT</td>\n",
       "      <td>NaN</td>\n",
       "      <td>NaN</td>\n",
       "      <td>NaN</td>\n",
       "      <td>NaN</td>\n",
       "      <td>NaN</td>\n",
       "      <td>NaN</td>\n",
       "      <td>NaN</td>\n",
       "      <td>NaN</td>\n",
       "      <td>NaN</td>\n",
       "    </tr>\n",
       "    <tr>\n",
       "      <th>4</th>\n",
       "      <td>DECAP</td>\n",
       "      <td>DEL.SEC.1º CENTRO</td>\n",
       "      <td>06º D.P. CAMBUCI</td>\n",
       "      <td>S.PAULO</td>\n",
       "      <td>8</td>\n",
       "      <td>2022</td>\n",
       "      <td>2022-01-03</td>\n",
       "      <td>2022-01-03 00:00:00</td>\n",
       "      <td>13:30:00</td>\n",
       "      <td>NaN</td>\n",
       "      <td>...</td>\n",
       "      <td>NaT</td>\n",
       "      <td>NaN</td>\n",
       "      <td>NaN</td>\n",
       "      <td>NaN</td>\n",
       "      <td>NaN</td>\n",
       "      <td>NaN</td>\n",
       "      <td>NaN</td>\n",
       "      <td>NaN</td>\n",
       "      <td>NaN</td>\n",
       "      <td>NaN</td>\n",
       "    </tr>\n",
       "  </tbody>\n",
       "</table>\n",
       "<p>5 rows × 35 columns</p>\n",
       "</div>"
      ],
      "text/plain": [
       "  NOME_DEPARTAMENTO         NOME_SECCIONAL            NOME_DELEGACIA   CIDADE  \\\n",
       "0             DECAP  DEL.SEC.8º SAO MATEUS        08ª DDM SAO MATEUS  S.PAULO   \n",
       "1             DECAP  DEL.SEC.8º SAO MATEUS  54º D.P. CID. TIRADENTES  S.PAULO   \n",
       "2             DECAP       DEL.SEC.5º LESTE    29º D.P. VILA PRUDENTE  S.PAULO   \n",
       "3             DECAP      DEL.SEC.1º CENTRO               01º D.P. SE  S.PAULO   \n",
       "4             DECAP      DEL.SEC.1º CENTRO          06º D.P. CAMBUCI  S.PAULO   \n",
       "\n",
       "   NUM_BO  ANO_BO DATA_COMUNICACAO_BO   DATA_OCORRENCIA_BO HORA_OCORRENCIA_BO  \\\n",
       "0  AC0851    2022          2022-01-13  2021-09-01 00:00:00                NaN   \n",
       "1       4    2022          2022-01-03  2021-12-31 00:00:00           15:20:00   \n",
       "2       7    2022          2022-01-04  2021-12-30 00:00:00                NaN   \n",
       "3       8    2022          2022-01-03  2022-01-03 00:00:00           16:00:00   \n",
       "4       8    2022          2022-01-03  2022-01-03 00:00:00           13:30:00   \n",
       "\n",
       "     DESCR_PERIODO  ... DATA_COMUNICACAO DESC_PERIODO Unnamed: 25 Unnamed: 26  \\\n",
       "0  EM HORA INCERTA  ...              NaT          NaN         NaN         NaN   \n",
       "1              NaN  ...              NaT          NaN         NaN         NaN   \n",
       "2  EM HORA INCERTA  ...              NaT          NaN         NaN         NaN   \n",
       "3              NaN  ...              NaT          NaN         NaN         NaN   \n",
       "4              NaN  ...              NaT          NaN         NaN         NaN   \n",
       "\n",
       "   Unnamed: 27  Unnamed: 28 Unnamed: 29 Unnamed: 30 Unnamed: 31 Unnamed: 32  \n",
       "0          NaN          NaN         NaN         NaN         NaN         NaN  \n",
       "1          NaN          NaN         NaN         NaN         NaN         NaN  \n",
       "2          NaN          NaN         NaN         NaN         NaN         NaN  \n",
       "3          NaN          NaN         NaN         NaN         NaN         NaN  \n",
       "4          NaN          NaN         NaN         NaN         NaN         NaN  \n",
       "\n",
       "[5 rows x 35 columns]"
      ]
     },
     "execution_count": 5,
     "metadata": {},
     "output_type": "execute_result"
    }
   ],
   "source": [
    "df = pd.concat([dados0,dados1, dados2, dados3, \n",
    "                 dados4, dados5, dados6, dados7,dados8, dados9,dados10, dados11, dados12], ignore_index=True)\n",
    "\n",
    "df.head()"
   ]
  },
  {
   "cell_type": "code",
   "execution_count": 6,
   "metadata": {},
   "outputs": [],
   "source": [
    "df = df.drop(columns=[ 'Unnamed: 25',\n",
    "       'Unnamed: 26', 'Unnamed: 27', 'Unnamed: 28', 'Unnamed: 29',\n",
    "       'Unnamed: 30', 'Unnamed: 31', 'Unnamed: 32'])"
   ]
  },
  {
   "cell_type": "code",
   "execution_count": 7,
   "metadata": {},
   "outputs": [
    {
     "data": {
      "text/html": [
       "<div>\n",
       "<style scoped>\n",
       "    .dataframe tbody tr th:only-of-type {\n",
       "        vertical-align: middle;\n",
       "    }\n",
       "\n",
       "    .dataframe tbody tr th {\n",
       "        vertical-align: top;\n",
       "    }\n",
       "\n",
       "    .dataframe thead th {\n",
       "        text-align: right;\n",
       "    }\n",
       "</style>\n",
       "<table border=\"1\" class=\"dataframe\">\n",
       "  <thead>\n",
       "    <tr style=\"text-align: right;\">\n",
       "      <th></th>\n",
       "      <th>NOME_DEPARTAMENTO</th>\n",
       "      <th>NOME_SECCIONAL</th>\n",
       "      <th>NOME_DELEGACIA</th>\n",
       "      <th>CIDADE</th>\n",
       "      <th>NUM_BO</th>\n",
       "      <th>ANO_BO</th>\n",
       "      <th>DATA_COMUNICACAO_BO</th>\n",
       "      <th>DATA_OCORRENCIA_BO</th>\n",
       "      <th>HORA_OCORRENCIA_BO</th>\n",
       "      <th>DESCR_PERIODO</th>\n",
       "      <th>...</th>\n",
       "      <th>NOME_DEPARTAMENTO_CIRCUNSCRIÇÃO</th>\n",
       "      <th>NOME_SECCIONAL_CIRCUNSCRIÇÃO</th>\n",
       "      <th>NOME_MUNICIPIO_CIRCUNSCRIÇÃO</th>\n",
       "      <th>RUBRICA</th>\n",
       "      <th>DESCR_CONDUTA</th>\n",
       "      <th>NATUREZA_APURADA</th>\n",
       "      <th>MES_ESTATISTICA</th>\n",
       "      <th>ANO_ESTATISTICA</th>\n",
       "      <th>DATA_COMUNICACAO</th>\n",
       "      <th>DESC_PERIODO</th>\n",
       "    </tr>\n",
       "  </thead>\n",
       "  <tbody>\n",
       "    <tr>\n",
       "      <th>0</th>\n",
       "      <td>DECAP</td>\n",
       "      <td>DEL.SEC.8º SAO MATEUS</td>\n",
       "      <td>08ª DDM SAO MATEUS</td>\n",
       "      <td>S.PAULO</td>\n",
       "      <td>AC0851</td>\n",
       "      <td>2022</td>\n",
       "      <td>2022-01-13</td>\n",
       "      <td>2021-09-01 00:00:00</td>\n",
       "      <td>NaN</td>\n",
       "      <td>EM HORA INCERTA</td>\n",
       "      <td>...</td>\n",
       "      <td>DECAP</td>\n",
       "      <td>DEL.SEC.1º CENTRO</td>\n",
       "      <td>S.PAULO</td>\n",
       "      <td>Art. 213 - Estupro</td>\n",
       "      <td>NaN</td>\n",
       "      <td>ESTUPRO</td>\n",
       "      <td>1</td>\n",
       "      <td>2022</td>\n",
       "      <td>NaT</td>\n",
       "      <td>NaN</td>\n",
       "    </tr>\n",
       "    <tr>\n",
       "      <th>1</th>\n",
       "      <td>DECAP</td>\n",
       "      <td>DEL.SEC.8º SAO MATEUS</td>\n",
       "      <td>54º D.P. CID. TIRADENTES</td>\n",
       "      <td>S.PAULO</td>\n",
       "      <td>4</td>\n",
       "      <td>2022</td>\n",
       "      <td>2022-01-03</td>\n",
       "      <td>2021-12-31 00:00:00</td>\n",
       "      <td>15:20:00</td>\n",
       "      <td>NaN</td>\n",
       "      <td>...</td>\n",
       "      <td>DECAP</td>\n",
       "      <td>DEL.SEC.1º CENTRO</td>\n",
       "      <td>S.PAULO</td>\n",
       "      <td>Furto (art. 155)</td>\n",
       "      <td>INTERIOR DE VEICULO</td>\n",
       "      <td>FURTO - OUTROS</td>\n",
       "      <td>1</td>\n",
       "      <td>2022</td>\n",
       "      <td>NaT</td>\n",
       "      <td>NaN</td>\n",
       "    </tr>\n",
       "    <tr>\n",
       "      <th>2</th>\n",
       "      <td>DECAP</td>\n",
       "      <td>DEL.SEC.5º LESTE</td>\n",
       "      <td>29º D.P. VILA PRUDENTE</td>\n",
       "      <td>S.PAULO</td>\n",
       "      <td>7</td>\n",
       "      <td>2022</td>\n",
       "      <td>2022-01-04</td>\n",
       "      <td>2021-12-30 00:00:00</td>\n",
       "      <td>NaN</td>\n",
       "      <td>EM HORA INCERTA</td>\n",
       "      <td>...</td>\n",
       "      <td>DECAP</td>\n",
       "      <td>DEL.SEC.1º CENTRO</td>\n",
       "      <td>S.PAULO</td>\n",
       "      <td>Furto (art. 155)</td>\n",
       "      <td>TRANSEUNTE</td>\n",
       "      <td>FURTO - OUTROS</td>\n",
       "      <td>1</td>\n",
       "      <td>2022</td>\n",
       "      <td>NaT</td>\n",
       "      <td>NaN</td>\n",
       "    </tr>\n",
       "    <tr>\n",
       "      <th>3</th>\n",
       "      <td>DECAP</td>\n",
       "      <td>DEL.SEC.1º CENTRO</td>\n",
       "      <td>01º D.P. SE</td>\n",
       "      <td>S.PAULO</td>\n",
       "      <td>8</td>\n",
       "      <td>2022</td>\n",
       "      <td>2022-01-03</td>\n",
       "      <td>2022-01-03 00:00:00</td>\n",
       "      <td>16:00:00</td>\n",
       "      <td>NaN</td>\n",
       "      <td>...</td>\n",
       "      <td>DECAP</td>\n",
       "      <td>DEL.SEC.1º CENTRO</td>\n",
       "      <td>S.PAULO</td>\n",
       "      <td>Furto (art. 155)</td>\n",
       "      <td>INTERIOR DE VEICULO</td>\n",
       "      <td>FURTO - OUTROS</td>\n",
       "      <td>1</td>\n",
       "      <td>2022</td>\n",
       "      <td>NaT</td>\n",
       "      <td>NaN</td>\n",
       "    </tr>\n",
       "    <tr>\n",
       "      <th>4</th>\n",
       "      <td>DECAP</td>\n",
       "      <td>DEL.SEC.1º CENTRO</td>\n",
       "      <td>06º D.P. CAMBUCI</td>\n",
       "      <td>S.PAULO</td>\n",
       "      <td>8</td>\n",
       "      <td>2022</td>\n",
       "      <td>2022-01-03</td>\n",
       "      <td>2022-01-03 00:00:00</td>\n",
       "      <td>13:30:00</td>\n",
       "      <td>NaN</td>\n",
       "      <td>...</td>\n",
       "      <td>DECAP</td>\n",
       "      <td>DEL.SEC.1º CENTRO</td>\n",
       "      <td>S.PAULO</td>\n",
       "      <td>Furto (art. 155)</td>\n",
       "      <td>INTERIOR DE VEICULO</td>\n",
       "      <td>FURTO - OUTROS</td>\n",
       "      <td>1</td>\n",
       "      <td>2022</td>\n",
       "      <td>NaT</td>\n",
       "      <td>NaN</td>\n",
       "    </tr>\n",
       "    <tr>\n",
       "      <th>...</th>\n",
       "      <td>...</td>\n",
       "      <td>...</td>\n",
       "      <td>...</td>\n",
       "      <td>...</td>\n",
       "      <td>...</td>\n",
       "      <td>...</td>\n",
       "      <td>...</td>\n",
       "      <td>...</td>\n",
       "      <td>...</td>\n",
       "      <td>...</td>\n",
       "      <td>...</td>\n",
       "      <td>...</td>\n",
       "      <td>...</td>\n",
       "      <td>...</td>\n",
       "      <td>...</td>\n",
       "      <td>...</td>\n",
       "      <td>...</td>\n",
       "      <td>...</td>\n",
       "      <td>...</td>\n",
       "      <td>...</td>\n",
       "      <td>...</td>\n",
       "    </tr>\n",
       "    <tr>\n",
       "      <th>2179965</th>\n",
       "      <td>DEMACRO</td>\n",
       "      <td>DEL.SEC.TABOÃO DA SERRA</td>\n",
       "      <td>02º D.P. TABOÃO DA SERRA</td>\n",
       "      <td>TABOAO DA SERRA</td>\n",
       "      <td>NJ7814</td>\n",
       "      <td>2023</td>\n",
       "      <td>NaT</td>\n",
       "      <td>2023-10-09 00:00:00</td>\n",
       "      <td>22:54:10</td>\n",
       "      <td>NaN</td>\n",
       "      <td>...</td>\n",
       "      <td>DEMACRO</td>\n",
       "      <td>DEL.SEC.TABOÃO DA SERRA</td>\n",
       "      <td>TABOAO DA SERRA</td>\n",
       "      <td>Roubo (art. 157)</td>\n",
       "      <td>Veículo</td>\n",
       "      <td>ROUBO DE VEÍCULO</td>\n",
       "      <td>10</td>\n",
       "      <td>2023</td>\n",
       "      <td>2023-10-09</td>\n",
       "      <td>NaN</td>\n",
       "    </tr>\n",
       "    <tr>\n",
       "      <th>2179966</th>\n",
       "      <td>DIPOL - DEPTO DE INTELIGENCIA</td>\n",
       "      <td>DELEGACIA ELETRONICA</td>\n",
       "      <td>DELEGACIA ELETRONICA</td>\n",
       "      <td>TABOAO DA SERRA</td>\n",
       "      <td>NN3113</td>\n",
       "      <td>2023</td>\n",
       "      <td>NaT</td>\n",
       "      <td>2023-10-11 00:00:00</td>\n",
       "      <td>23:36:00</td>\n",
       "      <td>NaN</td>\n",
       "      <td>...</td>\n",
       "      <td>DEMACRO</td>\n",
       "      <td>DEL.SEC.TABOÃO DA SERRA</td>\n",
       "      <td>TABOAO DA SERRA</td>\n",
       "      <td>Roubo (art. 157)</td>\n",
       "      <td>Veículo</td>\n",
       "      <td>ROUBO DE VEÍCULO</td>\n",
       "      <td>10</td>\n",
       "      <td>2023</td>\n",
       "      <td>2023-10-12</td>\n",
       "      <td>NaN</td>\n",
       "    </tr>\n",
       "    <tr>\n",
       "      <th>2179967</th>\n",
       "      <td>DIPOL - DEPTO DE INTELIGENCIA</td>\n",
       "      <td>DELEGACIA ELETRONICA</td>\n",
       "      <td>DELEGACIA ELETRONICA</td>\n",
       "      <td>TABOAO DA SERRA</td>\n",
       "      <td>NX0299</td>\n",
       "      <td>2023</td>\n",
       "      <td>NaT</td>\n",
       "      <td>2023-10-19 00:00:00</td>\n",
       "      <td>19:10:00</td>\n",
       "      <td>NaN</td>\n",
       "      <td>...</td>\n",
       "      <td>DEMACRO</td>\n",
       "      <td>DEL.SEC.TABOÃO DA SERRA</td>\n",
       "      <td>TABOAO DA SERRA</td>\n",
       "      <td>Roubo (art. 157)</td>\n",
       "      <td>Veículo</td>\n",
       "      <td>ROUBO DE VEÍCULO</td>\n",
       "      <td>10</td>\n",
       "      <td>2023</td>\n",
       "      <td>2023-10-20</td>\n",
       "      <td>NaN</td>\n",
       "    </tr>\n",
       "    <tr>\n",
       "      <th>2179968</th>\n",
       "      <td>DEMACRO</td>\n",
       "      <td>DEL.SEC.TABOÃO DA SERRA</td>\n",
       "      <td>02º D.P. TABOÃO DA SERRA</td>\n",
       "      <td>TABOAO DA SERRA</td>\n",
       "      <td>NX0632</td>\n",
       "      <td>2023</td>\n",
       "      <td>NaT</td>\n",
       "      <td>2023-10-19 00:00:00</td>\n",
       "      <td>20:30:00</td>\n",
       "      <td>NaN</td>\n",
       "      <td>...</td>\n",
       "      <td>DEMACRO</td>\n",
       "      <td>DEL.SEC.TABOÃO DA SERRA</td>\n",
       "      <td>TABOAO DA SERRA</td>\n",
       "      <td>Roubo (art. 157)</td>\n",
       "      <td>Veículo</td>\n",
       "      <td>ROUBO DE VEÍCULO</td>\n",
       "      <td>10</td>\n",
       "      <td>2023</td>\n",
       "      <td>2023-10-20</td>\n",
       "      <td>NaN</td>\n",
       "    </tr>\n",
       "    <tr>\n",
       "      <th>2179969</th>\n",
       "      <td>DEMACRO</td>\n",
       "      <td>DEL.SEC.TABOÃO DA SERRA</td>\n",
       "      <td>DDM TABOAO DA SERRA</td>\n",
       "      <td>TABOAO DA SERRA</td>\n",
       "      <td>OC5942</td>\n",
       "      <td>2023</td>\n",
       "      <td>NaT</td>\n",
       "      <td>2023-10-24 00:00:00</td>\n",
       "      <td>16:00:00</td>\n",
       "      <td>NaN</td>\n",
       "      <td>...</td>\n",
       "      <td>DEMACRO</td>\n",
       "      <td>DEL.SEC.TABOÃO DA SERRA</td>\n",
       "      <td>TABOAO DA SERRA</td>\n",
       "      <td>Homicídio (art. 121)</td>\n",
       "      <td>NaN</td>\n",
       "      <td>TENTATIVA DE HOMICÍDIO</td>\n",
       "      <td>10</td>\n",
       "      <td>2023</td>\n",
       "      <td>2023-10-24</td>\n",
       "      <td>NaN</td>\n",
       "    </tr>\n",
       "  </tbody>\n",
       "</table>\n",
       "<p>2179970 rows × 27 columns</p>\n",
       "</div>"
      ],
      "text/plain": [
       "                     NOME_DEPARTAMENTO           NOME_SECCIONAL  \\\n",
       "0                                DECAP    DEL.SEC.8º SAO MATEUS   \n",
       "1                                DECAP    DEL.SEC.8º SAO MATEUS   \n",
       "2                                DECAP         DEL.SEC.5º LESTE   \n",
       "3                                DECAP        DEL.SEC.1º CENTRO   \n",
       "4                                DECAP        DEL.SEC.1º CENTRO   \n",
       "...                                ...                      ...   \n",
       "2179965                        DEMACRO  DEL.SEC.TABOÃO DA SERRA   \n",
       "2179966  DIPOL - DEPTO DE INTELIGENCIA     DELEGACIA ELETRONICA   \n",
       "2179967  DIPOL - DEPTO DE INTELIGENCIA     DELEGACIA ELETRONICA   \n",
       "2179968                        DEMACRO  DEL.SEC.TABOÃO DA SERRA   \n",
       "2179969                        DEMACRO  DEL.SEC.TABOÃO DA SERRA   \n",
       "\n",
       "                   NOME_DELEGACIA           CIDADE  NUM_BO  ANO_BO  \\\n",
       "0              08ª DDM SAO MATEUS          S.PAULO  AC0851    2022   \n",
       "1        54º D.P. CID. TIRADENTES          S.PAULO       4    2022   \n",
       "2          29º D.P. VILA PRUDENTE          S.PAULO       7    2022   \n",
       "3                     01º D.P. SE          S.PAULO       8    2022   \n",
       "4                06º D.P. CAMBUCI          S.PAULO       8    2022   \n",
       "...                           ...              ...     ...     ...   \n",
       "2179965  02º D.P. TABOÃO DA SERRA  TABOAO DA SERRA  NJ7814    2023   \n",
       "2179966      DELEGACIA ELETRONICA  TABOAO DA SERRA  NN3113    2023   \n",
       "2179967      DELEGACIA ELETRONICA  TABOAO DA SERRA  NX0299    2023   \n",
       "2179968  02º D.P. TABOÃO DA SERRA  TABOAO DA SERRA  NX0632    2023   \n",
       "2179969       DDM TABOAO DA SERRA  TABOAO DA SERRA  OC5942    2023   \n",
       "\n",
       "        DATA_COMUNICACAO_BO   DATA_OCORRENCIA_BO HORA_OCORRENCIA_BO  \\\n",
       "0                2022-01-13  2021-09-01 00:00:00                NaN   \n",
       "1                2022-01-03  2021-12-31 00:00:00           15:20:00   \n",
       "2                2022-01-04  2021-12-30 00:00:00                NaN   \n",
       "3                2022-01-03  2022-01-03 00:00:00           16:00:00   \n",
       "4                2022-01-03  2022-01-03 00:00:00           13:30:00   \n",
       "...                     ...                  ...                ...   \n",
       "2179965                 NaT  2023-10-09 00:00:00           22:54:10   \n",
       "2179966                 NaT  2023-10-11 00:00:00           23:36:00   \n",
       "2179967                 NaT  2023-10-19 00:00:00           19:10:00   \n",
       "2179968                 NaT  2023-10-19 00:00:00           20:30:00   \n",
       "2179969                 NaT  2023-10-24 00:00:00           16:00:00   \n",
       "\n",
       "           DESCR_PERIODO  ... NOME_DEPARTAMENTO_CIRCUNSCRIÇÃO  \\\n",
       "0        EM HORA INCERTA  ...                           DECAP   \n",
       "1                    NaN  ...                           DECAP   \n",
       "2        EM HORA INCERTA  ...                           DECAP   \n",
       "3                    NaN  ...                           DECAP   \n",
       "4                    NaN  ...                           DECAP   \n",
       "...                  ...  ...                             ...   \n",
       "2179965              NaN  ...                         DEMACRO   \n",
       "2179966              NaN  ...                         DEMACRO   \n",
       "2179967              NaN  ...                         DEMACRO   \n",
       "2179968              NaN  ...                         DEMACRO   \n",
       "2179969              NaN  ...                         DEMACRO   \n",
       "\n",
       "        NOME_SECCIONAL_CIRCUNSCRIÇÃO NOME_MUNICIPIO_CIRCUNSCRIÇÃO  \\\n",
       "0                  DEL.SEC.1º CENTRO                      S.PAULO   \n",
       "1                  DEL.SEC.1º CENTRO                      S.PAULO   \n",
       "2                  DEL.SEC.1º CENTRO                      S.PAULO   \n",
       "3                  DEL.SEC.1º CENTRO                      S.PAULO   \n",
       "4                  DEL.SEC.1º CENTRO                      S.PAULO   \n",
       "...                              ...                          ...   \n",
       "2179965      DEL.SEC.TABOÃO DA SERRA              TABOAO DA SERRA   \n",
       "2179966      DEL.SEC.TABOÃO DA SERRA              TABOAO DA SERRA   \n",
       "2179967      DEL.SEC.TABOÃO DA SERRA              TABOAO DA SERRA   \n",
       "2179968      DEL.SEC.TABOÃO DA SERRA              TABOAO DA SERRA   \n",
       "2179969      DEL.SEC.TABOÃO DA SERRA              TABOAO DA SERRA   \n",
       "\n",
       "                      RUBRICA        DESCR_CONDUTA        NATUREZA_APURADA  \\\n",
       "0          Art. 213 - Estupro                  NaN                 ESTUPRO   \n",
       "1            Furto (art. 155)  INTERIOR DE VEICULO          FURTO - OUTROS   \n",
       "2            Furto (art. 155)           TRANSEUNTE          FURTO - OUTROS   \n",
       "3            Furto (art. 155)  INTERIOR DE VEICULO          FURTO - OUTROS   \n",
       "4            Furto (art. 155)  INTERIOR DE VEICULO          FURTO - OUTROS   \n",
       "...                       ...                  ...                     ...   \n",
       "2179965      Roubo (art. 157)              Veículo        ROUBO DE VEÍCULO   \n",
       "2179966      Roubo (art. 157)              Veículo        ROUBO DE VEÍCULO   \n",
       "2179967      Roubo (art. 157)              Veículo        ROUBO DE VEÍCULO   \n",
       "2179968      Roubo (art. 157)              Veículo        ROUBO DE VEÍCULO   \n",
       "2179969  Homicídio (art. 121)                  NaN  TENTATIVA DE HOMICÍDIO   \n",
       "\n",
       "        MES_ESTATISTICA ANO_ESTATISTICA DATA_COMUNICACAO DESC_PERIODO  \n",
       "0                     1            2022              NaT          NaN  \n",
       "1                     1            2022              NaT          NaN  \n",
       "2                     1            2022              NaT          NaN  \n",
       "3                     1            2022              NaT          NaN  \n",
       "4                     1            2022              NaT          NaN  \n",
       "...                 ...             ...              ...          ...  \n",
       "2179965              10            2023       2023-10-09          NaN  \n",
       "2179966              10            2023       2023-10-12          NaN  \n",
       "2179967              10            2023       2023-10-20          NaN  \n",
       "2179968              10            2023       2023-10-20          NaN  \n",
       "2179969              10            2023       2023-10-24          NaN  \n",
       "\n",
       "[2179970 rows x 27 columns]"
      ]
     },
     "metadata": {},
     "output_type": "display_data"
    },
    {
     "name": "stdout",
     "output_type": "stream",
     "text": [
      "Index(['NOME_DEPARTAMENTO', 'NOME_SECCIONAL', 'NOME_DELEGACIA', 'CIDADE',\n",
      "       'NUM_BO', 'ANO_BO', 'DATA_COMUNICACAO_BO', 'DATA_OCORRENCIA_BO',\n",
      "       'HORA_OCORRENCIA_BO', 'DESCR_PERIODO', 'DESCR_TIPOLOCAL', 'BAIRRO',\n",
      "       'LOGRADOURO', 'NUMERO_LOGRADOURO', 'LATITUDE', 'LONGITUDE',\n",
      "       'NOME_DELEGACIA_CIRCUNSCRIÇÃO', 'NOME_DEPARTAMENTO_CIRCUNSCRIÇÃO',\n",
      "       'NOME_SECCIONAL_CIRCUNSCRIÇÃO', 'NOME_MUNICIPIO_CIRCUNSCRIÇÃO',\n",
      "       'RUBRICA', 'DESCR_CONDUTA', 'NATUREZA_APURADA', 'MES_ESTATISTICA',\n",
      "       'ANO_ESTATISTICA', 'DATA_COMUNICACAO', 'DESC_PERIODO'],\n",
      "      dtype='object')\n"
     ]
    }
   ],
   "source": [
    "display(df)\n",
    "print(df.columns)\n"
   ]
  },
  {
   "cell_type": "markdown",
   "metadata": {},
   "source": [
    "## Filtrando apenas a cidade de São Paulo"
   ]
  },
  {
   "cell_type": "code",
   "execution_count": 8,
   "metadata": {},
   "outputs": [
    {
     "data": {
      "text/plain": [
       "(859543, 27)"
      ]
     },
     "execution_count": 8,
     "metadata": {},
     "output_type": "execute_result"
    }
   ],
   "source": [
    "df2 = df[df['CIDADE'] == 'S.PAULO']\n",
    "df2.shape"
   ]
  },
  {
   "cell_type": "code",
   "execution_count": 9,
   "metadata": {},
   "outputs": [
    {
     "data": {
      "text/plain": [
       "NOME_DEPARTAMENTO                       0\n",
       "NOME_SECCIONAL                          0\n",
       "NOME_DELEGACIA                          0\n",
       "CIDADE                                  0\n",
       "NUM_BO                                  0\n",
       "ANO_BO                                  0\n",
       "DATA_COMUNICACAO_BO                410681\n",
       "DATA_OCORRENCIA_BO                   3328\n",
       "HORA_OCORRENCIA_BO                 293974\n",
       "DESCR_PERIODO                      759060\n",
       "DESCR_TIPOLOCAL                       148\n",
       "BAIRRO                               3321\n",
       "LOGRADOURO                              0\n",
       "NUMERO_LOGRADOURO                      87\n",
       "LATITUDE                           102604\n",
       "LONGITUDE                          102604\n",
       "NOME_DELEGACIA_CIRCUNSCRIÇÃO            0\n",
       "NOME_DEPARTAMENTO_CIRCUNSCRIÇÃO         0\n",
       "NOME_SECCIONAL_CIRCUNSCRIÇÃO            0\n",
       "NOME_MUNICIPIO_CIRCUNSCRIÇÃO            0\n",
       "RUBRICA                                19\n",
       "DESCR_CONDUTA                      127505\n",
       "NATUREZA_APURADA                        0\n",
       "MES_ESTATISTICA                         0\n",
       "ANO_ESTATISTICA                         0\n",
       "DATA_COMUNICACAO                   449513\n",
       "DESC_PERIODO                       718259\n",
       "dtype: int64"
      ]
     },
     "execution_count": 9,
     "metadata": {},
     "output_type": "execute_result"
    }
   ],
   "source": [
    "df2.isna().sum()"
   ]
  },
  {
   "cell_type": "code",
   "execution_count": 10,
   "metadata": {},
   "outputs": [
    {
     "name": "stderr",
     "output_type": "stream",
     "text": [
      "C:\\Users\\caiov\\AppData\\Local\\Temp\\ipykernel_29024\\1939981445.py:1: FutureWarning: Indexing with multiple keys (implicitly converted to a tuple of keys) will be deprecated, use a list instead.\n",
      "  lat_long = df2.groupby(by = ['BAIRRO'])['LATITUDE', 'LONGITUDE'].median().reset_index()\n"
     ]
    },
    {
     "data": {
      "text/html": [
       "<div>\n",
       "<style scoped>\n",
       "    .dataframe tbody tr th:only-of-type {\n",
       "        vertical-align: middle;\n",
       "    }\n",
       "\n",
       "    .dataframe tbody tr th {\n",
       "        vertical-align: top;\n",
       "    }\n",
       "\n",
       "    .dataframe thead th {\n",
       "        text-align: right;\n",
       "    }\n",
       "</style>\n",
       "<table border=\"1\" class=\"dataframe\">\n",
       "  <thead>\n",
       "    <tr style=\"text-align: right;\">\n",
       "      <th></th>\n",
       "      <th>BAIRRO</th>\n",
       "      <th>LATITUDE</th>\n",
       "      <th>LONGITUDE</th>\n",
       "    </tr>\n",
       "  </thead>\n",
       "  <tbody>\n",
       "    <tr>\n",
       "      <th>0</th>\n",
       "      <td>152</td>\n",
       "      <td>-23.591312</td>\n",
       "      <td>-46.683390</td>\n",
       "    </tr>\n",
       "    <tr>\n",
       "      <th>1</th>\n",
       "      <td>288</td>\n",
       "      <td>-23.528890</td>\n",
       "      <td>-46.663048</td>\n",
       "    </tr>\n",
       "    <tr>\n",
       "      <th>2</th>\n",
       "      <td>410</td>\n",
       "      <td>-23.596536</td>\n",
       "      <td>-46.445182</td>\n",
       "    </tr>\n",
       "    <tr>\n",
       "      <th>3</th>\n",
       "      <td>6838</td>\n",
       "      <td>-23.501166</td>\n",
       "      <td>-46.470010</td>\n",
       "    </tr>\n",
       "    <tr>\n",
       "      <th>4</th>\n",
       "      <td></td>\n",
       "      <td>-23.518862</td>\n",
       "      <td>-46.545418</td>\n",
       "    </tr>\n",
       "    <tr>\n",
       "      <th>...</th>\n",
       "      <td>...</td>\n",
       "      <td>...</td>\n",
       "      <td>...</td>\n",
       "    </tr>\n",
       "    <tr>\n",
       "      <th>4873</th>\n",
       "      <td>ÁREA RURAL DE PERUÍBE</td>\n",
       "      <td>NaN</td>\n",
       "      <td>NaN</td>\n",
       "    </tr>\n",
       "    <tr>\n",
       "      <th>4874</th>\n",
       "      <td>Água Branca</td>\n",
       "      <td>-23.525179</td>\n",
       "      <td>-46.680512</td>\n",
       "    </tr>\n",
       "    <tr>\n",
       "      <th>4875</th>\n",
       "      <td>Água Fria</td>\n",
       "      <td>-23.481496</td>\n",
       "      <td>-46.616982</td>\n",
       "    </tr>\n",
       "    <tr>\n",
       "      <th>4876</th>\n",
       "      <td>Água Funda</td>\n",
       "      <td>-23.649666</td>\n",
       "      <td>-46.621900</td>\n",
       "    </tr>\n",
       "    <tr>\n",
       "      <th>4877</th>\n",
       "      <td>Água Rasa</td>\n",
       "      <td>-23.558563</td>\n",
       "      <td>-46.572404</td>\n",
       "    </tr>\n",
       "  </tbody>\n",
       "</table>\n",
       "<p>4878 rows × 3 columns</p>\n",
       "</div>"
      ],
      "text/plain": [
       "                     BAIRRO   LATITUDE  LONGITUDE\n",
       "0                       152 -23.591312 -46.683390\n",
       "1                       288 -23.528890 -46.663048\n",
       "2                       410 -23.596536 -46.445182\n",
       "3                      6838 -23.501166 -46.470010\n",
       "4                           -23.518862 -46.545418\n",
       "...                     ...        ...        ...\n",
       "4873  ÁREA RURAL DE PERUÍBE        NaN        NaN\n",
       "4874            Água Branca -23.525179 -46.680512\n",
       "4875              Água Fria -23.481496 -46.616982\n",
       "4876             Água Funda -23.649666 -46.621900\n",
       "4877              Água Rasa -23.558563 -46.572404\n",
       "\n",
       "[4878 rows x 3 columns]"
      ]
     },
     "execution_count": 10,
     "metadata": {},
     "output_type": "execute_result"
    }
   ],
   "source": [
    "lat_long = df2.groupby(by = ['BAIRRO'])['LATITUDE', 'LONGITUDE'].median().reset_index()\n",
    "lat_long"
   ]
  },
  {
   "cell_type": "markdown",
   "metadata": {},
   "source": [
    "## Crimes mais cometidos no período"
   ]
  },
  {
   "cell_type": "code",
   "execution_count": 11,
   "metadata": {},
   "outputs": [
    {
     "data": {
      "text/html": [
       "<div>\n",
       "<style scoped>\n",
       "    .dataframe tbody tr th:only-of-type {\n",
       "        vertical-align: middle;\n",
       "    }\n",
       "\n",
       "    .dataframe tbody tr th {\n",
       "        vertical-align: top;\n",
       "    }\n",
       "\n",
       "    .dataframe thead th {\n",
       "        text-align: right;\n",
       "    }\n",
       "</style>\n",
       "<table border=\"1\" class=\"dataframe\">\n",
       "  <thead>\n",
       "    <tr style=\"text-align: right;\">\n",
       "      <th></th>\n",
       "      <th>NATUREZA_APURADA</th>\n",
       "      <th>freq</th>\n",
       "      <th>Porcentagem Acumulada</th>\n",
       "    </tr>\n",
       "  </thead>\n",
       "  <tbody>\n",
       "    <tr>\n",
       "      <th>0</th>\n",
       "      <td>FURTO - OUTROS</td>\n",
       "      <td>422822</td>\n",
       "      <td>49.191489</td>\n",
       "    </tr>\n",
       "    <tr>\n",
       "      <th>1</th>\n",
       "      <td>ROUBO - OUTROS</td>\n",
       "      <td>237488</td>\n",
       "      <td>76.821055</td>\n",
       "    </tr>\n",
       "    <tr>\n",
       "      <th>2</th>\n",
       "      <td>FURTO DE VEÍCULO</td>\n",
       "      <td>72415</td>\n",
       "      <td>85.245881</td>\n",
       "    </tr>\n",
       "    <tr>\n",
       "      <th>3</th>\n",
       "      <td>LESÃO CORPORAL DOLOSA</td>\n",
       "      <td>59231</td>\n",
       "      <td>92.136868</td>\n",
       "    </tr>\n",
       "    <tr>\n",
       "      <th>4</th>\n",
       "      <td>ROUBO DE VEÍCULO</td>\n",
       "      <td>27318</td>\n",
       "      <td>95.315069</td>\n",
       "    </tr>\n",
       "    <tr>\n",
       "      <th>5</th>\n",
       "      <td>LESÃO CORPORAL CULPOSA POR ACIDENTE DE TRÂNSITO</td>\n",
       "      <td>21310</td>\n",
       "      <td>97.794293</td>\n",
       "    </tr>\n",
       "    <tr>\n",
       "      <th>6</th>\n",
       "      <td>ROUBO DE CARGA</td>\n",
       "      <td>5027</td>\n",
       "      <td>98.379139</td>\n",
       "    </tr>\n",
       "    <tr>\n",
       "      <th>7</th>\n",
       "      <td>TRAFICO DE ENTORPECENTES</td>\n",
       "      <td>3921</td>\n",
       "      <td>98.835311</td>\n",
       "    </tr>\n",
       "    <tr>\n",
       "      <th>8</th>\n",
       "      <td>ESTUPRO DE VULNERÁVEL</td>\n",
       "      <td>3865</td>\n",
       "      <td>99.284969</td>\n",
       "    </tr>\n",
       "    <tr>\n",
       "      <th>9</th>\n",
       "      <td>ESTUPRO</td>\n",
       "      <td>1321</td>\n",
       "      <td>99.438655</td>\n",
       "    </tr>\n",
       "  </tbody>\n",
       "</table>\n",
       "</div>"
      ],
      "text/plain": [
       "                                  NATUREZA_APURADA    freq  \\\n",
       "0                                   FURTO - OUTROS  422822   \n",
       "1                                   ROUBO - OUTROS  237488   \n",
       "2                                 FURTO DE VEÍCULO   72415   \n",
       "3                            LESÃO CORPORAL DOLOSA   59231   \n",
       "4                                 ROUBO DE VEÍCULO   27318   \n",
       "5  LESÃO CORPORAL CULPOSA POR ACIDENTE DE TRÂNSITO   21310   \n",
       "6                                   ROUBO DE CARGA    5027   \n",
       "7                         TRAFICO DE ENTORPECENTES    3921   \n",
       "8                            ESTUPRO DE VULNERÁVEL    3865   \n",
       "9                                          ESTUPRO    1321   \n",
       "\n",
       "   Porcentagem Acumulada  \n",
       "0              49.191489  \n",
       "1              76.821055  \n",
       "2              85.245881  \n",
       "3              92.136868  \n",
       "4              95.315069  \n",
       "5              97.794293  \n",
       "6              98.379139  \n",
       "7              98.835311  \n",
       "8              99.284969  \n",
       "9              99.438655  "
      ]
     },
     "execution_count": 11,
     "metadata": {},
     "output_type": "execute_result"
    }
   ],
   "source": [
    "crimes_mais_cometidos = df2.value_counts(['NATUREZA_APURADA']).reset_index().rename(columns={0: 'freq'})\n",
    "crimes_mais_cometidos['Porcentagem Acumulada'] = crimes_mais_cometidos['freq'].cumsum() / crimes_mais_cometidos['freq'].sum() * 100\n",
    "crimes_mais_cometidos = crimes_mais_cometidos[0:10]\n",
    "crimes_mais_cometidos"
   ]
  },
  {
   "cell_type": "markdown",
   "metadata": {},
   "source": [
    "### Pareto"
   ]
  },
  {
   "cell_type": "code",
   "execution_count": 12,
   "metadata": {},
   "outputs": [
    {
     "name": "stderr",
     "output_type": "stream",
     "text": [
      "c:\\Users\\caiov\\AppData\\Local\\Programs\\Python\\Python311\\Lib\\site-packages\\plotly\\graph_objs\\_deprecations.py:378: DeprecationWarning:\n",
      "\n",
      "plotly.graph_objs.Line is deprecated.\n",
      "Please replace it with one of the following more specific types\n",
      "  - plotly.graph_objs.scatter.Line\n",
      "  - plotly.graph_objs.layout.shape.Line\n",
      "  - etc.\n",
      "\n",
      "\n"
     ]
    },
    {
     "data": {
      "application/vnd.plotly.v1+json": {
       "config": {
        "plotlyServerURL": "https://plot.ly"
       },
       "data": [
        {
         "name": "Frequência",
         "type": "bar",
         "x": [
          "FURTO - OUTROS",
          "ROUBO - OUTROS",
          "FURTO DE VEÍCULO",
          "LESÃO CORPORAL DOLOSA",
          "ROUBO DE VEÍCULO",
          "LESÃO CORPORAL CULPOSA POR ACIDENTE DE TRÂNSITO",
          "ROUBO DE CARGA",
          "TRAFICO DE ENTORPECENTES",
          "ESTUPRO DE VULNERÁVEL",
          "ESTUPRO"
         ],
         "xaxis": "x",
         "y": [
          422822,
          237488,
          72415,
          59231,
          27318,
          21310,
          5027,
          3921,
          3865,
          1321
         ],
         "yaxis": "y"
        },
        {
         "name": "%",
         "type": "scatter",
         "x": [
          "FURTO - OUTROS",
          "ROUBO - OUTROS",
          "FURTO DE VEÍCULO",
          "LESÃO CORPORAL DOLOSA",
          "ROUBO DE VEÍCULO",
          "LESÃO CORPORAL CULPOSA POR ACIDENTE DE TRÂNSITO",
          "ROUBO DE CARGA",
          "TRAFICO DE ENTORPECENTES",
          "ESTUPRO DE VULNERÁVEL",
          "ESTUPRO"
         ],
         "xaxis": "x",
         "y": [
          49.19148896564802,
          76.82105490941117,
          85.24588065983902,
          92.13686807989828,
          95.31506858877333,
          97.79429301384573,
          98.37913868183442,
          98.83531132241202,
          99.28496887299414,
          99.43865519235221
         ],
         "yaxis": "y2"
        }
       ],
       "layout": {
        "template": {
         "data": {
          "bar": [
           {
            "error_x": {
             "color": "rgb(36,36,36)"
            },
            "error_y": {
             "color": "rgb(36,36,36)"
            },
            "marker": {
             "line": {
              "color": "white",
              "width": 0.5
             },
             "pattern": {
              "fillmode": "overlay",
              "size": 10,
              "solidity": 0.2
             }
            },
            "type": "bar"
           }
          ],
          "barpolar": [
           {
            "marker": {
             "line": {
              "color": "white",
              "width": 0.5
             },
             "pattern": {
              "fillmode": "overlay",
              "size": 10,
              "solidity": 0.2
             }
            },
            "type": "barpolar"
           }
          ],
          "carpet": [
           {
            "aaxis": {
             "endlinecolor": "rgb(36,36,36)",
             "gridcolor": "white",
             "linecolor": "white",
             "minorgridcolor": "white",
             "startlinecolor": "rgb(36,36,36)"
            },
            "baxis": {
             "endlinecolor": "rgb(36,36,36)",
             "gridcolor": "white",
             "linecolor": "white",
             "minorgridcolor": "white",
             "startlinecolor": "rgb(36,36,36)"
            },
            "type": "carpet"
           }
          ],
          "choropleth": [
           {
            "colorbar": {
             "outlinewidth": 1,
             "tickcolor": "rgb(36,36,36)",
             "ticks": "outside"
            },
            "type": "choropleth"
           }
          ],
          "contour": [
           {
            "colorbar": {
             "outlinewidth": 1,
             "tickcolor": "rgb(36,36,36)",
             "ticks": "outside"
            },
            "colorscale": [
             [
              0,
              "#440154"
             ],
             [
              0.1111111111111111,
              "#482878"
             ],
             [
              0.2222222222222222,
              "#3e4989"
             ],
             [
              0.3333333333333333,
              "#31688e"
             ],
             [
              0.4444444444444444,
              "#26828e"
             ],
             [
              0.5555555555555556,
              "#1f9e89"
             ],
             [
              0.6666666666666666,
              "#35b779"
             ],
             [
              0.7777777777777778,
              "#6ece58"
             ],
             [
              0.8888888888888888,
              "#b5de2b"
             ],
             [
              1,
              "#fde725"
             ]
            ],
            "type": "contour"
           }
          ],
          "contourcarpet": [
           {
            "colorbar": {
             "outlinewidth": 1,
             "tickcolor": "rgb(36,36,36)",
             "ticks": "outside"
            },
            "type": "contourcarpet"
           }
          ],
          "heatmap": [
           {
            "colorbar": {
             "outlinewidth": 1,
             "tickcolor": "rgb(36,36,36)",
             "ticks": "outside"
            },
            "colorscale": [
             [
              0,
              "#440154"
             ],
             [
              0.1111111111111111,
              "#482878"
             ],
             [
              0.2222222222222222,
              "#3e4989"
             ],
             [
              0.3333333333333333,
              "#31688e"
             ],
             [
              0.4444444444444444,
              "#26828e"
             ],
             [
              0.5555555555555556,
              "#1f9e89"
             ],
             [
              0.6666666666666666,
              "#35b779"
             ],
             [
              0.7777777777777778,
              "#6ece58"
             ],
             [
              0.8888888888888888,
              "#b5de2b"
             ],
             [
              1,
              "#fde725"
             ]
            ],
            "type": "heatmap"
           }
          ],
          "heatmapgl": [
           {
            "colorbar": {
             "outlinewidth": 1,
             "tickcolor": "rgb(36,36,36)",
             "ticks": "outside"
            },
            "colorscale": [
             [
              0,
              "#440154"
             ],
             [
              0.1111111111111111,
              "#482878"
             ],
             [
              0.2222222222222222,
              "#3e4989"
             ],
             [
              0.3333333333333333,
              "#31688e"
             ],
             [
              0.4444444444444444,
              "#26828e"
             ],
             [
              0.5555555555555556,
              "#1f9e89"
             ],
             [
              0.6666666666666666,
              "#35b779"
             ],
             [
              0.7777777777777778,
              "#6ece58"
             ],
             [
              0.8888888888888888,
              "#b5de2b"
             ],
             [
              1,
              "#fde725"
             ]
            ],
            "type": "heatmapgl"
           }
          ],
          "histogram": [
           {
            "marker": {
             "line": {
              "color": "white",
              "width": 0.6
             }
            },
            "type": "histogram"
           }
          ],
          "histogram2d": [
           {
            "colorbar": {
             "outlinewidth": 1,
             "tickcolor": "rgb(36,36,36)",
             "ticks": "outside"
            },
            "colorscale": [
             [
              0,
              "#440154"
             ],
             [
              0.1111111111111111,
              "#482878"
             ],
             [
              0.2222222222222222,
              "#3e4989"
             ],
             [
              0.3333333333333333,
              "#31688e"
             ],
             [
              0.4444444444444444,
              "#26828e"
             ],
             [
              0.5555555555555556,
              "#1f9e89"
             ],
             [
              0.6666666666666666,
              "#35b779"
             ],
             [
              0.7777777777777778,
              "#6ece58"
             ],
             [
              0.8888888888888888,
              "#b5de2b"
             ],
             [
              1,
              "#fde725"
             ]
            ],
            "type": "histogram2d"
           }
          ],
          "histogram2dcontour": [
           {
            "colorbar": {
             "outlinewidth": 1,
             "tickcolor": "rgb(36,36,36)",
             "ticks": "outside"
            },
            "colorscale": [
             [
              0,
              "#440154"
             ],
             [
              0.1111111111111111,
              "#482878"
             ],
             [
              0.2222222222222222,
              "#3e4989"
             ],
             [
              0.3333333333333333,
              "#31688e"
             ],
             [
              0.4444444444444444,
              "#26828e"
             ],
             [
              0.5555555555555556,
              "#1f9e89"
             ],
             [
              0.6666666666666666,
              "#35b779"
             ],
             [
              0.7777777777777778,
              "#6ece58"
             ],
             [
              0.8888888888888888,
              "#b5de2b"
             ],
             [
              1,
              "#fde725"
             ]
            ],
            "type": "histogram2dcontour"
           }
          ],
          "mesh3d": [
           {
            "colorbar": {
             "outlinewidth": 1,
             "tickcolor": "rgb(36,36,36)",
             "ticks": "outside"
            },
            "type": "mesh3d"
           }
          ],
          "parcoords": [
           {
            "line": {
             "colorbar": {
              "outlinewidth": 1,
              "tickcolor": "rgb(36,36,36)",
              "ticks": "outside"
             }
            },
            "type": "parcoords"
           }
          ],
          "pie": [
           {
            "automargin": true,
            "type": "pie"
           }
          ],
          "scatter": [
           {
            "fillpattern": {
             "fillmode": "overlay",
             "size": 10,
             "solidity": 0.2
            },
            "type": "scatter"
           }
          ],
          "scatter3d": [
           {
            "line": {
             "colorbar": {
              "outlinewidth": 1,
              "tickcolor": "rgb(36,36,36)",
              "ticks": "outside"
             }
            },
            "marker": {
             "colorbar": {
              "outlinewidth": 1,
              "tickcolor": "rgb(36,36,36)",
              "ticks": "outside"
             }
            },
            "type": "scatter3d"
           }
          ],
          "scattercarpet": [
           {
            "marker": {
             "colorbar": {
              "outlinewidth": 1,
              "tickcolor": "rgb(36,36,36)",
              "ticks": "outside"
             }
            },
            "type": "scattercarpet"
           }
          ],
          "scattergeo": [
           {
            "marker": {
             "colorbar": {
              "outlinewidth": 1,
              "tickcolor": "rgb(36,36,36)",
              "ticks": "outside"
             }
            },
            "type": "scattergeo"
           }
          ],
          "scattergl": [
           {
            "marker": {
             "colorbar": {
              "outlinewidth": 1,
              "tickcolor": "rgb(36,36,36)",
              "ticks": "outside"
             }
            },
            "type": "scattergl"
           }
          ],
          "scattermapbox": [
           {
            "marker": {
             "colorbar": {
              "outlinewidth": 1,
              "tickcolor": "rgb(36,36,36)",
              "ticks": "outside"
             }
            },
            "type": "scattermapbox"
           }
          ],
          "scatterpolar": [
           {
            "marker": {
             "colorbar": {
              "outlinewidth": 1,
              "tickcolor": "rgb(36,36,36)",
              "ticks": "outside"
             }
            },
            "type": "scatterpolar"
           }
          ],
          "scatterpolargl": [
           {
            "marker": {
             "colorbar": {
              "outlinewidth": 1,
              "tickcolor": "rgb(36,36,36)",
              "ticks": "outside"
             }
            },
            "type": "scatterpolargl"
           }
          ],
          "scatterternary": [
           {
            "marker": {
             "colorbar": {
              "outlinewidth": 1,
              "tickcolor": "rgb(36,36,36)",
              "ticks": "outside"
             }
            },
            "type": "scatterternary"
           }
          ],
          "surface": [
           {
            "colorbar": {
             "outlinewidth": 1,
             "tickcolor": "rgb(36,36,36)",
             "ticks": "outside"
            },
            "colorscale": [
             [
              0,
              "#440154"
             ],
             [
              0.1111111111111111,
              "#482878"
             ],
             [
              0.2222222222222222,
              "#3e4989"
             ],
             [
              0.3333333333333333,
              "#31688e"
             ],
             [
              0.4444444444444444,
              "#26828e"
             ],
             [
              0.5555555555555556,
              "#1f9e89"
             ],
             [
              0.6666666666666666,
              "#35b779"
             ],
             [
              0.7777777777777778,
              "#6ece58"
             ],
             [
              0.8888888888888888,
              "#b5de2b"
             ],
             [
              1,
              "#fde725"
             ]
            ],
            "type": "surface"
           }
          ],
          "table": [
           {
            "cells": {
             "fill": {
              "color": "rgb(237,237,237)"
             },
             "line": {
              "color": "white"
             }
            },
            "header": {
             "fill": {
              "color": "rgb(217,217,217)"
             },
             "line": {
              "color": "white"
             }
            },
            "type": "table"
           }
          ]
         },
         "layout": {
          "annotationdefaults": {
           "arrowhead": 0,
           "arrowwidth": 1
          },
          "autotypenumbers": "strict",
          "coloraxis": {
           "colorbar": {
            "outlinewidth": 1,
            "tickcolor": "rgb(36,36,36)",
            "ticks": "outside"
           }
          },
          "colorscale": {
           "diverging": [
            [
             0,
             "rgb(103,0,31)"
            ],
            [
             0.1,
             "rgb(178,24,43)"
            ],
            [
             0.2,
             "rgb(214,96,77)"
            ],
            [
             0.3,
             "rgb(244,165,130)"
            ],
            [
             0.4,
             "rgb(253,219,199)"
            ],
            [
             0.5,
             "rgb(247,247,247)"
            ],
            [
             0.6,
             "rgb(209,229,240)"
            ],
            [
             0.7,
             "rgb(146,197,222)"
            ],
            [
             0.8,
             "rgb(67,147,195)"
            ],
            [
             0.9,
             "rgb(33,102,172)"
            ],
            [
             1,
             "rgb(5,48,97)"
            ]
           ],
           "sequential": [
            [
             0,
             "#440154"
            ],
            [
             0.1111111111111111,
             "#482878"
            ],
            [
             0.2222222222222222,
             "#3e4989"
            ],
            [
             0.3333333333333333,
             "#31688e"
            ],
            [
             0.4444444444444444,
             "#26828e"
            ],
            [
             0.5555555555555556,
             "#1f9e89"
            ],
            [
             0.6666666666666666,
             "#35b779"
            ],
            [
             0.7777777777777778,
             "#6ece58"
            ],
            [
             0.8888888888888888,
             "#b5de2b"
            ],
            [
             1,
             "#fde725"
            ]
           ],
           "sequentialminus": [
            [
             0,
             "#440154"
            ],
            [
             0.1111111111111111,
             "#482878"
            ],
            [
             0.2222222222222222,
             "#3e4989"
            ],
            [
             0.3333333333333333,
             "#31688e"
            ],
            [
             0.4444444444444444,
             "#26828e"
            ],
            [
             0.5555555555555556,
             "#1f9e89"
            ],
            [
             0.6666666666666666,
             "#35b779"
            ],
            [
             0.7777777777777778,
             "#6ece58"
            ],
            [
             0.8888888888888888,
             "#b5de2b"
            ],
            [
             1,
             "#fde725"
            ]
           ]
          },
          "colorway": [
           "#1F77B4",
           "#FF7F0E",
           "#2CA02C",
           "#D62728",
           "#9467BD",
           "#8C564B",
           "#E377C2",
           "#7F7F7F",
           "#BCBD22",
           "#17BECF"
          ],
          "font": {
           "color": "rgb(36,36,36)"
          },
          "geo": {
           "bgcolor": "white",
           "lakecolor": "white",
           "landcolor": "white",
           "showlakes": true,
           "showland": true,
           "subunitcolor": "white"
          },
          "hoverlabel": {
           "align": "left"
          },
          "hovermode": "closest",
          "mapbox": {
           "style": "light"
          },
          "paper_bgcolor": "white",
          "plot_bgcolor": "white",
          "polar": {
           "angularaxis": {
            "gridcolor": "rgb(232,232,232)",
            "linecolor": "rgb(36,36,36)",
            "showgrid": false,
            "showline": true,
            "ticks": "outside"
           },
           "bgcolor": "white",
           "radialaxis": {
            "gridcolor": "rgb(232,232,232)",
            "linecolor": "rgb(36,36,36)",
            "showgrid": false,
            "showline": true,
            "ticks": "outside"
           }
          },
          "scene": {
           "xaxis": {
            "backgroundcolor": "white",
            "gridcolor": "rgb(232,232,232)",
            "gridwidth": 2,
            "linecolor": "rgb(36,36,36)",
            "showbackground": true,
            "showgrid": false,
            "showline": true,
            "ticks": "outside",
            "zeroline": false,
            "zerolinecolor": "rgb(36,36,36)"
           },
           "yaxis": {
            "backgroundcolor": "white",
            "gridcolor": "rgb(232,232,232)",
            "gridwidth": 2,
            "linecolor": "rgb(36,36,36)",
            "showbackground": true,
            "showgrid": false,
            "showline": true,
            "ticks": "outside",
            "zeroline": false,
            "zerolinecolor": "rgb(36,36,36)"
           },
           "zaxis": {
            "backgroundcolor": "white",
            "gridcolor": "rgb(232,232,232)",
            "gridwidth": 2,
            "linecolor": "rgb(36,36,36)",
            "showbackground": true,
            "showgrid": false,
            "showline": true,
            "ticks": "outside",
            "zeroline": false,
            "zerolinecolor": "rgb(36,36,36)"
           }
          },
          "shapedefaults": {
           "fillcolor": "black",
           "line": {
            "width": 0
           },
           "opacity": 0.3
          },
          "ternary": {
           "aaxis": {
            "gridcolor": "rgb(232,232,232)",
            "linecolor": "rgb(36,36,36)",
            "showgrid": false,
            "showline": true,
            "ticks": "outside"
           },
           "baxis": {
            "gridcolor": "rgb(232,232,232)",
            "linecolor": "rgb(36,36,36)",
            "showgrid": false,
            "showline": true,
            "ticks": "outside"
           },
           "bgcolor": "white",
           "caxis": {
            "gridcolor": "rgb(232,232,232)",
            "linecolor": "rgb(36,36,36)",
            "showgrid": false,
            "showline": true,
            "ticks": "outside"
           }
          },
          "title": {
           "x": 0.05
          },
          "xaxis": {
           "automargin": true,
           "gridcolor": "rgb(232,232,232)",
           "linecolor": "rgb(36,36,36)",
           "showgrid": false,
           "showline": true,
           "ticks": "outside",
           "title": {
            "standoff": 15
           },
           "zeroline": false,
           "zerolinecolor": "rgb(36,36,36)"
          },
          "yaxis": {
           "automargin": true,
           "gridcolor": "rgb(232,232,232)",
           "linecolor": "rgb(36,36,36)",
           "showgrid": false,
           "showline": true,
           "ticks": "outside",
           "title": {
            "standoff": 15
           },
           "zeroline": false,
           "zerolinecolor": "rgb(36,36,36)"
          }
         }
        },
        "title": {
         "text": "Crimes Mais Cometidos em São Paulo"
        },
        "xaxis": {
         "anchor": "y",
         "domain": [
          0,
          0.94
         ],
         "title": {
          "text": "Crimes"
         }
        },
        "yaxis": {
         "anchor": "x",
         "domain": [
          0,
          1
         ]
        },
        "yaxis2": {
         "anchor": "x",
         "overlaying": "y",
         "side": "right"
        }
       }
      }
     },
     "metadata": {},
     "output_type": "display_data"
    }
   ],
   "source": [
    "# Create figure with secondary y-axis\n",
    "fig = make_subplots(specs=[[{\"secondary_y\": True}]])\n",
    "\n",
    "# Add traces\n",
    "fig.add_trace(\n",
    "    go.Bar(x=crimes_mais_cometidos['NATUREZA_APURADA'], y = crimes_mais_cometidos['freq'], name='Frequência'),\n",
    "    secondary_y=False,\n",
    ")\n",
    "\n",
    "fig.add_trace(\n",
    "    go.Line(x=crimes_mais_cometidos['NATUREZA_APURADA'], y = crimes_mais_cometidos['Porcentagem Acumulada'], name='%'),\n",
    "    secondary_y=True,\n",
    ")\n",
    "\n",
    "# Add figure title\n",
    "fig.update_layout(\n",
    "    title_text=\"Crimes Mais Cometidos em São Paulo\",\n",
    "    template = 'simple_white',\n",
    ")\n",
    "\n",
    "# Set x-axis title\n",
    "fig.update_xaxes(title_text=\"Crimes\")\n",
    "\n",
    "# Set y-axes titles\n",
    "# fig.update_yaxes(title_text=\"Frequência\", secondary_y=False)\n",
    "# fig.update_yaxes(title_text=\"% Acumulada\", secondary_y=True)\n",
    "\n",
    "fig.show()"
   ]
  },
  {
   "cell_type": "markdown",
   "metadata": {},
   "source": [
    "## Bairros com mais Crimes gerais"
   ]
  },
  {
   "cell_type": "code",
   "execution_count": 13,
   "metadata": {},
   "outputs": [
    {
     "data": {
      "text/html": [
       "<div>\n",
       "<style scoped>\n",
       "    .dataframe tbody tr th:only-of-type {\n",
       "        vertical-align: middle;\n",
       "    }\n",
       "\n",
       "    .dataframe tbody tr th {\n",
       "        vertical-align: top;\n",
       "    }\n",
       "\n",
       "    .dataframe thead th {\n",
       "        text-align: right;\n",
       "    }\n",
       "</style>\n",
       "<table border=\"1\" class=\"dataframe\">\n",
       "  <thead>\n",
       "    <tr style=\"text-align: right;\">\n",
       "      <th></th>\n",
       "      <th>BAIRRO</th>\n",
       "      <th>freq</th>\n",
       "      <th>LATITUDE</th>\n",
       "      <th>LONGITUDE</th>\n",
       "      <th>Porcentagem Acumulada</th>\n",
       "    </tr>\n",
       "  </thead>\n",
       "  <tbody>\n",
       "    <tr>\n",
       "      <th>0</th>\n",
       "      <td>REPUBLICA</td>\n",
       "      <td>20584</td>\n",
       "      <td>-23.543003</td>\n",
       "      <td>-46.641091</td>\n",
       "      <td>2.404049</td>\n",
       "    </tr>\n",
       "    <tr>\n",
       "      <th>1</th>\n",
       "      <td>PINHEIROS</td>\n",
       "      <td>14937</td>\n",
       "      <td>-23.562994</td>\n",
       "      <td>-46.690057</td>\n",
       "      <td>4.148574</td>\n",
       "    </tr>\n",
       "    <tr>\n",
       "      <th>2</th>\n",
       "      <td>BELA VISTA</td>\n",
       "      <td>14377</td>\n",
       "      <td>-23.559838</td>\n",
       "      <td>-46.649024</td>\n",
       "      <td>5.827694</td>\n",
       "    </tr>\n",
       "    <tr>\n",
       "      <th>3</th>\n",
       "      <td>SE</td>\n",
       "      <td>13373</td>\n",
       "      <td>-23.550164</td>\n",
       "      <td>-46.632470</td>\n",
       "      <td>7.389556</td>\n",
       "    </tr>\n",
       "    <tr>\n",
       "      <th>4</th>\n",
       "      <td>CAPAO REDONDO</td>\n",
       "      <td>12516</td>\n",
       "      <td>-23.664576</td>\n",
       "      <td>-46.778514</td>\n",
       "      <td>8.851326</td>\n",
       "    </tr>\n",
       "    <tr>\n",
       "      <th>5</th>\n",
       "      <td>SANTANA</td>\n",
       "      <td>12313</td>\n",
       "      <td>-23.503539</td>\n",
       "      <td>-46.625320</td>\n",
       "      <td>10.289388</td>\n",
       "    </tr>\n",
       "    <tr>\n",
       "      <th>6</th>\n",
       "      <td>SANTO AMARO</td>\n",
       "      <td>12293</td>\n",
       "      <td>-23.648663</td>\n",
       "      <td>-46.706053</td>\n",
       "      <td>11.725113</td>\n",
       "    </tr>\n",
       "    <tr>\n",
       "      <th>7</th>\n",
       "      <td>VILA MARIANA</td>\n",
       "      <td>12043</td>\n",
       "      <td>-23.583607</td>\n",
       "      <td>-46.639087</td>\n",
       "      <td>13.131641</td>\n",
       "    </tr>\n",
       "    <tr>\n",
       "      <th>8</th>\n",
       "      <td>ITAIM BIBI</td>\n",
       "      <td>11832</td>\n",
       "      <td>-23.595077</td>\n",
       "      <td>-46.682190</td>\n",
       "      <td>14.513526</td>\n",
       "    </tr>\n",
       "    <tr>\n",
       "      <th>9</th>\n",
       "      <td>GRAJAU</td>\n",
       "      <td>11373</td>\n",
       "      <td>-23.749973</td>\n",
       "      <td>-46.684382</td>\n",
       "      <td>15.841803</td>\n",
       "    </tr>\n",
       "    <tr>\n",
       "      <th>10</th>\n",
       "      <td>CONSOLACAO</td>\n",
       "      <td>11035</td>\n",
       "      <td>-23.551960</td>\n",
       "      <td>-46.655006</td>\n",
       "      <td>17.130604</td>\n",
       "    </tr>\n",
       "    <tr>\n",
       "      <th>11</th>\n",
       "      <td>JARDIM PAULISTA</td>\n",
       "      <td>10765</td>\n",
       "      <td>-23.562018</td>\n",
       "      <td>-46.659877</td>\n",
       "      <td>18.387871</td>\n",
       "    </tr>\n",
       "    <tr>\n",
       "      <th>12</th>\n",
       "      <td>ITAQUERA</td>\n",
       "      <td>10617</td>\n",
       "      <td>-23.535429</td>\n",
       "      <td>-46.454366</td>\n",
       "      <td>19.627854</td>\n",
       "    </tr>\n",
       "    <tr>\n",
       "      <th>13</th>\n",
       "      <td>BARRA FUNDA</td>\n",
       "      <td>10082</td>\n",
       "      <td>-23.526671</td>\n",
       "      <td>-46.666669</td>\n",
       "      <td>20.805352</td>\n",
       "    </tr>\n",
       "    <tr>\n",
       "      <th>14</th>\n",
       "      <td>IPIRANGA</td>\n",
       "      <td>9882</td>\n",
       "      <td>-23.592005</td>\n",
       "      <td>-46.604143</td>\n",
       "      <td>21.959492</td>\n",
       "    </tr>\n",
       "    <tr>\n",
       "      <th>15</th>\n",
       "      <td>CIDADE DUTRA</td>\n",
       "      <td>9709</td>\n",
       "      <td>-23.716778</td>\n",
       "      <td>-46.700347</td>\n",
       "      <td>23.093427</td>\n",
       "    </tr>\n",
       "    <tr>\n",
       "      <th>16</th>\n",
       "      <td>BOM RETIRO</td>\n",
       "      <td>9658</td>\n",
       "      <td>-23.528972</td>\n",
       "      <td>-46.633472</td>\n",
       "      <td>24.221405</td>\n",
       "    </tr>\n",
       "    <tr>\n",
       "      <th>17</th>\n",
       "      <td>JABAQUARA</td>\n",
       "      <td>9105</td>\n",
       "      <td>-23.646302</td>\n",
       "      <td>-46.643608</td>\n",
       "      <td>25.284798</td>\n",
       "    </tr>\n",
       "    <tr>\n",
       "      <th>18</th>\n",
       "      <td>LIBERDADE</td>\n",
       "      <td>9099</td>\n",
       "      <td>-23.559516</td>\n",
       "      <td>-46.632484</td>\n",
       "      <td>26.347489</td>\n",
       "    </tr>\n",
       "    <tr>\n",
       "      <th>19</th>\n",
       "      <td>TATUAPE</td>\n",
       "      <td>9007</td>\n",
       "      <td>-23.540448</td>\n",
       "      <td>-46.568686</td>\n",
       "      <td>27.399436</td>\n",
       "    </tr>\n",
       "  </tbody>\n",
       "</table>\n",
       "</div>"
      ],
      "text/plain": [
       "             BAIRRO   freq   LATITUDE  LONGITUDE  Porcentagem Acumulada\n",
       "0         REPUBLICA  20584 -23.543003 -46.641091               2.404049\n",
       "1         PINHEIROS  14937 -23.562994 -46.690057               4.148574\n",
       "2        BELA VISTA  14377 -23.559838 -46.649024               5.827694\n",
       "3                SE  13373 -23.550164 -46.632470               7.389556\n",
       "4     CAPAO REDONDO  12516 -23.664576 -46.778514               8.851326\n",
       "5           SANTANA  12313 -23.503539 -46.625320              10.289388\n",
       "6       SANTO AMARO  12293 -23.648663 -46.706053              11.725113\n",
       "7      VILA MARIANA  12043 -23.583607 -46.639087              13.131641\n",
       "8        ITAIM BIBI  11832 -23.595077 -46.682190              14.513526\n",
       "9            GRAJAU  11373 -23.749973 -46.684382              15.841803\n",
       "10       CONSOLACAO  11035 -23.551960 -46.655006              17.130604\n",
       "11  JARDIM PAULISTA  10765 -23.562018 -46.659877              18.387871\n",
       "12         ITAQUERA  10617 -23.535429 -46.454366              19.627854\n",
       "13      BARRA FUNDA  10082 -23.526671 -46.666669              20.805352\n",
       "14         IPIRANGA   9882 -23.592005 -46.604143              21.959492\n",
       "15     CIDADE DUTRA   9709 -23.716778 -46.700347              23.093427\n",
       "16       BOM RETIRO   9658 -23.528972 -46.633472              24.221405\n",
       "17        JABAQUARA   9105 -23.646302 -46.643608              25.284798\n",
       "18        LIBERDADE   9099 -23.559516 -46.632484              26.347489\n",
       "19          TATUAPE   9007 -23.540448 -46.568686              27.399436"
      ]
     },
     "execution_count": 13,
     "metadata": {},
     "output_type": "execute_result"
    }
   ],
   "source": [
    "bairros_mais_crimes = df2.value_counts(['BAIRRO']).reset_index().rename(columns={0: 'freq'})\n",
    "bairros_mais_crimes = bairros_mais_crimes.merge(lat_long, how = 'left', on = 'BAIRRO')\n",
    "bairros_mais_crimes['Porcentagem Acumulada'] = bairros_mais_crimes['freq'].cumsum() / bairros_mais_crimes['freq'].sum() * 100\n",
    "bairros_mais_crimes = bairros_mais_crimes[0:20]\n",
    "bairros_mais_crimes"
   ]
  },
  {
   "cell_type": "markdown",
   "metadata": {},
   "source": [
    "### Pareto e Mapa geográfico"
   ]
  },
  {
   "cell_type": "code",
   "execution_count": 14,
   "metadata": {},
   "outputs": [
    {
     "name": "stderr",
     "output_type": "stream",
     "text": [
      "c:\\Users\\caiov\\AppData\\Local\\Programs\\Python\\Python311\\Lib\\site-packages\\plotly\\graph_objs\\_deprecations.py:378: DeprecationWarning:\n",
      "\n",
      "plotly.graph_objs.Line is deprecated.\n",
      "Please replace it with one of the following more specific types\n",
      "  - plotly.graph_objs.scatter.Line\n",
      "  - plotly.graph_objs.layout.shape.Line\n",
      "  - etc.\n",
      "\n",
      "\n"
     ]
    },
    {
     "data": {
      "application/vnd.plotly.v1+json": {
       "config": {
        "plotlyServerURL": "https://plot.ly"
       },
       "data": [
        {
         "name": "Frequência",
         "type": "bar",
         "x": [
          "REPUBLICA",
          "PINHEIROS",
          "BELA VISTA",
          "SE",
          "CAPAO REDONDO",
          "SANTANA",
          "SANTO AMARO",
          "VILA MARIANA",
          "ITAIM BIBI",
          "GRAJAU",
          "CONSOLACAO",
          "JARDIM PAULISTA",
          "ITAQUERA",
          "BARRA FUNDA",
          "IPIRANGA",
          "CIDADE DUTRA",
          "BOM RETIRO",
          "JABAQUARA",
          "LIBERDADE",
          "TATUAPE"
         ],
         "xaxis": "x",
         "y": [
          20584,
          14937,
          14377,
          13373,
          12516,
          12313,
          12293,
          12043,
          11832,
          11373,
          11035,
          10765,
          10617,
          10082,
          9882,
          9709,
          9658,
          9105,
          9099,
          9007
         ],
         "yaxis": "y"
        },
        {
         "name": "%",
         "type": "scatter",
         "x": [
          "REPUBLICA",
          "PINHEIROS",
          "BELA VISTA",
          "SE",
          "CAPAO REDONDO",
          "SANTANA",
          "SANTO AMARO",
          "VILA MARIANA",
          "ITAIM BIBI",
          "GRAJAU",
          "CONSOLACAO",
          "JARDIM PAULISTA",
          "ITAQUERA",
          "BARRA FUNDA",
          "IPIRANGA",
          "CIDADE DUTRA",
          "BOM RETIRO",
          "JABAQUARA",
          "LIBERDADE",
          "TATUAPE"
         ],
         "xaxis": "x",
         "y": [
          2.4040494170904276,
          4.148573617589831,
          5.827694219489805,
          7.389555512472233,
          8.851325941169463,
          10.2893875653744,
          11.725113346772217,
          13.131641093081,
          14.513525697774643,
          15.841802710044824,
          17.130603978874635,
          18.3878713698083,
          19.62785352396925,
          20.80535188303968,
          21.95949181403888,
          23.093426704756475,
          24.22140519631591,
          25.284797634258403,
          26.347489319358765,
          27.399436127546362
         ],
         "yaxis": "y2"
        }
       ],
       "layout": {
        "template": {
         "data": {
          "bar": [
           {
            "error_x": {
             "color": "rgb(36,36,36)"
            },
            "error_y": {
             "color": "rgb(36,36,36)"
            },
            "marker": {
             "line": {
              "color": "white",
              "width": 0.5
             },
             "pattern": {
              "fillmode": "overlay",
              "size": 10,
              "solidity": 0.2
             }
            },
            "type": "bar"
           }
          ],
          "barpolar": [
           {
            "marker": {
             "line": {
              "color": "white",
              "width": 0.5
             },
             "pattern": {
              "fillmode": "overlay",
              "size": 10,
              "solidity": 0.2
             }
            },
            "type": "barpolar"
           }
          ],
          "carpet": [
           {
            "aaxis": {
             "endlinecolor": "rgb(36,36,36)",
             "gridcolor": "white",
             "linecolor": "white",
             "minorgridcolor": "white",
             "startlinecolor": "rgb(36,36,36)"
            },
            "baxis": {
             "endlinecolor": "rgb(36,36,36)",
             "gridcolor": "white",
             "linecolor": "white",
             "minorgridcolor": "white",
             "startlinecolor": "rgb(36,36,36)"
            },
            "type": "carpet"
           }
          ],
          "choropleth": [
           {
            "colorbar": {
             "outlinewidth": 1,
             "tickcolor": "rgb(36,36,36)",
             "ticks": "outside"
            },
            "type": "choropleth"
           }
          ],
          "contour": [
           {
            "colorbar": {
             "outlinewidth": 1,
             "tickcolor": "rgb(36,36,36)",
             "ticks": "outside"
            },
            "colorscale": [
             [
              0,
              "#440154"
             ],
             [
              0.1111111111111111,
              "#482878"
             ],
             [
              0.2222222222222222,
              "#3e4989"
             ],
             [
              0.3333333333333333,
              "#31688e"
             ],
             [
              0.4444444444444444,
              "#26828e"
             ],
             [
              0.5555555555555556,
              "#1f9e89"
             ],
             [
              0.6666666666666666,
              "#35b779"
             ],
             [
              0.7777777777777778,
              "#6ece58"
             ],
             [
              0.8888888888888888,
              "#b5de2b"
             ],
             [
              1,
              "#fde725"
             ]
            ],
            "type": "contour"
           }
          ],
          "contourcarpet": [
           {
            "colorbar": {
             "outlinewidth": 1,
             "tickcolor": "rgb(36,36,36)",
             "ticks": "outside"
            },
            "type": "contourcarpet"
           }
          ],
          "heatmap": [
           {
            "colorbar": {
             "outlinewidth": 1,
             "tickcolor": "rgb(36,36,36)",
             "ticks": "outside"
            },
            "colorscale": [
             [
              0,
              "#440154"
             ],
             [
              0.1111111111111111,
              "#482878"
             ],
             [
              0.2222222222222222,
              "#3e4989"
             ],
             [
              0.3333333333333333,
              "#31688e"
             ],
             [
              0.4444444444444444,
              "#26828e"
             ],
             [
              0.5555555555555556,
              "#1f9e89"
             ],
             [
              0.6666666666666666,
              "#35b779"
             ],
             [
              0.7777777777777778,
              "#6ece58"
             ],
             [
              0.8888888888888888,
              "#b5de2b"
             ],
             [
              1,
              "#fde725"
             ]
            ],
            "type": "heatmap"
           }
          ],
          "heatmapgl": [
           {
            "colorbar": {
             "outlinewidth": 1,
             "tickcolor": "rgb(36,36,36)",
             "ticks": "outside"
            },
            "colorscale": [
             [
              0,
              "#440154"
             ],
             [
              0.1111111111111111,
              "#482878"
             ],
             [
              0.2222222222222222,
              "#3e4989"
             ],
             [
              0.3333333333333333,
              "#31688e"
             ],
             [
              0.4444444444444444,
              "#26828e"
             ],
             [
              0.5555555555555556,
              "#1f9e89"
             ],
             [
              0.6666666666666666,
              "#35b779"
             ],
             [
              0.7777777777777778,
              "#6ece58"
             ],
             [
              0.8888888888888888,
              "#b5de2b"
             ],
             [
              1,
              "#fde725"
             ]
            ],
            "type": "heatmapgl"
           }
          ],
          "histogram": [
           {
            "marker": {
             "line": {
              "color": "white",
              "width": 0.6
             }
            },
            "type": "histogram"
           }
          ],
          "histogram2d": [
           {
            "colorbar": {
             "outlinewidth": 1,
             "tickcolor": "rgb(36,36,36)",
             "ticks": "outside"
            },
            "colorscale": [
             [
              0,
              "#440154"
             ],
             [
              0.1111111111111111,
              "#482878"
             ],
             [
              0.2222222222222222,
              "#3e4989"
             ],
             [
              0.3333333333333333,
              "#31688e"
             ],
             [
              0.4444444444444444,
              "#26828e"
             ],
             [
              0.5555555555555556,
              "#1f9e89"
             ],
             [
              0.6666666666666666,
              "#35b779"
             ],
             [
              0.7777777777777778,
              "#6ece58"
             ],
             [
              0.8888888888888888,
              "#b5de2b"
             ],
             [
              1,
              "#fde725"
             ]
            ],
            "type": "histogram2d"
           }
          ],
          "histogram2dcontour": [
           {
            "colorbar": {
             "outlinewidth": 1,
             "tickcolor": "rgb(36,36,36)",
             "ticks": "outside"
            },
            "colorscale": [
             [
              0,
              "#440154"
             ],
             [
              0.1111111111111111,
              "#482878"
             ],
             [
              0.2222222222222222,
              "#3e4989"
             ],
             [
              0.3333333333333333,
              "#31688e"
             ],
             [
              0.4444444444444444,
              "#26828e"
             ],
             [
              0.5555555555555556,
              "#1f9e89"
             ],
             [
              0.6666666666666666,
              "#35b779"
             ],
             [
              0.7777777777777778,
              "#6ece58"
             ],
             [
              0.8888888888888888,
              "#b5de2b"
             ],
             [
              1,
              "#fde725"
             ]
            ],
            "type": "histogram2dcontour"
           }
          ],
          "mesh3d": [
           {
            "colorbar": {
             "outlinewidth": 1,
             "tickcolor": "rgb(36,36,36)",
             "ticks": "outside"
            },
            "type": "mesh3d"
           }
          ],
          "parcoords": [
           {
            "line": {
             "colorbar": {
              "outlinewidth": 1,
              "tickcolor": "rgb(36,36,36)",
              "ticks": "outside"
             }
            },
            "type": "parcoords"
           }
          ],
          "pie": [
           {
            "automargin": true,
            "type": "pie"
           }
          ],
          "scatter": [
           {
            "fillpattern": {
             "fillmode": "overlay",
             "size": 10,
             "solidity": 0.2
            },
            "type": "scatter"
           }
          ],
          "scatter3d": [
           {
            "line": {
             "colorbar": {
              "outlinewidth": 1,
              "tickcolor": "rgb(36,36,36)",
              "ticks": "outside"
             }
            },
            "marker": {
             "colorbar": {
              "outlinewidth": 1,
              "tickcolor": "rgb(36,36,36)",
              "ticks": "outside"
             }
            },
            "type": "scatter3d"
           }
          ],
          "scattercarpet": [
           {
            "marker": {
             "colorbar": {
              "outlinewidth": 1,
              "tickcolor": "rgb(36,36,36)",
              "ticks": "outside"
             }
            },
            "type": "scattercarpet"
           }
          ],
          "scattergeo": [
           {
            "marker": {
             "colorbar": {
              "outlinewidth": 1,
              "tickcolor": "rgb(36,36,36)",
              "ticks": "outside"
             }
            },
            "type": "scattergeo"
           }
          ],
          "scattergl": [
           {
            "marker": {
             "colorbar": {
              "outlinewidth": 1,
              "tickcolor": "rgb(36,36,36)",
              "ticks": "outside"
             }
            },
            "type": "scattergl"
           }
          ],
          "scattermapbox": [
           {
            "marker": {
             "colorbar": {
              "outlinewidth": 1,
              "tickcolor": "rgb(36,36,36)",
              "ticks": "outside"
             }
            },
            "type": "scattermapbox"
           }
          ],
          "scatterpolar": [
           {
            "marker": {
             "colorbar": {
              "outlinewidth": 1,
              "tickcolor": "rgb(36,36,36)",
              "ticks": "outside"
             }
            },
            "type": "scatterpolar"
           }
          ],
          "scatterpolargl": [
           {
            "marker": {
             "colorbar": {
              "outlinewidth": 1,
              "tickcolor": "rgb(36,36,36)",
              "ticks": "outside"
             }
            },
            "type": "scatterpolargl"
           }
          ],
          "scatterternary": [
           {
            "marker": {
             "colorbar": {
              "outlinewidth": 1,
              "tickcolor": "rgb(36,36,36)",
              "ticks": "outside"
             }
            },
            "type": "scatterternary"
           }
          ],
          "surface": [
           {
            "colorbar": {
             "outlinewidth": 1,
             "tickcolor": "rgb(36,36,36)",
             "ticks": "outside"
            },
            "colorscale": [
             [
              0,
              "#440154"
             ],
             [
              0.1111111111111111,
              "#482878"
             ],
             [
              0.2222222222222222,
              "#3e4989"
             ],
             [
              0.3333333333333333,
              "#31688e"
             ],
             [
              0.4444444444444444,
              "#26828e"
             ],
             [
              0.5555555555555556,
              "#1f9e89"
             ],
             [
              0.6666666666666666,
              "#35b779"
             ],
             [
              0.7777777777777778,
              "#6ece58"
             ],
             [
              0.8888888888888888,
              "#b5de2b"
             ],
             [
              1,
              "#fde725"
             ]
            ],
            "type": "surface"
           }
          ],
          "table": [
           {
            "cells": {
             "fill": {
              "color": "rgb(237,237,237)"
             },
             "line": {
              "color": "white"
             }
            },
            "header": {
             "fill": {
              "color": "rgb(217,217,217)"
             },
             "line": {
              "color": "white"
             }
            },
            "type": "table"
           }
          ]
         },
         "layout": {
          "annotationdefaults": {
           "arrowhead": 0,
           "arrowwidth": 1
          },
          "autotypenumbers": "strict",
          "coloraxis": {
           "colorbar": {
            "outlinewidth": 1,
            "tickcolor": "rgb(36,36,36)",
            "ticks": "outside"
           }
          },
          "colorscale": {
           "diverging": [
            [
             0,
             "rgb(103,0,31)"
            ],
            [
             0.1,
             "rgb(178,24,43)"
            ],
            [
             0.2,
             "rgb(214,96,77)"
            ],
            [
             0.3,
             "rgb(244,165,130)"
            ],
            [
             0.4,
             "rgb(253,219,199)"
            ],
            [
             0.5,
             "rgb(247,247,247)"
            ],
            [
             0.6,
             "rgb(209,229,240)"
            ],
            [
             0.7,
             "rgb(146,197,222)"
            ],
            [
             0.8,
             "rgb(67,147,195)"
            ],
            [
             0.9,
             "rgb(33,102,172)"
            ],
            [
             1,
             "rgb(5,48,97)"
            ]
           ],
           "sequential": [
            [
             0,
             "#440154"
            ],
            [
             0.1111111111111111,
             "#482878"
            ],
            [
             0.2222222222222222,
             "#3e4989"
            ],
            [
             0.3333333333333333,
             "#31688e"
            ],
            [
             0.4444444444444444,
             "#26828e"
            ],
            [
             0.5555555555555556,
             "#1f9e89"
            ],
            [
             0.6666666666666666,
             "#35b779"
            ],
            [
             0.7777777777777778,
             "#6ece58"
            ],
            [
             0.8888888888888888,
             "#b5de2b"
            ],
            [
             1,
             "#fde725"
            ]
           ],
           "sequentialminus": [
            [
             0,
             "#440154"
            ],
            [
             0.1111111111111111,
             "#482878"
            ],
            [
             0.2222222222222222,
             "#3e4989"
            ],
            [
             0.3333333333333333,
             "#31688e"
            ],
            [
             0.4444444444444444,
             "#26828e"
            ],
            [
             0.5555555555555556,
             "#1f9e89"
            ],
            [
             0.6666666666666666,
             "#35b779"
            ],
            [
             0.7777777777777778,
             "#6ece58"
            ],
            [
             0.8888888888888888,
             "#b5de2b"
            ],
            [
             1,
             "#fde725"
            ]
           ]
          },
          "colorway": [
           "#1F77B4",
           "#FF7F0E",
           "#2CA02C",
           "#D62728",
           "#9467BD",
           "#8C564B",
           "#E377C2",
           "#7F7F7F",
           "#BCBD22",
           "#17BECF"
          ],
          "font": {
           "color": "rgb(36,36,36)"
          },
          "geo": {
           "bgcolor": "white",
           "lakecolor": "white",
           "landcolor": "white",
           "showlakes": true,
           "showland": true,
           "subunitcolor": "white"
          },
          "hoverlabel": {
           "align": "left"
          },
          "hovermode": "closest",
          "mapbox": {
           "style": "light"
          },
          "paper_bgcolor": "white",
          "plot_bgcolor": "white",
          "polar": {
           "angularaxis": {
            "gridcolor": "rgb(232,232,232)",
            "linecolor": "rgb(36,36,36)",
            "showgrid": false,
            "showline": true,
            "ticks": "outside"
           },
           "bgcolor": "white",
           "radialaxis": {
            "gridcolor": "rgb(232,232,232)",
            "linecolor": "rgb(36,36,36)",
            "showgrid": false,
            "showline": true,
            "ticks": "outside"
           }
          },
          "scene": {
           "xaxis": {
            "backgroundcolor": "white",
            "gridcolor": "rgb(232,232,232)",
            "gridwidth": 2,
            "linecolor": "rgb(36,36,36)",
            "showbackground": true,
            "showgrid": false,
            "showline": true,
            "ticks": "outside",
            "zeroline": false,
            "zerolinecolor": "rgb(36,36,36)"
           },
           "yaxis": {
            "backgroundcolor": "white",
            "gridcolor": "rgb(232,232,232)",
            "gridwidth": 2,
            "linecolor": "rgb(36,36,36)",
            "showbackground": true,
            "showgrid": false,
            "showline": true,
            "ticks": "outside",
            "zeroline": false,
            "zerolinecolor": "rgb(36,36,36)"
           },
           "zaxis": {
            "backgroundcolor": "white",
            "gridcolor": "rgb(232,232,232)",
            "gridwidth": 2,
            "linecolor": "rgb(36,36,36)",
            "showbackground": true,
            "showgrid": false,
            "showline": true,
            "ticks": "outside",
            "zeroline": false,
            "zerolinecolor": "rgb(36,36,36)"
           }
          },
          "shapedefaults": {
           "fillcolor": "black",
           "line": {
            "width": 0
           },
           "opacity": 0.3
          },
          "ternary": {
           "aaxis": {
            "gridcolor": "rgb(232,232,232)",
            "linecolor": "rgb(36,36,36)",
            "showgrid": false,
            "showline": true,
            "ticks": "outside"
           },
           "baxis": {
            "gridcolor": "rgb(232,232,232)",
            "linecolor": "rgb(36,36,36)",
            "showgrid": false,
            "showline": true,
            "ticks": "outside"
           },
           "bgcolor": "white",
           "caxis": {
            "gridcolor": "rgb(232,232,232)",
            "linecolor": "rgb(36,36,36)",
            "showgrid": false,
            "showline": true,
            "ticks": "outside"
           }
          },
          "title": {
           "x": 0.05
          },
          "xaxis": {
           "automargin": true,
           "gridcolor": "rgb(232,232,232)",
           "linecolor": "rgb(36,36,36)",
           "showgrid": false,
           "showline": true,
           "ticks": "outside",
           "title": {
            "standoff": 15
           },
           "zeroline": false,
           "zerolinecolor": "rgb(36,36,36)"
          },
          "yaxis": {
           "automargin": true,
           "gridcolor": "rgb(232,232,232)",
           "linecolor": "rgb(36,36,36)",
           "showgrid": false,
           "showline": true,
           "ticks": "outside",
           "title": {
            "standoff": 15
           },
           "zeroline": false,
           "zerolinecolor": "rgb(36,36,36)"
          }
         }
        },
        "title": {
         "text": "Bairros com mais Crimes Registrados em São Paulo Jan/22 à Out/23"
        },
        "xaxis": {
         "anchor": "y",
         "domain": [
          0,
          0.94
         ],
         "title": {
          "text": "Bairros"
         }
        },
        "yaxis": {
         "anchor": "x",
         "domain": [
          0,
          1
         ]
        },
        "yaxis2": {
         "anchor": "x",
         "overlaying": "y",
         "side": "right"
        }
       }
      }
     },
     "metadata": {},
     "output_type": "display_data"
    }
   ],
   "source": [
    "# Create figure with secondary y-axis\n",
    "fig = make_subplots(specs=[[{\"secondary_y\": True}]])\n",
    "\n",
    "# Add traces\n",
    "fig.add_trace(\n",
    "    go.Bar(x=bairros_mais_crimes['BAIRRO'], y = bairros_mais_crimes['freq'], name='Frequência'),\n",
    "    secondary_y=False,\n",
    ")\n",
    "\n",
    "fig.add_trace(\n",
    "    go.Line(x=bairros_mais_crimes['BAIRRO'], y = bairros_mais_crimes['Porcentagem Acumulada'], name='%'),\n",
    "    secondary_y=True,\n",
    ")\n",
    "\n",
    "# Add figure title\n",
    "fig.update_layout(\n",
    "    title_text=\"Bairros com mais Crimes Registrados em São Paulo Jan/22 à Out/23\",\n",
    "    template = 'simple_white',\n",
    ")\n",
    "\n",
    "# Set x-axis title\n",
    "fig.update_xaxes(title_text=\"Bairros\")\n",
    "fig.show()"
   ]
  },
  {
   "cell_type": "code",
   "execution_count": 26,
   "metadata": {},
   "outputs": [
    {
     "data": {
      "application/vnd.plotly.v1+json": {
       "config": {
        "plotlyServerURL": "https://plot.ly"
       },
       "data": [
        {
         "customdata": [
          [
           "REPUBLICA"
          ],
          [
           "PINHEIROS"
          ],
          [
           "BELA VISTA"
          ],
          [
           "SE"
          ],
          [
           "CAPAO REDONDO"
          ],
          [
           "SANTANA"
          ],
          [
           "SANTO AMARO"
          ],
          [
           "VILA MARIANA"
          ],
          [
           "ITAIM BIBI"
          ],
          [
           "GRAJAU"
          ],
          [
           "CONSOLACAO"
          ],
          [
           "JARDIM PAULISTA"
          ],
          [
           "ITAQUERA"
          ],
          [
           "BARRA FUNDA"
          ],
          [
           "IPIRANGA"
          ],
          [
           "CIDADE DUTRA"
          ],
          [
           "BOM RETIRO"
          ],
          [
           "JABAQUARA"
          ],
          [
           "LIBERDADE"
          ],
          [
           "TATUAPE"
          ]
         ],
         "hovertemplate": "freq=%{marker.color}<br>LATITUDE=%{lat}<br>LONGITUDE=%{lon}<br>BAIRRO=%{customdata[0]}<extra></extra>",
         "lat": [
          -23.5430030639999,
          -23.5629938129999,
          -23.559838,
          -23.5501638709999,
          -23.664575707482648,
          -23.50353936,
          -23.6486630709999,
          -23.583607491583,
          -23.5950771517935,
          -23.749973301962,
          -23.5519595082999,
          -23.56201783,
          -23.5354289724538,
          -23.5266705,
          -23.59200505295775,
          -23.716778167,
          -23.528971596913202,
          -23.64630213,
          -23.5595163997878,
          -23.540448053
         ],
         "legendgroup": "",
         "lon": [
          -46.641090777315,
          -46.69005665697285,
          -46.64902409,
          -46.6324698255641,
          -46.77851424113575,
          -46.6253196119999,
          -46.706052730191,
          -46.6390867,
          -46.682190184375,
          -46.6843817825222,
          -46.65500619,
          -46.659876875,
          -46.4543658276363,
          -46.6666691087904,
          -46.6041425441,
          -46.7003470229999,
          -46.6334716506284,
          -46.6436081250106,
          -46.6324839179999,
          -46.568686094
         ],
         "marker": {
          "color": [
           20584,
           14937,
           14377,
           13373,
           12516,
           12313,
           12293,
           12043,
           11832,
           11373,
           11035,
           10765,
           10617,
           10082,
           9882,
           9709,
           9658,
           9105,
           9099,
           9007
          ],
          "coloraxis": "coloraxis",
          "opacity": 0.7,
          "size": [
           20584,
           14937,
           14377,
           13373,
           12516,
           12313,
           12293,
           12043,
           11832,
           11373,
           11035,
           10765,
           10617,
           10082,
           9882,
           9709,
           9658,
           9105,
           9099,
           9007
          ],
          "sizemode": "area",
          "sizeref": 51.46
         },
         "mode": "markers",
         "name": "",
         "showlegend": false,
         "subplot": "mapbox",
         "type": "scattermapbox"
        }
       ],
       "layout": {
        "coloraxis": {
         "colorbar": {
          "title": {
           "text": "freq"
          }
         },
         "colorscale": [
          [
           0,
           "rgb(150,0,90)"
          ],
          [
           0.125,
           "rgb(0,0,200)"
          ],
          [
           0.25,
           "rgb(0,25,255)"
          ],
          [
           0.375,
           "rgb(0,152,255)"
          ],
          [
           0.5,
           "rgb(44,255,150)"
          ],
          [
           0.625,
           "rgb(151,255,0)"
          ],
          [
           0.75,
           "rgb(255,234,0)"
          ],
          [
           0.875,
           "rgb(255,111,0)"
          ],
          [
           1,
           "rgb(255,0,0)"
          ]
         ]
        },
        "legend": {
         "itemsizing": "constant",
         "tracegroupgap": 0
        },
        "mapbox": {
         "center": {
          "lat": -23.54982384466997,
          "lon": -46.63386828465929
         },
         "domain": {
          "x": [
           0,
           1
          ],
          "y": [
           0,
           1
          ]
         },
         "style": "open-street-map",
         "zoom": 9
        },
        "template": {
         "data": {
          "bar": [
           {
            "error_x": {
             "color": "#2a3f5f"
            },
            "error_y": {
             "color": "#2a3f5f"
            },
            "marker": {
             "line": {
              "color": "#E5ECF6",
              "width": 0.5
             },
             "pattern": {
              "fillmode": "overlay",
              "size": 10,
              "solidity": 0.2
             }
            },
            "type": "bar"
           }
          ],
          "barpolar": [
           {
            "marker": {
             "line": {
              "color": "#E5ECF6",
              "width": 0.5
             },
             "pattern": {
              "fillmode": "overlay",
              "size": 10,
              "solidity": 0.2
             }
            },
            "type": "barpolar"
           }
          ],
          "carpet": [
           {
            "aaxis": {
             "endlinecolor": "#2a3f5f",
             "gridcolor": "white",
             "linecolor": "white",
             "minorgridcolor": "white",
             "startlinecolor": "#2a3f5f"
            },
            "baxis": {
             "endlinecolor": "#2a3f5f",
             "gridcolor": "white",
             "linecolor": "white",
             "minorgridcolor": "white",
             "startlinecolor": "#2a3f5f"
            },
            "type": "carpet"
           }
          ],
          "choropleth": [
           {
            "colorbar": {
             "outlinewidth": 0,
             "ticks": ""
            },
            "type": "choropleth"
           }
          ],
          "contour": [
           {
            "colorbar": {
             "outlinewidth": 0,
             "ticks": ""
            },
            "colorscale": [
             [
              0,
              "#0d0887"
             ],
             [
              0.1111111111111111,
              "#46039f"
             ],
             [
              0.2222222222222222,
              "#7201a8"
             ],
             [
              0.3333333333333333,
              "#9c179e"
             ],
             [
              0.4444444444444444,
              "#bd3786"
             ],
             [
              0.5555555555555556,
              "#d8576b"
             ],
             [
              0.6666666666666666,
              "#ed7953"
             ],
             [
              0.7777777777777778,
              "#fb9f3a"
             ],
             [
              0.8888888888888888,
              "#fdca26"
             ],
             [
              1,
              "#f0f921"
             ]
            ],
            "type": "contour"
           }
          ],
          "contourcarpet": [
           {
            "colorbar": {
             "outlinewidth": 0,
             "ticks": ""
            },
            "type": "contourcarpet"
           }
          ],
          "heatmap": [
           {
            "colorbar": {
             "outlinewidth": 0,
             "ticks": ""
            },
            "colorscale": [
             [
              0,
              "#0d0887"
             ],
             [
              0.1111111111111111,
              "#46039f"
             ],
             [
              0.2222222222222222,
              "#7201a8"
             ],
             [
              0.3333333333333333,
              "#9c179e"
             ],
             [
              0.4444444444444444,
              "#bd3786"
             ],
             [
              0.5555555555555556,
              "#d8576b"
             ],
             [
              0.6666666666666666,
              "#ed7953"
             ],
             [
              0.7777777777777778,
              "#fb9f3a"
             ],
             [
              0.8888888888888888,
              "#fdca26"
             ],
             [
              1,
              "#f0f921"
             ]
            ],
            "type": "heatmap"
           }
          ],
          "heatmapgl": [
           {
            "colorbar": {
             "outlinewidth": 0,
             "ticks": ""
            },
            "colorscale": [
             [
              0,
              "#0d0887"
             ],
             [
              0.1111111111111111,
              "#46039f"
             ],
             [
              0.2222222222222222,
              "#7201a8"
             ],
             [
              0.3333333333333333,
              "#9c179e"
             ],
             [
              0.4444444444444444,
              "#bd3786"
             ],
             [
              0.5555555555555556,
              "#d8576b"
             ],
             [
              0.6666666666666666,
              "#ed7953"
             ],
             [
              0.7777777777777778,
              "#fb9f3a"
             ],
             [
              0.8888888888888888,
              "#fdca26"
             ],
             [
              1,
              "#f0f921"
             ]
            ],
            "type": "heatmapgl"
           }
          ],
          "histogram": [
           {
            "marker": {
             "pattern": {
              "fillmode": "overlay",
              "size": 10,
              "solidity": 0.2
             }
            },
            "type": "histogram"
           }
          ],
          "histogram2d": [
           {
            "colorbar": {
             "outlinewidth": 0,
             "ticks": ""
            },
            "colorscale": [
             [
              0,
              "#0d0887"
             ],
             [
              0.1111111111111111,
              "#46039f"
             ],
             [
              0.2222222222222222,
              "#7201a8"
             ],
             [
              0.3333333333333333,
              "#9c179e"
             ],
             [
              0.4444444444444444,
              "#bd3786"
             ],
             [
              0.5555555555555556,
              "#d8576b"
             ],
             [
              0.6666666666666666,
              "#ed7953"
             ],
             [
              0.7777777777777778,
              "#fb9f3a"
             ],
             [
              0.8888888888888888,
              "#fdca26"
             ],
             [
              1,
              "#f0f921"
             ]
            ],
            "type": "histogram2d"
           }
          ],
          "histogram2dcontour": [
           {
            "colorbar": {
             "outlinewidth": 0,
             "ticks": ""
            },
            "colorscale": [
             [
              0,
              "#0d0887"
             ],
             [
              0.1111111111111111,
              "#46039f"
             ],
             [
              0.2222222222222222,
              "#7201a8"
             ],
             [
              0.3333333333333333,
              "#9c179e"
             ],
             [
              0.4444444444444444,
              "#bd3786"
             ],
             [
              0.5555555555555556,
              "#d8576b"
             ],
             [
              0.6666666666666666,
              "#ed7953"
             ],
             [
              0.7777777777777778,
              "#fb9f3a"
             ],
             [
              0.8888888888888888,
              "#fdca26"
             ],
             [
              1,
              "#f0f921"
             ]
            ],
            "type": "histogram2dcontour"
           }
          ],
          "mesh3d": [
           {
            "colorbar": {
             "outlinewidth": 0,
             "ticks": ""
            },
            "type": "mesh3d"
           }
          ],
          "parcoords": [
           {
            "line": {
             "colorbar": {
              "outlinewidth": 0,
              "ticks": ""
             }
            },
            "type": "parcoords"
           }
          ],
          "pie": [
           {
            "automargin": true,
            "type": "pie"
           }
          ],
          "scatter": [
           {
            "fillpattern": {
             "fillmode": "overlay",
             "size": 10,
             "solidity": 0.2
            },
            "type": "scatter"
           }
          ],
          "scatter3d": [
           {
            "line": {
             "colorbar": {
              "outlinewidth": 0,
              "ticks": ""
             }
            },
            "marker": {
             "colorbar": {
              "outlinewidth": 0,
              "ticks": ""
             }
            },
            "type": "scatter3d"
           }
          ],
          "scattercarpet": [
           {
            "marker": {
             "colorbar": {
              "outlinewidth": 0,
              "ticks": ""
             }
            },
            "type": "scattercarpet"
           }
          ],
          "scattergeo": [
           {
            "marker": {
             "colorbar": {
              "outlinewidth": 0,
              "ticks": ""
             }
            },
            "type": "scattergeo"
           }
          ],
          "scattergl": [
           {
            "marker": {
             "colorbar": {
              "outlinewidth": 0,
              "ticks": ""
             }
            },
            "type": "scattergl"
           }
          ],
          "scattermapbox": [
           {
            "marker": {
             "colorbar": {
              "outlinewidth": 0,
              "ticks": ""
             }
            },
            "type": "scattermapbox"
           }
          ],
          "scatterpolar": [
           {
            "marker": {
             "colorbar": {
              "outlinewidth": 0,
              "ticks": ""
             }
            },
            "type": "scatterpolar"
           }
          ],
          "scatterpolargl": [
           {
            "marker": {
             "colorbar": {
              "outlinewidth": 0,
              "ticks": ""
             }
            },
            "type": "scatterpolargl"
           }
          ],
          "scatterternary": [
           {
            "marker": {
             "colorbar": {
              "outlinewidth": 0,
              "ticks": ""
             }
            },
            "type": "scatterternary"
           }
          ],
          "surface": [
           {
            "colorbar": {
             "outlinewidth": 0,
             "ticks": ""
            },
            "colorscale": [
             [
              0,
              "#0d0887"
             ],
             [
              0.1111111111111111,
              "#46039f"
             ],
             [
              0.2222222222222222,
              "#7201a8"
             ],
             [
              0.3333333333333333,
              "#9c179e"
             ],
             [
              0.4444444444444444,
              "#bd3786"
             ],
             [
              0.5555555555555556,
              "#d8576b"
             ],
             [
              0.6666666666666666,
              "#ed7953"
             ],
             [
              0.7777777777777778,
              "#fb9f3a"
             ],
             [
              0.8888888888888888,
              "#fdca26"
             ],
             [
              1,
              "#f0f921"
             ]
            ],
            "type": "surface"
           }
          ],
          "table": [
           {
            "cells": {
             "fill": {
              "color": "#EBF0F8"
             },
             "line": {
              "color": "white"
             }
            },
            "header": {
             "fill": {
              "color": "#C8D4E3"
             },
             "line": {
              "color": "white"
             }
            },
            "type": "table"
           }
          ]
         },
         "layout": {
          "annotationdefaults": {
           "arrowcolor": "#2a3f5f",
           "arrowhead": 0,
           "arrowwidth": 1
          },
          "autotypenumbers": "strict",
          "coloraxis": {
           "colorbar": {
            "outlinewidth": 0,
            "ticks": ""
           }
          },
          "colorscale": {
           "diverging": [
            [
             0,
             "#8e0152"
            ],
            [
             0.1,
             "#c51b7d"
            ],
            [
             0.2,
             "#de77ae"
            ],
            [
             0.3,
             "#f1b6da"
            ],
            [
             0.4,
             "#fde0ef"
            ],
            [
             0.5,
             "#f7f7f7"
            ],
            [
             0.6,
             "#e6f5d0"
            ],
            [
             0.7,
             "#b8e186"
            ],
            [
             0.8,
             "#7fbc41"
            ],
            [
             0.9,
             "#4d9221"
            ],
            [
             1,
             "#276419"
            ]
           ],
           "sequential": [
            [
             0,
             "#0d0887"
            ],
            [
             0.1111111111111111,
             "#46039f"
            ],
            [
             0.2222222222222222,
             "#7201a8"
            ],
            [
             0.3333333333333333,
             "#9c179e"
            ],
            [
             0.4444444444444444,
             "#bd3786"
            ],
            [
             0.5555555555555556,
             "#d8576b"
            ],
            [
             0.6666666666666666,
             "#ed7953"
            ],
            [
             0.7777777777777778,
             "#fb9f3a"
            ],
            [
             0.8888888888888888,
             "#fdca26"
            ],
            [
             1,
             "#f0f921"
            ]
           ],
           "sequentialminus": [
            [
             0,
             "#0d0887"
            ],
            [
             0.1111111111111111,
             "#46039f"
            ],
            [
             0.2222222222222222,
             "#7201a8"
            ],
            [
             0.3333333333333333,
             "#9c179e"
            ],
            [
             0.4444444444444444,
             "#bd3786"
            ],
            [
             0.5555555555555556,
             "#d8576b"
            ],
            [
             0.6666666666666666,
             "#ed7953"
            ],
            [
             0.7777777777777778,
             "#fb9f3a"
            ],
            [
             0.8888888888888888,
             "#fdca26"
            ],
            [
             1,
             "#f0f921"
            ]
           ]
          },
          "colorway": [
           "#636efa",
           "#EF553B",
           "#00cc96",
           "#ab63fa",
           "#FFA15A",
           "#19d3f3",
           "#FF6692",
           "#B6E880",
           "#FF97FF",
           "#FECB52"
          ],
          "font": {
           "color": "#2a3f5f"
          },
          "geo": {
           "bgcolor": "white",
           "lakecolor": "white",
           "landcolor": "#E5ECF6",
           "showlakes": true,
           "showland": true,
           "subunitcolor": "white"
          },
          "hoverlabel": {
           "align": "left"
          },
          "hovermode": "closest",
          "mapbox": {
           "style": "light"
          },
          "paper_bgcolor": "white",
          "plot_bgcolor": "#E5ECF6",
          "polar": {
           "angularaxis": {
            "gridcolor": "white",
            "linecolor": "white",
            "ticks": ""
           },
           "bgcolor": "#E5ECF6",
           "radialaxis": {
            "gridcolor": "white",
            "linecolor": "white",
            "ticks": ""
           }
          },
          "scene": {
           "xaxis": {
            "backgroundcolor": "#E5ECF6",
            "gridcolor": "white",
            "gridwidth": 2,
            "linecolor": "white",
            "showbackground": true,
            "ticks": "",
            "zerolinecolor": "white"
           },
           "yaxis": {
            "backgroundcolor": "#E5ECF6",
            "gridcolor": "white",
            "gridwidth": 2,
            "linecolor": "white",
            "showbackground": true,
            "ticks": "",
            "zerolinecolor": "white"
           },
           "zaxis": {
            "backgroundcolor": "#E5ECF6",
            "gridcolor": "white",
            "gridwidth": 2,
            "linecolor": "white",
            "showbackground": true,
            "ticks": "",
            "zerolinecolor": "white"
           }
          },
          "shapedefaults": {
           "line": {
            "color": "#2a3f5f"
           }
          },
          "ternary": {
           "aaxis": {
            "gridcolor": "white",
            "linecolor": "white",
            "ticks": ""
           },
           "baxis": {
            "gridcolor": "white",
            "linecolor": "white",
            "ticks": ""
           },
           "bgcolor": "#E5ECF6",
           "caxis": {
            "gridcolor": "white",
            "linecolor": "white",
            "ticks": ""
           }
          },
          "title": {
           "x": 0.05
          },
          "xaxis": {
           "automargin": true,
           "gridcolor": "white",
           "linecolor": "white",
           "ticks": "",
           "title": {
            "standoff": 15
           },
           "zerolinecolor": "white",
           "zerolinewidth": 2
          },
          "yaxis": {
           "automargin": true,
           "gridcolor": "white",
           "linecolor": "white",
           "ticks": "",
           "title": {
            "standoff": 15
           },
           "zerolinecolor": "white",
           "zerolinewidth": 2
          }
         }
        },
        "title": {
         "text": "Quantidade de Crimes por Bairro - Top20"
        }
       }
      }
     },
     "metadata": {},
     "output_type": "display_data"
    }
   ],
   "source": [
    "# # Data with latitude/longitude and values\n",
    "fig = px.scatter_mapbox(bairros_mais_crimes, lat = 'LATITUDE', lon = 'LONGITUDE', size = 'freq',\n",
    "                        hover_data='BAIRRO',\n",
    "                        center = dict(lat = -23.54982384466997, lon = -46.63386828465929),\n",
    "                        zoom = 9,\n",
    "                        color = 'freq',\n",
    "                        mapbox_style = 'open-street-map',\n",
    "                        color_continuous_scale = 'rainbow',\n",
    "                        opacity = 0.7,\n",
    "                        title='Quantidade de Crimes por Bairro - Top20')\n",
    "fig.show()"
   ]
  },
  {
   "cell_type": "code",
   "execution_count": 16,
   "metadata": {},
   "outputs": [],
   "source": [
    "c_violentos = ['ESTUPRO',\n",
    "       'HOMICÍDIO DOLOSO',\n",
    "       #'LESÃO CORPORAL DOLOSA',\n",
    "       'TENTATIVA DE HOMICIDIO',\n",
    "      # 'LESÃO CORPORAL CULPOSA – OUTRAS',\n",
    "       'ESTUPRO DE VULNERÁVEL',\n",
    "       'LATROCÍNIO',\n",
    "       'LESÃO CORPORAL SEGUIDA DE MORTE',\n",
    "        'HOMICIDIO CULPOSO OUTROS',\n",
    "        'HOMICÍDIO DOLOSO EM ESTAB. PRISIONAL',\n",
    "       'HOMICÍDIO DOLOSO POR ACIDENTE DE TRÂNSITO',\n",
    "       'TENTATIVA DE HOMICÍDIO',\n",
    "       'HOMICÍDIO CULPOSO OUTROS',\n",
    "       'TENTATIVA DE HOMICÍDIO EM ESTAB. PRISIONAL']"
   ]
  },
  {
   "cell_type": "code",
   "execution_count": 17,
   "metadata": {},
   "outputs": [
    {
     "data": {
      "text/html": [
       "<div>\n",
       "<style scoped>\n",
       "    .dataframe tbody tr th:only-of-type {\n",
       "        vertical-align: middle;\n",
       "    }\n",
       "\n",
       "    .dataframe tbody tr th {\n",
       "        vertical-align: top;\n",
       "    }\n",
       "\n",
       "    .dataframe thead th {\n",
       "        text-align: right;\n",
       "    }\n",
       "</style>\n",
       "<table border=\"1\" class=\"dataframe\">\n",
       "  <thead>\n",
       "    <tr style=\"text-align: right;\">\n",
       "      <th></th>\n",
       "      <th>NOME_DEPARTAMENTO</th>\n",
       "      <th>NOME_SECCIONAL</th>\n",
       "      <th>NOME_DELEGACIA</th>\n",
       "      <th>CIDADE</th>\n",
       "      <th>NUM_BO</th>\n",
       "      <th>ANO_BO</th>\n",
       "      <th>DATA_COMUNICACAO_BO</th>\n",
       "      <th>DATA_OCORRENCIA_BO</th>\n",
       "      <th>HORA_OCORRENCIA_BO</th>\n",
       "      <th>DESCR_PERIODO</th>\n",
       "      <th>...</th>\n",
       "      <th>NOME_DEPARTAMENTO_CIRCUNSCRIÇÃO</th>\n",
       "      <th>NOME_SECCIONAL_CIRCUNSCRIÇÃO</th>\n",
       "      <th>NOME_MUNICIPIO_CIRCUNSCRIÇÃO</th>\n",
       "      <th>RUBRICA</th>\n",
       "      <th>DESCR_CONDUTA</th>\n",
       "      <th>NATUREZA_APURADA</th>\n",
       "      <th>MES_ESTATISTICA</th>\n",
       "      <th>ANO_ESTATISTICA</th>\n",
       "      <th>DATA_COMUNICACAO</th>\n",
       "      <th>DESC_PERIODO</th>\n",
       "    </tr>\n",
       "  </thead>\n",
       "  <tbody>\n",
       "    <tr>\n",
       "      <th>0</th>\n",
       "      <td>DECAP</td>\n",
       "      <td>DEL.SEC.8º SAO MATEUS</td>\n",
       "      <td>08ª DDM SAO MATEUS</td>\n",
       "      <td>S.PAULO</td>\n",
       "      <td>AC0851</td>\n",
       "      <td>2022</td>\n",
       "      <td>2022-01-13</td>\n",
       "      <td>2021-09-01 00:00:00</td>\n",
       "      <td>NaN</td>\n",
       "      <td>EM HORA INCERTA</td>\n",
       "      <td>...</td>\n",
       "      <td>DECAP</td>\n",
       "      <td>DEL.SEC.1º CENTRO</td>\n",
       "      <td>S.PAULO</td>\n",
       "      <td>Art. 213 - Estupro</td>\n",
       "      <td>NaN</td>\n",
       "      <td>ESTUPRO</td>\n",
       "      <td>1</td>\n",
       "      <td>2022</td>\n",
       "      <td>NaT</td>\n",
       "      <td>NaN</td>\n",
       "    </tr>\n",
       "    <tr>\n",
       "      <th>747</th>\n",
       "      <td>DECAP</td>\n",
       "      <td>DEL.SEC.1º CENTRO</td>\n",
       "      <td>08º D.P. BRAS</td>\n",
       "      <td>S.PAULO</td>\n",
       "      <td>312</td>\n",
       "      <td>2022</td>\n",
       "      <td>NaT</td>\n",
       "      <td>2022-01-20 00:00:00</td>\n",
       "      <td>07:00:00</td>\n",
       "      <td>NaN</td>\n",
       "      <td>...</td>\n",
       "      <td>DECAP</td>\n",
       "      <td>DEL.SEC.1º CENTRO</td>\n",
       "      <td>S.PAULO</td>\n",
       "      <td>Homicídio simples (art. 121)</td>\n",
       "      <td>NaN</td>\n",
       "      <td>HOMICÍDIO DOLOSO</td>\n",
       "      <td>1</td>\n",
       "      <td>2022</td>\n",
       "      <td>NaT</td>\n",
       "      <td>NaN</td>\n",
       "    </tr>\n",
       "    <tr>\n",
       "      <th>1103</th>\n",
       "      <td>DECAP</td>\n",
       "      <td>DEL.SEC.1º CENTRO</td>\n",
       "      <td>08º D.P. BRAS</td>\n",
       "      <td>S.PAULO</td>\n",
       "      <td>AA3572</td>\n",
       "      <td>2022</td>\n",
       "      <td>2022-01-03</td>\n",
       "      <td>2022-01-03 00:00:00</td>\n",
       "      <td>16:40:00</td>\n",
       "      <td>NaN</td>\n",
       "      <td>...</td>\n",
       "      <td>DECAP</td>\n",
       "      <td>DEL.SEC.1º CENTRO</td>\n",
       "      <td>S.PAULO</td>\n",
       "      <td>Homicídio (art. 121)</td>\n",
       "      <td>NaN</td>\n",
       "      <td>TENTATIVA DE HOMICIDIO</td>\n",
       "      <td>1</td>\n",
       "      <td>2022</td>\n",
       "      <td>NaT</td>\n",
       "      <td>NaN</td>\n",
       "    </tr>\n",
       "    <tr>\n",
       "      <th>1104</th>\n",
       "      <td>DECAP</td>\n",
       "      <td>DEL.SEC.1º CENTRO</td>\n",
       "      <td>08º D.P. BRAS</td>\n",
       "      <td>S.PAULO</td>\n",
       "      <td>JD0656</td>\n",
       "      <td>2022</td>\n",
       "      <td>2023-01-14</td>\n",
       "      <td>2022-11-11 00:00:00</td>\n",
       "      <td>12:10:00</td>\n",
       "      <td>NaN</td>\n",
       "      <td>...</td>\n",
       "      <td>DECAP</td>\n",
       "      <td>DEL.SEC.1º CENTRO</td>\n",
       "      <td>S.PAULO</td>\n",
       "      <td>Homicídio (art. 121)</td>\n",
       "      <td>NaN</td>\n",
       "      <td>TENTATIVA DE HOMICIDIO</td>\n",
       "      <td>1</td>\n",
       "      <td>2022</td>\n",
       "      <td>NaT</td>\n",
       "      <td>NaN</td>\n",
       "    </tr>\n",
       "    <tr>\n",
       "      <th>1504</th>\n",
       "      <td>DECAP</td>\n",
       "      <td>DEL.SEC.1º CENTRO</td>\n",
       "      <td>02º D.P. BOM RETIRO</td>\n",
       "      <td>S.PAULO</td>\n",
       "      <td>253</td>\n",
       "      <td>2022</td>\n",
       "      <td>NaT</td>\n",
       "      <td>2022-01-16 00:00:00</td>\n",
       "      <td>05:48:00</td>\n",
       "      <td>NaN</td>\n",
       "      <td>...</td>\n",
       "      <td>DECAP</td>\n",
       "      <td>DEL.SEC.1º CENTRO</td>\n",
       "      <td>S.PAULO</td>\n",
       "      <td>Homicídio simples (art. 121)</td>\n",
       "      <td>NaN</td>\n",
       "      <td>HOMICÍDIO DOLOSO</td>\n",
       "      <td>1</td>\n",
       "      <td>2022</td>\n",
       "      <td>NaT</td>\n",
       "      <td>NaN</td>\n",
       "    </tr>\n",
       "  </tbody>\n",
       "</table>\n",
       "<p>5 rows × 27 columns</p>\n",
       "</div>"
      ],
      "text/plain": [
       "     NOME_DEPARTAMENTO         NOME_SECCIONAL       NOME_DELEGACIA   CIDADE  \\\n",
       "0                DECAP  DEL.SEC.8º SAO MATEUS   08ª DDM SAO MATEUS  S.PAULO   \n",
       "747              DECAP      DEL.SEC.1º CENTRO        08º D.P. BRAS  S.PAULO   \n",
       "1103             DECAP      DEL.SEC.1º CENTRO        08º D.P. BRAS  S.PAULO   \n",
       "1104             DECAP      DEL.SEC.1º CENTRO        08º D.P. BRAS  S.PAULO   \n",
       "1504             DECAP      DEL.SEC.1º CENTRO  02º D.P. BOM RETIRO  S.PAULO   \n",
       "\n",
       "      NUM_BO  ANO_BO DATA_COMUNICACAO_BO   DATA_OCORRENCIA_BO  \\\n",
       "0     AC0851    2022          2022-01-13  2021-09-01 00:00:00   \n",
       "747      312    2022                 NaT  2022-01-20 00:00:00   \n",
       "1103  AA3572    2022          2022-01-03  2022-01-03 00:00:00   \n",
       "1104  JD0656    2022          2023-01-14  2022-11-11 00:00:00   \n",
       "1504     253    2022                 NaT  2022-01-16 00:00:00   \n",
       "\n",
       "     HORA_OCORRENCIA_BO    DESCR_PERIODO  ... NOME_DEPARTAMENTO_CIRCUNSCRIÇÃO  \\\n",
       "0                   NaN  EM HORA INCERTA  ...                           DECAP   \n",
       "747            07:00:00              NaN  ...                           DECAP   \n",
       "1103           16:40:00              NaN  ...                           DECAP   \n",
       "1104           12:10:00              NaN  ...                           DECAP   \n",
       "1504           05:48:00              NaN  ...                           DECAP   \n",
       "\n",
       "     NOME_SECCIONAL_CIRCUNSCRIÇÃO NOME_MUNICIPIO_CIRCUNSCRIÇÃO  \\\n",
       "0               DEL.SEC.1º CENTRO                      S.PAULO   \n",
       "747             DEL.SEC.1º CENTRO                      S.PAULO   \n",
       "1103            DEL.SEC.1º CENTRO                      S.PAULO   \n",
       "1104            DEL.SEC.1º CENTRO                      S.PAULO   \n",
       "1504            DEL.SEC.1º CENTRO                      S.PAULO   \n",
       "\n",
       "                           RUBRICA  DESCR_CONDUTA        NATUREZA_APURADA  \\\n",
       "0               Art. 213 - Estupro            NaN                 ESTUPRO   \n",
       "747   Homicídio simples (art. 121)            NaN        HOMICÍDIO DOLOSO   \n",
       "1103          Homicídio (art. 121)            NaN  TENTATIVA DE HOMICIDIO   \n",
       "1104          Homicídio (art. 121)            NaN  TENTATIVA DE HOMICIDIO   \n",
       "1504  Homicídio simples (art. 121)            NaN        HOMICÍDIO DOLOSO   \n",
       "\n",
       "     MES_ESTATISTICA ANO_ESTATISTICA DATA_COMUNICACAO DESC_PERIODO  \n",
       "0                  1            2022              NaT          NaN  \n",
       "747                1            2022              NaT          NaN  \n",
       "1103               1            2022              NaT          NaN  \n",
       "1104               1            2022              NaT          NaN  \n",
       "1504               1            2022              NaT          NaN  \n",
       "\n",
       "[5 rows x 27 columns]"
      ]
     },
     "execution_count": 17,
     "metadata": {},
     "output_type": "execute_result"
    }
   ],
   "source": [
    "df_crimes_violentos = df2[df2['NATUREZA_APURADA'].isin(c_violentos)]\n",
    "df_crimes_violentos.head()"
   ]
  },
  {
   "cell_type": "code",
   "execution_count": 18,
   "metadata": {},
   "outputs": [
    {
     "data": {
      "text/html": [
       "<div>\n",
       "<style scoped>\n",
       "    .dataframe tbody tr th:only-of-type {\n",
       "        vertical-align: middle;\n",
       "    }\n",
       "\n",
       "    .dataframe tbody tr th {\n",
       "        vertical-align: top;\n",
       "    }\n",
       "\n",
       "    .dataframe thead th {\n",
       "        text-align: right;\n",
       "    }\n",
       "</style>\n",
       "<table border=\"1\" class=\"dataframe\">\n",
       "  <thead>\n",
       "    <tr style=\"text-align: right;\">\n",
       "      <th></th>\n",
       "      <th>BAIRRO</th>\n",
       "      <th>NATUREZA_APURADA</th>\n",
       "      <th>freq</th>\n",
       "    </tr>\n",
       "  </thead>\n",
       "  <tbody>\n",
       "    <tr>\n",
       "      <th>0</th>\n",
       "      <td>GRAJAU</td>\n",
       "      <td>ESTUPRO DE VULNERÁVEL</td>\n",
       "      <td>134</td>\n",
       "    </tr>\n",
       "    <tr>\n",
       "      <th>1</th>\n",
       "      <td>BRASILANDIA</td>\n",
       "      <td>ESTUPRO DE VULNERÁVEL</td>\n",
       "      <td>99</td>\n",
       "    </tr>\n",
       "    <tr>\n",
       "      <th>2</th>\n",
       "      <td>CAPAO REDONDO</td>\n",
       "      <td>ESTUPRO DE VULNERÁVEL</td>\n",
       "      <td>84</td>\n",
       "    </tr>\n",
       "    <tr>\n",
       "      <th>3</th>\n",
       "      <td>JARDIM ANGELA</td>\n",
       "      <td>ESTUPRO DE VULNERÁVEL</td>\n",
       "      <td>83</td>\n",
       "    </tr>\n",
       "    <tr>\n",
       "      <th>4</th>\n",
       "      <td>SAPOPEMBA</td>\n",
       "      <td>ESTUPRO DE VULNERÁVEL</td>\n",
       "      <td>80</td>\n",
       "    </tr>\n",
       "    <tr>\n",
       "      <th>5</th>\n",
       "      <td>ITAQUERA</td>\n",
       "      <td>ESTUPRO DE VULNERÁVEL</td>\n",
       "      <td>76</td>\n",
       "    </tr>\n",
       "    <tr>\n",
       "      <th>6</th>\n",
       "      <td>ITAIM PAULISTA</td>\n",
       "      <td>ESTUPRO DE VULNERÁVEL</td>\n",
       "      <td>69</td>\n",
       "    </tr>\n",
       "    <tr>\n",
       "      <th>7</th>\n",
       "      <td>JD SÃO LUIS</td>\n",
       "      <td>ESTUPRO DE VULNERÁVEL</td>\n",
       "      <td>66</td>\n",
       "    </tr>\n",
       "    <tr>\n",
       "      <th>8</th>\n",
       "      <td>CIDADE ADEMAR</td>\n",
       "      <td>ESTUPRO DE VULNERÁVEL</td>\n",
       "      <td>63</td>\n",
       "    </tr>\n",
       "    <tr>\n",
       "      <th>9</th>\n",
       "      <td>JARAGUA</td>\n",
       "      <td>ESTUPRO DE VULNERÁVEL</td>\n",
       "      <td>61</td>\n",
       "    </tr>\n",
       "  </tbody>\n",
       "</table>\n",
       "</div>"
      ],
      "text/plain": [
       "           BAIRRO       NATUREZA_APURADA  freq\n",
       "0          GRAJAU  ESTUPRO DE VULNERÁVEL   134\n",
       "1     BRASILANDIA  ESTUPRO DE VULNERÁVEL    99\n",
       "2   CAPAO REDONDO  ESTUPRO DE VULNERÁVEL    84\n",
       "3   JARDIM ANGELA  ESTUPRO DE VULNERÁVEL    83\n",
       "4       SAPOPEMBA  ESTUPRO DE VULNERÁVEL    80\n",
       "5        ITAQUERA  ESTUPRO DE VULNERÁVEL    76\n",
       "6  ITAIM PAULISTA  ESTUPRO DE VULNERÁVEL    69\n",
       "7     JD SÃO LUIS  ESTUPRO DE VULNERÁVEL    66\n",
       "8   CIDADE ADEMAR  ESTUPRO DE VULNERÁVEL    63\n",
       "9         JARAGUA  ESTUPRO DE VULNERÁVEL    61"
      ]
     },
     "execution_count": 18,
     "metadata": {},
     "output_type": "execute_result"
    }
   ],
   "source": [
    "crimes_graves = df_crimes_violentos.value_counts(['BAIRRO','NATUREZA_APURADA']).reset_index().rename(columns={0: 'freq'})[0:10]\n",
    "crimes_graves\n"
   ]
  },
  {
   "cell_type": "code",
   "execution_count": 19,
   "metadata": {},
   "outputs": [
    {
     "data": {
      "text/html": [
       "<div>\n",
       "<style scoped>\n",
       "    .dataframe tbody tr th:only-of-type {\n",
       "        vertical-align: middle;\n",
       "    }\n",
       "\n",
       "    .dataframe tbody tr th {\n",
       "        vertical-align: top;\n",
       "    }\n",
       "\n",
       "    .dataframe thead th {\n",
       "        text-align: right;\n",
       "    }\n",
       "</style>\n",
       "<table border=\"1\" class=\"dataframe\">\n",
       "  <thead>\n",
       "    <tr style=\"text-align: right;\">\n",
       "      <th></th>\n",
       "      <th>BAIRRO</th>\n",
       "      <th>freq</th>\n",
       "      <th>LATITUDE</th>\n",
       "      <th>LONGITUDE</th>\n",
       "      <th>Porcentagem Acumulada</th>\n",
       "    </tr>\n",
       "  </thead>\n",
       "  <tbody>\n",
       "    <tr>\n",
       "      <th>0</th>\n",
       "      <td>GRAJAU</td>\n",
       "      <td>198</td>\n",
       "      <td>-23.749973</td>\n",
       "      <td>-46.684382</td>\n",
       "      <td>2.926829</td>\n",
       "    </tr>\n",
       "    <tr>\n",
       "      <th>1</th>\n",
       "      <td>BRASILANDIA</td>\n",
       "      <td>150</td>\n",
       "      <td>-23.460361</td>\n",
       "      <td>-46.684796</td>\n",
       "      <td>5.144124</td>\n",
       "    </tr>\n",
       "    <tr>\n",
       "      <th>2</th>\n",
       "      <td>CAPAO REDONDO</td>\n",
       "      <td>146</td>\n",
       "      <td>-23.664576</td>\n",
       "      <td>-46.778514</td>\n",
       "      <td>7.302291</td>\n",
       "    </tr>\n",
       "    <tr>\n",
       "      <th>3</th>\n",
       "      <td>JARDIM ANGELA</td>\n",
       "      <td>145</td>\n",
       "      <td>-23.691544</td>\n",
       "      <td>-46.772857</td>\n",
       "      <td>9.445676</td>\n",
       "    </tr>\n",
       "    <tr>\n",
       "      <th>4</th>\n",
       "      <td>JD SÃO LUIS</td>\n",
       "      <td>139</td>\n",
       "      <td>-23.659911</td>\n",
       "      <td>-46.742174</td>\n",
       "      <td>11.500370</td>\n",
       "    </tr>\n",
       "    <tr>\n",
       "      <th>5</th>\n",
       "      <td>CAMPO LIMPO</td>\n",
       "      <td>120</td>\n",
       "      <td>-23.634355</td>\n",
       "      <td>-46.762627</td>\n",
       "      <td>13.274205</td>\n",
       "    </tr>\n",
       "    <tr>\n",
       "      <th>6</th>\n",
       "      <td>SAPOPEMBA</td>\n",
       "      <td>116</td>\n",
       "      <td>-23.602422</td>\n",
       "      <td>-46.509302</td>\n",
       "      <td>14.988914</td>\n",
       "    </tr>\n",
       "    <tr>\n",
       "      <th>7</th>\n",
       "      <td>CIDADE ADEMAR</td>\n",
       "      <td>112</td>\n",
       "      <td>-23.675234</td>\n",
       "      <td>-46.652326</td>\n",
       "      <td>16.644494</td>\n",
       "    </tr>\n",
       "    <tr>\n",
       "      <th>8</th>\n",
       "      <td>ITAQUERA</td>\n",
       "      <td>105</td>\n",
       "      <td>-23.535429</td>\n",
       "      <td>-46.454366</td>\n",
       "      <td>18.196600</td>\n",
       "    </tr>\n",
       "    <tr>\n",
       "      <th>9</th>\n",
       "      <td>JARAGUA</td>\n",
       "      <td>104</td>\n",
       "      <td>-23.443027</td>\n",
       "      <td>-46.727559</td>\n",
       "      <td>19.733925</td>\n",
       "    </tr>\n",
       "    <tr>\n",
       "      <th>10</th>\n",
       "      <td>PARELHEIROS</td>\n",
       "      <td>101</td>\n",
       "      <td>-23.790483</td>\n",
       "      <td>-46.717407</td>\n",
       "      <td>21.226903</td>\n",
       "    </tr>\n",
       "    <tr>\n",
       "      <th>11</th>\n",
       "      <td>ITAIM PAULISTA</td>\n",
       "      <td>101</td>\n",
       "      <td>-23.499436</td>\n",
       "      <td>-46.386657</td>\n",
       "      <td>22.719882</td>\n",
       "    </tr>\n",
       "    <tr>\n",
       "      <th>12</th>\n",
       "      <td>CIDADE DUTRA</td>\n",
       "      <td>98</td>\n",
       "      <td>-23.716778</td>\n",
       "      <td>-46.700347</td>\n",
       "      <td>24.168514</td>\n",
       "    </tr>\n",
       "    <tr>\n",
       "      <th>13</th>\n",
       "      <td>CIDADE TIRADENTES</td>\n",
       "      <td>86</td>\n",
       "      <td>-23.583354</td>\n",
       "      <td>-46.401712</td>\n",
       "      <td>25.439763</td>\n",
       "    </tr>\n",
       "    <tr>\n",
       "      <th>14</th>\n",
       "      <td>SACOMA</td>\n",
       "      <td>83</td>\n",
       "      <td>-23.622304</td>\n",
       "      <td>-46.597673</td>\n",
       "      <td>26.666667</td>\n",
       "    </tr>\n",
       "    <tr>\n",
       "      <th>15</th>\n",
       "      <td>PEDREIRA</td>\n",
       "      <td>79</td>\n",
       "      <td>-23.696662</td>\n",
       "      <td>-46.648452</td>\n",
       "      <td>27.834442</td>\n",
       "    </tr>\n",
       "    <tr>\n",
       "      <th>16</th>\n",
       "      <td>CACHOEIRINHA</td>\n",
       "      <td>77</td>\n",
       "      <td>-23.468001</td>\n",
       "      <td>-46.658689</td>\n",
       "      <td>28.972653</td>\n",
       "    </tr>\n",
       "    <tr>\n",
       "      <th>17</th>\n",
       "      <td>LAJEADO</td>\n",
       "      <td>77</td>\n",
       "      <td>-23.533326</td>\n",
       "      <td>-46.408298</td>\n",
       "      <td>30.110865</td>\n",
       "    </tr>\n",
       "    <tr>\n",
       "      <th>18</th>\n",
       "      <td>JABAQUARA</td>\n",
       "      <td>76</td>\n",
       "      <td>-23.646302</td>\n",
       "      <td>-46.643608</td>\n",
       "      <td>31.234294</td>\n",
       "    </tr>\n",
       "    <tr>\n",
       "      <th>19</th>\n",
       "      <td>SAO MATEUS</td>\n",
       "      <td>75</td>\n",
       "      <td>-23.600224</td>\n",
       "      <td>-46.480741</td>\n",
       "      <td>32.342942</td>\n",
       "    </tr>\n",
       "  </tbody>\n",
       "</table>\n",
       "</div>"
      ],
      "text/plain": [
       "               BAIRRO  freq   LATITUDE  LONGITUDE  Porcentagem Acumulada\n",
       "0              GRAJAU   198 -23.749973 -46.684382               2.926829\n",
       "1         BRASILANDIA   150 -23.460361 -46.684796               5.144124\n",
       "2       CAPAO REDONDO   146 -23.664576 -46.778514               7.302291\n",
       "3       JARDIM ANGELA   145 -23.691544 -46.772857               9.445676\n",
       "4         JD SÃO LUIS   139 -23.659911 -46.742174              11.500370\n",
       "5         CAMPO LIMPO   120 -23.634355 -46.762627              13.274205\n",
       "6           SAPOPEMBA   116 -23.602422 -46.509302              14.988914\n",
       "7       CIDADE ADEMAR   112 -23.675234 -46.652326              16.644494\n",
       "8            ITAQUERA   105 -23.535429 -46.454366              18.196600\n",
       "9             JARAGUA   104 -23.443027 -46.727559              19.733925\n",
       "10        PARELHEIROS   101 -23.790483 -46.717407              21.226903\n",
       "11     ITAIM PAULISTA   101 -23.499436 -46.386657              22.719882\n",
       "12       CIDADE DUTRA    98 -23.716778 -46.700347              24.168514\n",
       "13  CIDADE TIRADENTES    86 -23.583354 -46.401712              25.439763\n",
       "14             SACOMA    83 -23.622304 -46.597673              26.666667\n",
       "15           PEDREIRA    79 -23.696662 -46.648452              27.834442\n",
       "16       CACHOEIRINHA    77 -23.468001 -46.658689              28.972653\n",
       "17            LAJEADO    77 -23.533326 -46.408298              30.110865\n",
       "18          JABAQUARA    76 -23.646302 -46.643608              31.234294\n",
       "19         SAO MATEUS    75 -23.600224 -46.480741              32.342942"
      ]
     },
     "execution_count": 19,
     "metadata": {},
     "output_type": "execute_result"
    }
   ],
   "source": [
    "crimes_graves_local = df_crimes_violentos.value_counts(['BAIRRO']).reset_index().rename(columns={0: 'freq'})\n",
    "crimes_graves_local = crimes_graves_local.merge(lat_long, how = 'left', on = 'BAIRRO')\n",
    "crimes_graves_local['Porcentagem Acumulada'] = crimes_graves_local['freq'].cumsum() / crimes_graves_local['freq'].sum() * 100\n",
    "crimes_graves_local = crimes_graves_local[0:20]\n",
    "crimes_graves_local"
   ]
  },
  {
   "cell_type": "markdown",
   "metadata": {},
   "source": [
    "### Pareto e Mapa geográfico"
   ]
  },
  {
   "cell_type": "code",
   "execution_count": 20,
   "metadata": {},
   "outputs": [
    {
     "name": "stderr",
     "output_type": "stream",
     "text": [
      "c:\\Users\\caiov\\AppData\\Local\\Programs\\Python\\Python311\\Lib\\site-packages\\plotly\\graph_objs\\_deprecations.py:378: DeprecationWarning:\n",
      "\n",
      "plotly.graph_objs.Line is deprecated.\n",
      "Please replace it with one of the following more specific types\n",
      "  - plotly.graph_objs.scatter.Line\n",
      "  - plotly.graph_objs.layout.shape.Line\n",
      "  - etc.\n",
      "\n",
      "\n"
     ]
    },
    {
     "data": {
      "application/vnd.plotly.v1+json": {
       "config": {
        "plotlyServerURL": "https://plot.ly"
       },
       "data": [
        {
         "name": "Frequência",
         "type": "bar",
         "x": [
          "GRAJAU",
          "BRASILANDIA",
          "CAPAO REDONDO",
          "JARDIM ANGELA",
          "JD SÃO LUIS",
          "CAMPO LIMPO",
          "SAPOPEMBA",
          "CIDADE ADEMAR",
          "ITAQUERA",
          "JARAGUA",
          "PARELHEIROS",
          "ITAIM PAULISTA",
          "CIDADE DUTRA",
          "CIDADE TIRADENTES",
          "SACOMA",
          "PEDREIRA",
          "CACHOEIRINHA",
          "LAJEADO",
          "JABAQUARA",
          "SAO MATEUS"
         ],
         "xaxis": "x",
         "y": [
          198,
          150,
          146,
          145,
          139,
          120,
          116,
          112,
          105,
          104,
          101,
          101,
          98,
          86,
          83,
          79,
          77,
          77,
          76,
          75
         ],
         "yaxis": "y"
        },
        {
         "name": "%",
         "type": "scatter",
         "x": [
          "GRAJAU",
          "BRASILANDIA",
          "CAPAO REDONDO",
          "JARDIM ANGELA",
          "JD SÃO LUIS",
          "CAMPO LIMPO",
          "SAPOPEMBA",
          "CIDADE ADEMAR",
          "ITAQUERA",
          "JARAGUA",
          "PARELHEIROS",
          "ITAIM PAULISTA",
          "CIDADE DUTRA",
          "CIDADE TIRADENTES",
          "SACOMA",
          "PEDREIRA",
          "CACHOEIRINHA",
          "LAJEADO",
          "JABAQUARA",
          "SAO MATEUS"
         ],
         "xaxis": "x",
         "y": [
          2.9268292682926833,
          5.144124168514413,
          7.3022912047302295,
          9.445676274944567,
          11.500369549150037,
          13.274205469327422,
          14.988913525498893,
          16.64449371766445,
          18.196600147819662,
          19.733924611973393,
          21.22690317812269,
          22.719881744271987,
          24.168514412416854,
          25.439763488543974,
          26.666666666666668,
          27.834441980783442,
          28.972653362897265,
          30.110864745011085,
          31.234294161123426,
          32.342941611234295
         ],
         "yaxis": "y2"
        }
       ],
       "layout": {
        "template": {
         "data": {
          "bar": [
           {
            "error_x": {
             "color": "rgb(36,36,36)"
            },
            "error_y": {
             "color": "rgb(36,36,36)"
            },
            "marker": {
             "line": {
              "color": "white",
              "width": 0.5
             },
             "pattern": {
              "fillmode": "overlay",
              "size": 10,
              "solidity": 0.2
             }
            },
            "type": "bar"
           }
          ],
          "barpolar": [
           {
            "marker": {
             "line": {
              "color": "white",
              "width": 0.5
             },
             "pattern": {
              "fillmode": "overlay",
              "size": 10,
              "solidity": 0.2
             }
            },
            "type": "barpolar"
           }
          ],
          "carpet": [
           {
            "aaxis": {
             "endlinecolor": "rgb(36,36,36)",
             "gridcolor": "white",
             "linecolor": "white",
             "minorgridcolor": "white",
             "startlinecolor": "rgb(36,36,36)"
            },
            "baxis": {
             "endlinecolor": "rgb(36,36,36)",
             "gridcolor": "white",
             "linecolor": "white",
             "minorgridcolor": "white",
             "startlinecolor": "rgb(36,36,36)"
            },
            "type": "carpet"
           }
          ],
          "choropleth": [
           {
            "colorbar": {
             "outlinewidth": 1,
             "tickcolor": "rgb(36,36,36)",
             "ticks": "outside"
            },
            "type": "choropleth"
           }
          ],
          "contour": [
           {
            "colorbar": {
             "outlinewidth": 1,
             "tickcolor": "rgb(36,36,36)",
             "ticks": "outside"
            },
            "colorscale": [
             [
              0,
              "#440154"
             ],
             [
              0.1111111111111111,
              "#482878"
             ],
             [
              0.2222222222222222,
              "#3e4989"
             ],
             [
              0.3333333333333333,
              "#31688e"
             ],
             [
              0.4444444444444444,
              "#26828e"
             ],
             [
              0.5555555555555556,
              "#1f9e89"
             ],
             [
              0.6666666666666666,
              "#35b779"
             ],
             [
              0.7777777777777778,
              "#6ece58"
             ],
             [
              0.8888888888888888,
              "#b5de2b"
             ],
             [
              1,
              "#fde725"
             ]
            ],
            "type": "contour"
           }
          ],
          "contourcarpet": [
           {
            "colorbar": {
             "outlinewidth": 1,
             "tickcolor": "rgb(36,36,36)",
             "ticks": "outside"
            },
            "type": "contourcarpet"
           }
          ],
          "heatmap": [
           {
            "colorbar": {
             "outlinewidth": 1,
             "tickcolor": "rgb(36,36,36)",
             "ticks": "outside"
            },
            "colorscale": [
             [
              0,
              "#440154"
             ],
             [
              0.1111111111111111,
              "#482878"
             ],
             [
              0.2222222222222222,
              "#3e4989"
             ],
             [
              0.3333333333333333,
              "#31688e"
             ],
             [
              0.4444444444444444,
              "#26828e"
             ],
             [
              0.5555555555555556,
              "#1f9e89"
             ],
             [
              0.6666666666666666,
              "#35b779"
             ],
             [
              0.7777777777777778,
              "#6ece58"
             ],
             [
              0.8888888888888888,
              "#b5de2b"
             ],
             [
              1,
              "#fde725"
             ]
            ],
            "type": "heatmap"
           }
          ],
          "heatmapgl": [
           {
            "colorbar": {
             "outlinewidth": 1,
             "tickcolor": "rgb(36,36,36)",
             "ticks": "outside"
            },
            "colorscale": [
             [
              0,
              "#440154"
             ],
             [
              0.1111111111111111,
              "#482878"
             ],
             [
              0.2222222222222222,
              "#3e4989"
             ],
             [
              0.3333333333333333,
              "#31688e"
             ],
             [
              0.4444444444444444,
              "#26828e"
             ],
             [
              0.5555555555555556,
              "#1f9e89"
             ],
             [
              0.6666666666666666,
              "#35b779"
             ],
             [
              0.7777777777777778,
              "#6ece58"
             ],
             [
              0.8888888888888888,
              "#b5de2b"
             ],
             [
              1,
              "#fde725"
             ]
            ],
            "type": "heatmapgl"
           }
          ],
          "histogram": [
           {
            "marker": {
             "line": {
              "color": "white",
              "width": 0.6
             }
            },
            "type": "histogram"
           }
          ],
          "histogram2d": [
           {
            "colorbar": {
             "outlinewidth": 1,
             "tickcolor": "rgb(36,36,36)",
             "ticks": "outside"
            },
            "colorscale": [
             [
              0,
              "#440154"
             ],
             [
              0.1111111111111111,
              "#482878"
             ],
             [
              0.2222222222222222,
              "#3e4989"
             ],
             [
              0.3333333333333333,
              "#31688e"
             ],
             [
              0.4444444444444444,
              "#26828e"
             ],
             [
              0.5555555555555556,
              "#1f9e89"
             ],
             [
              0.6666666666666666,
              "#35b779"
             ],
             [
              0.7777777777777778,
              "#6ece58"
             ],
             [
              0.8888888888888888,
              "#b5de2b"
             ],
             [
              1,
              "#fde725"
             ]
            ],
            "type": "histogram2d"
           }
          ],
          "histogram2dcontour": [
           {
            "colorbar": {
             "outlinewidth": 1,
             "tickcolor": "rgb(36,36,36)",
             "ticks": "outside"
            },
            "colorscale": [
             [
              0,
              "#440154"
             ],
             [
              0.1111111111111111,
              "#482878"
             ],
             [
              0.2222222222222222,
              "#3e4989"
             ],
             [
              0.3333333333333333,
              "#31688e"
             ],
             [
              0.4444444444444444,
              "#26828e"
             ],
             [
              0.5555555555555556,
              "#1f9e89"
             ],
             [
              0.6666666666666666,
              "#35b779"
             ],
             [
              0.7777777777777778,
              "#6ece58"
             ],
             [
              0.8888888888888888,
              "#b5de2b"
             ],
             [
              1,
              "#fde725"
             ]
            ],
            "type": "histogram2dcontour"
           }
          ],
          "mesh3d": [
           {
            "colorbar": {
             "outlinewidth": 1,
             "tickcolor": "rgb(36,36,36)",
             "ticks": "outside"
            },
            "type": "mesh3d"
           }
          ],
          "parcoords": [
           {
            "line": {
             "colorbar": {
              "outlinewidth": 1,
              "tickcolor": "rgb(36,36,36)",
              "ticks": "outside"
             }
            },
            "type": "parcoords"
           }
          ],
          "pie": [
           {
            "automargin": true,
            "type": "pie"
           }
          ],
          "scatter": [
           {
            "fillpattern": {
             "fillmode": "overlay",
             "size": 10,
             "solidity": 0.2
            },
            "type": "scatter"
           }
          ],
          "scatter3d": [
           {
            "line": {
             "colorbar": {
              "outlinewidth": 1,
              "tickcolor": "rgb(36,36,36)",
              "ticks": "outside"
             }
            },
            "marker": {
             "colorbar": {
              "outlinewidth": 1,
              "tickcolor": "rgb(36,36,36)",
              "ticks": "outside"
             }
            },
            "type": "scatter3d"
           }
          ],
          "scattercarpet": [
           {
            "marker": {
             "colorbar": {
              "outlinewidth": 1,
              "tickcolor": "rgb(36,36,36)",
              "ticks": "outside"
             }
            },
            "type": "scattercarpet"
           }
          ],
          "scattergeo": [
           {
            "marker": {
             "colorbar": {
              "outlinewidth": 1,
              "tickcolor": "rgb(36,36,36)",
              "ticks": "outside"
             }
            },
            "type": "scattergeo"
           }
          ],
          "scattergl": [
           {
            "marker": {
             "colorbar": {
              "outlinewidth": 1,
              "tickcolor": "rgb(36,36,36)",
              "ticks": "outside"
             }
            },
            "type": "scattergl"
           }
          ],
          "scattermapbox": [
           {
            "marker": {
             "colorbar": {
              "outlinewidth": 1,
              "tickcolor": "rgb(36,36,36)",
              "ticks": "outside"
             }
            },
            "type": "scattermapbox"
           }
          ],
          "scatterpolar": [
           {
            "marker": {
             "colorbar": {
              "outlinewidth": 1,
              "tickcolor": "rgb(36,36,36)",
              "ticks": "outside"
             }
            },
            "type": "scatterpolar"
           }
          ],
          "scatterpolargl": [
           {
            "marker": {
             "colorbar": {
              "outlinewidth": 1,
              "tickcolor": "rgb(36,36,36)",
              "ticks": "outside"
             }
            },
            "type": "scatterpolargl"
           }
          ],
          "scatterternary": [
           {
            "marker": {
             "colorbar": {
              "outlinewidth": 1,
              "tickcolor": "rgb(36,36,36)",
              "ticks": "outside"
             }
            },
            "type": "scatterternary"
           }
          ],
          "surface": [
           {
            "colorbar": {
             "outlinewidth": 1,
             "tickcolor": "rgb(36,36,36)",
             "ticks": "outside"
            },
            "colorscale": [
             [
              0,
              "#440154"
             ],
             [
              0.1111111111111111,
              "#482878"
             ],
             [
              0.2222222222222222,
              "#3e4989"
             ],
             [
              0.3333333333333333,
              "#31688e"
             ],
             [
              0.4444444444444444,
              "#26828e"
             ],
             [
              0.5555555555555556,
              "#1f9e89"
             ],
             [
              0.6666666666666666,
              "#35b779"
             ],
             [
              0.7777777777777778,
              "#6ece58"
             ],
             [
              0.8888888888888888,
              "#b5de2b"
             ],
             [
              1,
              "#fde725"
             ]
            ],
            "type": "surface"
           }
          ],
          "table": [
           {
            "cells": {
             "fill": {
              "color": "rgb(237,237,237)"
             },
             "line": {
              "color": "white"
             }
            },
            "header": {
             "fill": {
              "color": "rgb(217,217,217)"
             },
             "line": {
              "color": "white"
             }
            },
            "type": "table"
           }
          ]
         },
         "layout": {
          "annotationdefaults": {
           "arrowhead": 0,
           "arrowwidth": 1
          },
          "autotypenumbers": "strict",
          "coloraxis": {
           "colorbar": {
            "outlinewidth": 1,
            "tickcolor": "rgb(36,36,36)",
            "ticks": "outside"
           }
          },
          "colorscale": {
           "diverging": [
            [
             0,
             "rgb(103,0,31)"
            ],
            [
             0.1,
             "rgb(178,24,43)"
            ],
            [
             0.2,
             "rgb(214,96,77)"
            ],
            [
             0.3,
             "rgb(244,165,130)"
            ],
            [
             0.4,
             "rgb(253,219,199)"
            ],
            [
             0.5,
             "rgb(247,247,247)"
            ],
            [
             0.6,
             "rgb(209,229,240)"
            ],
            [
             0.7,
             "rgb(146,197,222)"
            ],
            [
             0.8,
             "rgb(67,147,195)"
            ],
            [
             0.9,
             "rgb(33,102,172)"
            ],
            [
             1,
             "rgb(5,48,97)"
            ]
           ],
           "sequential": [
            [
             0,
             "#440154"
            ],
            [
             0.1111111111111111,
             "#482878"
            ],
            [
             0.2222222222222222,
             "#3e4989"
            ],
            [
             0.3333333333333333,
             "#31688e"
            ],
            [
             0.4444444444444444,
             "#26828e"
            ],
            [
             0.5555555555555556,
             "#1f9e89"
            ],
            [
             0.6666666666666666,
             "#35b779"
            ],
            [
             0.7777777777777778,
             "#6ece58"
            ],
            [
             0.8888888888888888,
             "#b5de2b"
            ],
            [
             1,
             "#fde725"
            ]
           ],
           "sequentialminus": [
            [
             0,
             "#440154"
            ],
            [
             0.1111111111111111,
             "#482878"
            ],
            [
             0.2222222222222222,
             "#3e4989"
            ],
            [
             0.3333333333333333,
             "#31688e"
            ],
            [
             0.4444444444444444,
             "#26828e"
            ],
            [
             0.5555555555555556,
             "#1f9e89"
            ],
            [
             0.6666666666666666,
             "#35b779"
            ],
            [
             0.7777777777777778,
             "#6ece58"
            ],
            [
             0.8888888888888888,
             "#b5de2b"
            ],
            [
             1,
             "#fde725"
            ]
           ]
          },
          "colorway": [
           "#1F77B4",
           "#FF7F0E",
           "#2CA02C",
           "#D62728",
           "#9467BD",
           "#8C564B",
           "#E377C2",
           "#7F7F7F",
           "#BCBD22",
           "#17BECF"
          ],
          "font": {
           "color": "rgb(36,36,36)"
          },
          "geo": {
           "bgcolor": "white",
           "lakecolor": "white",
           "landcolor": "white",
           "showlakes": true,
           "showland": true,
           "subunitcolor": "white"
          },
          "hoverlabel": {
           "align": "left"
          },
          "hovermode": "closest",
          "mapbox": {
           "style": "light"
          },
          "paper_bgcolor": "white",
          "plot_bgcolor": "white",
          "polar": {
           "angularaxis": {
            "gridcolor": "rgb(232,232,232)",
            "linecolor": "rgb(36,36,36)",
            "showgrid": false,
            "showline": true,
            "ticks": "outside"
           },
           "bgcolor": "white",
           "radialaxis": {
            "gridcolor": "rgb(232,232,232)",
            "linecolor": "rgb(36,36,36)",
            "showgrid": false,
            "showline": true,
            "ticks": "outside"
           }
          },
          "scene": {
           "xaxis": {
            "backgroundcolor": "white",
            "gridcolor": "rgb(232,232,232)",
            "gridwidth": 2,
            "linecolor": "rgb(36,36,36)",
            "showbackground": true,
            "showgrid": false,
            "showline": true,
            "ticks": "outside",
            "zeroline": false,
            "zerolinecolor": "rgb(36,36,36)"
           },
           "yaxis": {
            "backgroundcolor": "white",
            "gridcolor": "rgb(232,232,232)",
            "gridwidth": 2,
            "linecolor": "rgb(36,36,36)",
            "showbackground": true,
            "showgrid": false,
            "showline": true,
            "ticks": "outside",
            "zeroline": false,
            "zerolinecolor": "rgb(36,36,36)"
           },
           "zaxis": {
            "backgroundcolor": "white",
            "gridcolor": "rgb(232,232,232)",
            "gridwidth": 2,
            "linecolor": "rgb(36,36,36)",
            "showbackground": true,
            "showgrid": false,
            "showline": true,
            "ticks": "outside",
            "zeroline": false,
            "zerolinecolor": "rgb(36,36,36)"
           }
          },
          "shapedefaults": {
           "fillcolor": "black",
           "line": {
            "width": 0
           },
           "opacity": 0.3
          },
          "ternary": {
           "aaxis": {
            "gridcolor": "rgb(232,232,232)",
            "linecolor": "rgb(36,36,36)",
            "showgrid": false,
            "showline": true,
            "ticks": "outside"
           },
           "baxis": {
            "gridcolor": "rgb(232,232,232)",
            "linecolor": "rgb(36,36,36)",
            "showgrid": false,
            "showline": true,
            "ticks": "outside"
           },
           "bgcolor": "white",
           "caxis": {
            "gridcolor": "rgb(232,232,232)",
            "linecolor": "rgb(36,36,36)",
            "showgrid": false,
            "showline": true,
            "ticks": "outside"
           }
          },
          "title": {
           "x": 0.05
          },
          "xaxis": {
           "automargin": true,
           "gridcolor": "rgb(232,232,232)",
           "linecolor": "rgb(36,36,36)",
           "showgrid": false,
           "showline": true,
           "ticks": "outside",
           "title": {
            "standoff": 15
           },
           "zeroline": false,
           "zerolinecolor": "rgb(36,36,36)"
          },
          "yaxis": {
           "automargin": true,
           "gridcolor": "rgb(232,232,232)",
           "linecolor": "rgb(36,36,36)",
           "showgrid": false,
           "showline": true,
           "ticks": "outside",
           "title": {
            "standoff": 15
           },
           "zeroline": false,
           "zerolinecolor": "rgb(36,36,36)"
          }
         }
        },
        "title": {
         "text": "Bairros com mais Crimes violentos Registrados em São Paulo Jan/22 à Out/23"
        },
        "xaxis": {
         "anchor": "y",
         "domain": [
          0,
          0.94
         ],
         "title": {
          "text": "Bairros"
         }
        },
        "yaxis": {
         "anchor": "x",
         "domain": [
          0,
          1
         ]
        },
        "yaxis2": {
         "anchor": "x",
         "overlaying": "y",
         "side": "right"
        }
       }
      }
     },
     "metadata": {},
     "output_type": "display_data"
    }
   ],
   "source": [
    "# Create figure with secondary y-axis\n",
    "fig = make_subplots(specs=[[{\"secondary_y\": True}]])\n",
    "\n",
    "# Add traces\n",
    "fig.add_trace(\n",
    "    go.Bar(x=crimes_graves_local['BAIRRO'], y = crimes_graves_local['freq'], name='Frequência'),\n",
    "    secondary_y=False,\n",
    ")\n",
    "\n",
    "fig.add_trace(\n",
    "    go.Line(x=crimes_graves_local['BAIRRO'], y = crimes_graves_local['Porcentagem Acumulada'], name='%'),\n",
    "    secondary_y=True,\n",
    ")\n",
    "\n",
    "# Add figure title\n",
    "fig.update_layout(\n",
    "    title_text=\"Bairros com mais Crimes violentos Registrados em São Paulo Jan/22 à Out/23\",\n",
    "    template = 'simple_white',\n",
    ")\n",
    "\n",
    "# Set x-axis title\n",
    "fig.update_xaxes(title_text=\"Bairros\")\n",
    "fig.show()"
   ]
  },
  {
   "cell_type": "code",
   "execution_count": 27,
   "metadata": {},
   "outputs": [
    {
     "data": {
      "application/vnd.plotly.v1+json": {
       "config": {
        "plotlyServerURL": "https://plot.ly"
       },
       "data": [
        {
         "customdata": [
          [
           "GRAJAU"
          ],
          [
           "BRASILANDIA"
          ],
          [
           "CAPAO REDONDO"
          ],
          [
           "JARDIM ANGELA"
          ],
          [
           "JD SÃO LUIS"
          ],
          [
           "CAMPO LIMPO"
          ],
          [
           "SAPOPEMBA"
          ],
          [
           "CIDADE ADEMAR"
          ],
          [
           "ITAQUERA"
          ],
          [
           "JARAGUA"
          ],
          [
           "PARELHEIROS"
          ],
          [
           "ITAIM PAULISTA"
          ],
          [
           "CIDADE DUTRA"
          ],
          [
           "CIDADE TIRADENTES"
          ],
          [
           "SACOMA"
          ],
          [
           "PEDREIRA"
          ],
          [
           "CACHOEIRINHA"
          ],
          [
           "LAJEADO"
          ],
          [
           "JABAQUARA"
          ],
          [
           "SAO MATEUS"
          ]
         ],
         "hovertemplate": "freq=%{marker.color}<br>LATITUDE=%{lat}<br>LONGITUDE=%{lon}<br>BAIRRO=%{customdata[0]}<extra></extra>",
         "lat": [
          -23.749973301962,
          -23.4603605027813,
          -23.664575707482648,
          -23.69154427952875,
          -23.6599107138297,
          -23.634355094094403,
          -23.6024224179999,
          -23.675234186036953,
          -23.5354289724538,
          -23.44302681106895,
          -23.7904830800559,
          -23.49943639848755,
          -23.716778167,
          -23.58335363,
          -23.6223040690523,
          -23.6966623070878,
          -23.468000938053,
          -23.533325739,
          -23.64630213,
          -23.6002238116359
         ],
         "legendgroup": "",
         "lon": [
          -46.6843817825222,
          -46.6847959296294,
          -46.77851424113575,
          -46.772856624867046,
          -46.7421737224597,
          -46.76262716510275,
          -46.509301723353005,
          -46.652325704,
          -46.4543658276363,
          -46.72755877210185,
          -46.717406734683,
          -46.3866570069999,
          -46.7003470229999,
          -46.40171183172,
          -46.5976731714,
          -46.6484517302131,
          -46.6586892365897,
          -46.4082978464717,
          -46.6436081250106,
          -46.4807413569999
         ],
         "marker": {
          "color": [
           198,
           150,
           146,
           145,
           139,
           120,
           116,
           112,
           105,
           104,
           101,
           101,
           98,
           86,
           83,
           79,
           77,
           77,
           76,
           75
          ],
          "coloraxis": "coloraxis",
          "opacity": 0.7,
          "size": [
           198,
           150,
           146,
           145,
           139,
           120,
           116,
           112,
           105,
           104,
           101,
           101,
           98,
           86,
           83,
           79,
           77,
           77,
           76,
           75
          ],
          "sizemode": "area",
          "sizeref": 0.495
         },
         "mode": "markers",
         "name": "",
         "showlegend": false,
         "subplot": "mapbox",
         "type": "scattermapbox"
        }
       ],
       "layout": {
        "coloraxis": {
         "colorbar": {
          "title": {
           "text": "freq"
          }
         },
         "colorscale": [
          [
           0,
           "rgb(150,0,90)"
          ],
          [
           0.125,
           "rgb(0,0,200)"
          ],
          [
           0.25,
           "rgb(0,25,255)"
          ],
          [
           0.375,
           "rgb(0,152,255)"
          ],
          [
           0.5,
           "rgb(44,255,150)"
          ],
          [
           0.625,
           "rgb(151,255,0)"
          ],
          [
           0.75,
           "rgb(255,234,0)"
          ],
          [
           0.875,
           "rgb(255,111,0)"
          ],
          [
           1,
           "rgb(255,0,0)"
          ]
         ]
        },
        "legend": {
         "itemsizing": "constant",
         "tracegroupgap": 0
        },
        "mapbox": {
         "center": {
          "lat": -23.54982384466997,
          "lon": -46.63386828465929
         },
         "domain": {
          "x": [
           0,
           1
          ],
          "y": [
           0,
           1
          ]
         },
         "style": "open-street-map",
         "zoom": 9
        },
        "template": {
         "data": {
          "bar": [
           {
            "error_x": {
             "color": "#2a3f5f"
            },
            "error_y": {
             "color": "#2a3f5f"
            },
            "marker": {
             "line": {
              "color": "#E5ECF6",
              "width": 0.5
             },
             "pattern": {
              "fillmode": "overlay",
              "size": 10,
              "solidity": 0.2
             }
            },
            "type": "bar"
           }
          ],
          "barpolar": [
           {
            "marker": {
             "line": {
              "color": "#E5ECF6",
              "width": 0.5
             },
             "pattern": {
              "fillmode": "overlay",
              "size": 10,
              "solidity": 0.2
             }
            },
            "type": "barpolar"
           }
          ],
          "carpet": [
           {
            "aaxis": {
             "endlinecolor": "#2a3f5f",
             "gridcolor": "white",
             "linecolor": "white",
             "minorgridcolor": "white",
             "startlinecolor": "#2a3f5f"
            },
            "baxis": {
             "endlinecolor": "#2a3f5f",
             "gridcolor": "white",
             "linecolor": "white",
             "minorgridcolor": "white",
             "startlinecolor": "#2a3f5f"
            },
            "type": "carpet"
           }
          ],
          "choropleth": [
           {
            "colorbar": {
             "outlinewidth": 0,
             "ticks": ""
            },
            "type": "choropleth"
           }
          ],
          "contour": [
           {
            "colorbar": {
             "outlinewidth": 0,
             "ticks": ""
            },
            "colorscale": [
             [
              0,
              "#0d0887"
             ],
             [
              0.1111111111111111,
              "#46039f"
             ],
             [
              0.2222222222222222,
              "#7201a8"
             ],
             [
              0.3333333333333333,
              "#9c179e"
             ],
             [
              0.4444444444444444,
              "#bd3786"
             ],
             [
              0.5555555555555556,
              "#d8576b"
             ],
             [
              0.6666666666666666,
              "#ed7953"
             ],
             [
              0.7777777777777778,
              "#fb9f3a"
             ],
             [
              0.8888888888888888,
              "#fdca26"
             ],
             [
              1,
              "#f0f921"
             ]
            ],
            "type": "contour"
           }
          ],
          "contourcarpet": [
           {
            "colorbar": {
             "outlinewidth": 0,
             "ticks": ""
            },
            "type": "contourcarpet"
           }
          ],
          "heatmap": [
           {
            "colorbar": {
             "outlinewidth": 0,
             "ticks": ""
            },
            "colorscale": [
             [
              0,
              "#0d0887"
             ],
             [
              0.1111111111111111,
              "#46039f"
             ],
             [
              0.2222222222222222,
              "#7201a8"
             ],
             [
              0.3333333333333333,
              "#9c179e"
             ],
             [
              0.4444444444444444,
              "#bd3786"
             ],
             [
              0.5555555555555556,
              "#d8576b"
             ],
             [
              0.6666666666666666,
              "#ed7953"
             ],
             [
              0.7777777777777778,
              "#fb9f3a"
             ],
             [
              0.8888888888888888,
              "#fdca26"
             ],
             [
              1,
              "#f0f921"
             ]
            ],
            "type": "heatmap"
           }
          ],
          "heatmapgl": [
           {
            "colorbar": {
             "outlinewidth": 0,
             "ticks": ""
            },
            "colorscale": [
             [
              0,
              "#0d0887"
             ],
             [
              0.1111111111111111,
              "#46039f"
             ],
             [
              0.2222222222222222,
              "#7201a8"
             ],
             [
              0.3333333333333333,
              "#9c179e"
             ],
             [
              0.4444444444444444,
              "#bd3786"
             ],
             [
              0.5555555555555556,
              "#d8576b"
             ],
             [
              0.6666666666666666,
              "#ed7953"
             ],
             [
              0.7777777777777778,
              "#fb9f3a"
             ],
             [
              0.8888888888888888,
              "#fdca26"
             ],
             [
              1,
              "#f0f921"
             ]
            ],
            "type": "heatmapgl"
           }
          ],
          "histogram": [
           {
            "marker": {
             "pattern": {
              "fillmode": "overlay",
              "size": 10,
              "solidity": 0.2
             }
            },
            "type": "histogram"
           }
          ],
          "histogram2d": [
           {
            "colorbar": {
             "outlinewidth": 0,
             "ticks": ""
            },
            "colorscale": [
             [
              0,
              "#0d0887"
             ],
             [
              0.1111111111111111,
              "#46039f"
             ],
             [
              0.2222222222222222,
              "#7201a8"
             ],
             [
              0.3333333333333333,
              "#9c179e"
             ],
             [
              0.4444444444444444,
              "#bd3786"
             ],
             [
              0.5555555555555556,
              "#d8576b"
             ],
             [
              0.6666666666666666,
              "#ed7953"
             ],
             [
              0.7777777777777778,
              "#fb9f3a"
             ],
             [
              0.8888888888888888,
              "#fdca26"
             ],
             [
              1,
              "#f0f921"
             ]
            ],
            "type": "histogram2d"
           }
          ],
          "histogram2dcontour": [
           {
            "colorbar": {
             "outlinewidth": 0,
             "ticks": ""
            },
            "colorscale": [
             [
              0,
              "#0d0887"
             ],
             [
              0.1111111111111111,
              "#46039f"
             ],
             [
              0.2222222222222222,
              "#7201a8"
             ],
             [
              0.3333333333333333,
              "#9c179e"
             ],
             [
              0.4444444444444444,
              "#bd3786"
             ],
             [
              0.5555555555555556,
              "#d8576b"
             ],
             [
              0.6666666666666666,
              "#ed7953"
             ],
             [
              0.7777777777777778,
              "#fb9f3a"
             ],
             [
              0.8888888888888888,
              "#fdca26"
             ],
             [
              1,
              "#f0f921"
             ]
            ],
            "type": "histogram2dcontour"
           }
          ],
          "mesh3d": [
           {
            "colorbar": {
             "outlinewidth": 0,
             "ticks": ""
            },
            "type": "mesh3d"
           }
          ],
          "parcoords": [
           {
            "line": {
             "colorbar": {
              "outlinewidth": 0,
              "ticks": ""
             }
            },
            "type": "parcoords"
           }
          ],
          "pie": [
           {
            "automargin": true,
            "type": "pie"
           }
          ],
          "scatter": [
           {
            "fillpattern": {
             "fillmode": "overlay",
             "size": 10,
             "solidity": 0.2
            },
            "type": "scatter"
           }
          ],
          "scatter3d": [
           {
            "line": {
             "colorbar": {
              "outlinewidth": 0,
              "ticks": ""
             }
            },
            "marker": {
             "colorbar": {
              "outlinewidth": 0,
              "ticks": ""
             }
            },
            "type": "scatter3d"
           }
          ],
          "scattercarpet": [
           {
            "marker": {
             "colorbar": {
              "outlinewidth": 0,
              "ticks": ""
             }
            },
            "type": "scattercarpet"
           }
          ],
          "scattergeo": [
           {
            "marker": {
             "colorbar": {
              "outlinewidth": 0,
              "ticks": ""
             }
            },
            "type": "scattergeo"
           }
          ],
          "scattergl": [
           {
            "marker": {
             "colorbar": {
              "outlinewidth": 0,
              "ticks": ""
             }
            },
            "type": "scattergl"
           }
          ],
          "scattermapbox": [
           {
            "marker": {
             "colorbar": {
              "outlinewidth": 0,
              "ticks": ""
             }
            },
            "type": "scattermapbox"
           }
          ],
          "scatterpolar": [
           {
            "marker": {
             "colorbar": {
              "outlinewidth": 0,
              "ticks": ""
             }
            },
            "type": "scatterpolar"
           }
          ],
          "scatterpolargl": [
           {
            "marker": {
             "colorbar": {
              "outlinewidth": 0,
              "ticks": ""
             }
            },
            "type": "scatterpolargl"
           }
          ],
          "scatterternary": [
           {
            "marker": {
             "colorbar": {
              "outlinewidth": 0,
              "ticks": ""
             }
            },
            "type": "scatterternary"
           }
          ],
          "surface": [
           {
            "colorbar": {
             "outlinewidth": 0,
             "ticks": ""
            },
            "colorscale": [
             [
              0,
              "#0d0887"
             ],
             [
              0.1111111111111111,
              "#46039f"
             ],
             [
              0.2222222222222222,
              "#7201a8"
             ],
             [
              0.3333333333333333,
              "#9c179e"
             ],
             [
              0.4444444444444444,
              "#bd3786"
             ],
             [
              0.5555555555555556,
              "#d8576b"
             ],
             [
              0.6666666666666666,
              "#ed7953"
             ],
             [
              0.7777777777777778,
              "#fb9f3a"
             ],
             [
              0.8888888888888888,
              "#fdca26"
             ],
             [
              1,
              "#f0f921"
             ]
            ],
            "type": "surface"
           }
          ],
          "table": [
           {
            "cells": {
             "fill": {
              "color": "#EBF0F8"
             },
             "line": {
              "color": "white"
             }
            },
            "header": {
             "fill": {
              "color": "#C8D4E3"
             },
             "line": {
              "color": "white"
             }
            },
            "type": "table"
           }
          ]
         },
         "layout": {
          "annotationdefaults": {
           "arrowcolor": "#2a3f5f",
           "arrowhead": 0,
           "arrowwidth": 1
          },
          "autotypenumbers": "strict",
          "coloraxis": {
           "colorbar": {
            "outlinewidth": 0,
            "ticks": ""
           }
          },
          "colorscale": {
           "diverging": [
            [
             0,
             "#8e0152"
            ],
            [
             0.1,
             "#c51b7d"
            ],
            [
             0.2,
             "#de77ae"
            ],
            [
             0.3,
             "#f1b6da"
            ],
            [
             0.4,
             "#fde0ef"
            ],
            [
             0.5,
             "#f7f7f7"
            ],
            [
             0.6,
             "#e6f5d0"
            ],
            [
             0.7,
             "#b8e186"
            ],
            [
             0.8,
             "#7fbc41"
            ],
            [
             0.9,
             "#4d9221"
            ],
            [
             1,
             "#276419"
            ]
           ],
           "sequential": [
            [
             0,
             "#0d0887"
            ],
            [
             0.1111111111111111,
             "#46039f"
            ],
            [
             0.2222222222222222,
             "#7201a8"
            ],
            [
             0.3333333333333333,
             "#9c179e"
            ],
            [
             0.4444444444444444,
             "#bd3786"
            ],
            [
             0.5555555555555556,
             "#d8576b"
            ],
            [
             0.6666666666666666,
             "#ed7953"
            ],
            [
             0.7777777777777778,
             "#fb9f3a"
            ],
            [
             0.8888888888888888,
             "#fdca26"
            ],
            [
             1,
             "#f0f921"
            ]
           ],
           "sequentialminus": [
            [
             0,
             "#0d0887"
            ],
            [
             0.1111111111111111,
             "#46039f"
            ],
            [
             0.2222222222222222,
             "#7201a8"
            ],
            [
             0.3333333333333333,
             "#9c179e"
            ],
            [
             0.4444444444444444,
             "#bd3786"
            ],
            [
             0.5555555555555556,
             "#d8576b"
            ],
            [
             0.6666666666666666,
             "#ed7953"
            ],
            [
             0.7777777777777778,
             "#fb9f3a"
            ],
            [
             0.8888888888888888,
             "#fdca26"
            ],
            [
             1,
             "#f0f921"
            ]
           ]
          },
          "colorway": [
           "#636efa",
           "#EF553B",
           "#00cc96",
           "#ab63fa",
           "#FFA15A",
           "#19d3f3",
           "#FF6692",
           "#B6E880",
           "#FF97FF",
           "#FECB52"
          ],
          "font": {
           "color": "#2a3f5f"
          },
          "geo": {
           "bgcolor": "white",
           "lakecolor": "white",
           "landcolor": "#E5ECF6",
           "showlakes": true,
           "showland": true,
           "subunitcolor": "white"
          },
          "hoverlabel": {
           "align": "left"
          },
          "hovermode": "closest",
          "mapbox": {
           "style": "light"
          },
          "paper_bgcolor": "white",
          "plot_bgcolor": "#E5ECF6",
          "polar": {
           "angularaxis": {
            "gridcolor": "white",
            "linecolor": "white",
            "ticks": ""
           },
           "bgcolor": "#E5ECF6",
           "radialaxis": {
            "gridcolor": "white",
            "linecolor": "white",
            "ticks": ""
           }
          },
          "scene": {
           "xaxis": {
            "backgroundcolor": "#E5ECF6",
            "gridcolor": "white",
            "gridwidth": 2,
            "linecolor": "white",
            "showbackground": true,
            "ticks": "",
            "zerolinecolor": "white"
           },
           "yaxis": {
            "backgroundcolor": "#E5ECF6",
            "gridcolor": "white",
            "gridwidth": 2,
            "linecolor": "white",
            "showbackground": true,
            "ticks": "",
            "zerolinecolor": "white"
           },
           "zaxis": {
            "backgroundcolor": "#E5ECF6",
            "gridcolor": "white",
            "gridwidth": 2,
            "linecolor": "white",
            "showbackground": true,
            "ticks": "",
            "zerolinecolor": "white"
           }
          },
          "shapedefaults": {
           "line": {
            "color": "#2a3f5f"
           }
          },
          "ternary": {
           "aaxis": {
            "gridcolor": "white",
            "linecolor": "white",
            "ticks": ""
           },
           "baxis": {
            "gridcolor": "white",
            "linecolor": "white",
            "ticks": ""
           },
           "bgcolor": "#E5ECF6",
           "caxis": {
            "gridcolor": "white",
            "linecolor": "white",
            "ticks": ""
           }
          },
          "title": {
           "x": 0.05
          },
          "xaxis": {
           "automargin": true,
           "gridcolor": "white",
           "linecolor": "white",
           "ticks": "",
           "title": {
            "standoff": 15
           },
           "zerolinecolor": "white",
           "zerolinewidth": 2
          },
          "yaxis": {
           "automargin": true,
           "gridcolor": "white",
           "linecolor": "white",
           "ticks": "",
           "title": {
            "standoff": 15
           },
           "zerolinecolor": "white",
           "zerolinewidth": 2
          }
         }
        },
        "title": {
         "text": "Quantidade de Crimes Violentos por Bairro - Top20"
        }
       }
      }
     },
     "metadata": {},
     "output_type": "display_data"
    }
   ],
   "source": [
    "# # Data with latitude/longitude and values\n",
    "fig = px.scatter_mapbox(crimes_graves_local, lat = 'LATITUDE', lon = 'LONGITUDE', size = 'freq',\n",
    "                        hover_data='BAIRRO',\n",
    "                        center = dict(lat = -23.54982384466997, lon = -46.63386828465929),\n",
    "                        zoom = 9,\n",
    "                        color = 'freq',\n",
    "                        mapbox_style = 'open-street-map',\n",
    "                        color_continuous_scale = 'rainbow',\n",
    "                        opacity = 0.7,\n",
    "                        title='Quantidade de Crimes Violentos por Bairro - Top20')\n",
    "fig.show()"
   ]
  },
  {
   "cell_type": "code",
   "execution_count": 22,
   "metadata": {},
   "outputs": [
    {
     "data": {
      "text/html": [
       "<div>\n",
       "<style scoped>\n",
       "    .dataframe tbody tr th:only-of-type {\n",
       "        vertical-align: middle;\n",
       "    }\n",
       "\n",
       "    .dataframe tbody tr th {\n",
       "        vertical-align: top;\n",
       "    }\n",
       "\n",
       "    .dataframe thead th {\n",
       "        text-align: right;\n",
       "    }\n",
       "</style>\n",
       "<table border=\"1\" class=\"dataframe\">\n",
       "  <thead>\n",
       "    <tr style=\"text-align: right;\">\n",
       "      <th></th>\n",
       "      <th>MES_ESTATISTICA</th>\n",
       "      <th>ANO_ESTATISTICA</th>\n",
       "      <th>freq</th>\n",
       "      <th>MES_ANO</th>\n",
       "    </tr>\n",
       "  </thead>\n",
       "  <tbody>\n",
       "    <tr>\n",
       "      <th>19</th>\n",
       "      <td>1</td>\n",
       "      <td>2022</td>\n",
       "      <td>288</td>\n",
       "      <td>20221</td>\n",
       "    </tr>\n",
       "    <tr>\n",
       "      <th>18</th>\n",
       "      <td>2</td>\n",
       "      <td>2022</td>\n",
       "      <td>294</td>\n",
       "      <td>20222</td>\n",
       "    </tr>\n",
       "    <tr>\n",
       "      <th>1</th>\n",
       "      <td>3</td>\n",
       "      <td>2022</td>\n",
       "      <td>398</td>\n",
       "      <td>20223</td>\n",
       "    </tr>\n",
       "    <tr>\n",
       "      <th>13</th>\n",
       "      <td>4</td>\n",
       "      <td>2022</td>\n",
       "      <td>336</td>\n",
       "      <td>20224</td>\n",
       "    </tr>\n",
       "    <tr>\n",
       "      <th>17</th>\n",
       "      <td>5</td>\n",
       "      <td>2022</td>\n",
       "      <td>308</td>\n",
       "      <td>20225</td>\n",
       "    </tr>\n",
       "    <tr>\n",
       "      <th>21</th>\n",
       "      <td>6</td>\n",
       "      <td>2022</td>\n",
       "      <td>263</td>\n",
       "      <td>20226</td>\n",
       "    </tr>\n",
       "    <tr>\n",
       "      <th>10</th>\n",
       "      <td>7</td>\n",
       "      <td>2022</td>\n",
       "      <td>343</td>\n",
       "      <td>20227</td>\n",
       "    </tr>\n",
       "    <tr>\n",
       "      <th>9</th>\n",
       "      <td>8</td>\n",
       "      <td>2022</td>\n",
       "      <td>353</td>\n",
       "      <td>20228</td>\n",
       "    </tr>\n",
       "    <tr>\n",
       "      <th>7</th>\n",
       "      <td>9</td>\n",
       "      <td>2022</td>\n",
       "      <td>353</td>\n",
       "      <td>20229</td>\n",
       "    </tr>\n",
       "    <tr>\n",
       "      <th>2</th>\n",
       "      <td>10</td>\n",
       "      <td>2022</td>\n",
       "      <td>394</td>\n",
       "      <td>202210</td>\n",
       "    </tr>\n",
       "    <tr>\n",
       "      <th>15</th>\n",
       "      <td>11</td>\n",
       "      <td>2022</td>\n",
       "      <td>326</td>\n",
       "      <td>202211</td>\n",
       "    </tr>\n",
       "    <tr>\n",
       "      <th>16</th>\n",
       "      <td>12</td>\n",
       "      <td>2022</td>\n",
       "      <td>312</td>\n",
       "      <td>202212</td>\n",
       "    </tr>\n",
       "    <tr>\n",
       "      <th>12</th>\n",
       "      <td>1</td>\n",
       "      <td>2023</td>\n",
       "      <td>339</td>\n",
       "      <td>20231</td>\n",
       "    </tr>\n",
       "    <tr>\n",
       "      <th>4</th>\n",
       "      <td>2</td>\n",
       "      <td>2023</td>\n",
       "      <td>367</td>\n",
       "      <td>20232</td>\n",
       "    </tr>\n",
       "    <tr>\n",
       "      <th>0</th>\n",
       "      <td>3</td>\n",
       "      <td>2023</td>\n",
       "      <td>410</td>\n",
       "      <td>20233</td>\n",
       "    </tr>\n",
       "    <tr>\n",
       "      <th>11</th>\n",
       "      <td>4</td>\n",
       "      <td>2023</td>\n",
       "      <td>341</td>\n",
       "      <td>20234</td>\n",
       "    </tr>\n",
       "    <tr>\n",
       "      <th>6</th>\n",
       "      <td>5</td>\n",
       "      <td>2023</td>\n",
       "      <td>354</td>\n",
       "      <td>20235</td>\n",
       "    </tr>\n",
       "    <tr>\n",
       "      <th>14</th>\n",
       "      <td>6</td>\n",
       "      <td>2023</td>\n",
       "      <td>329</td>\n",
       "      <td>20236</td>\n",
       "    </tr>\n",
       "    <tr>\n",
       "      <th>20</th>\n",
       "      <td>7</td>\n",
       "      <td>2023</td>\n",
       "      <td>280</td>\n",
       "      <td>20237</td>\n",
       "    </tr>\n",
       "    <tr>\n",
       "      <th>5</th>\n",
       "      <td>8</td>\n",
       "      <td>2023</td>\n",
       "      <td>356</td>\n",
       "      <td>20238</td>\n",
       "    </tr>\n",
       "    <tr>\n",
       "      <th>3</th>\n",
       "      <td>9</td>\n",
       "      <td>2023</td>\n",
       "      <td>381</td>\n",
       "      <td>20239</td>\n",
       "    </tr>\n",
       "    <tr>\n",
       "      <th>8</th>\n",
       "      <td>10</td>\n",
       "      <td>2023</td>\n",
       "      <td>353</td>\n",
       "      <td>202310</td>\n",
       "    </tr>\n",
       "  </tbody>\n",
       "</table>\n",
       "</div>"
      ],
      "text/plain": [
       "    MES_ESTATISTICA  ANO_ESTATISTICA  freq MES_ANO\n",
       "19                1             2022   288   20221\n",
       "18                2             2022   294   20222\n",
       "1                 3             2022   398   20223\n",
       "13                4             2022   336   20224\n",
       "17                5             2022   308   20225\n",
       "21                6             2022   263   20226\n",
       "10                7             2022   343   20227\n",
       "9                 8             2022   353   20228\n",
       "7                 9             2022   353   20229\n",
       "2                10             2022   394  202210\n",
       "15               11             2022   326  202211\n",
       "16               12             2022   312  202212\n",
       "12                1             2023   339   20231\n",
       "4                 2             2023   367   20232\n",
       "0                 3             2023   410   20233\n",
       "11                4             2023   341   20234\n",
       "6                 5             2023   354   20235\n",
       "14                6             2023   329   20236\n",
       "20                7             2023   280   20237\n",
       "5                 8             2023   356   20238\n",
       "3                 9             2023   381   20239\n",
       "8                10             2023   353  202310"
      ]
     },
     "execution_count": 22,
     "metadata": {},
     "output_type": "execute_result"
    }
   ],
   "source": [
    "mes_ano_crimes_graves = df_crimes_violentos.value_counts(['MES_ESTATISTICA', 'ANO_ESTATISTICA']).reset_index().rename(columns={0: 'freq'})\\\n",
    ".sort_values(by = ['ANO_ESTATISTICA','MES_ESTATISTICA'])\n",
    "mes_ano_crimes_graves['MES_ANO'] = [str(i) + str(j) for i,j in zip(mes_ano_crimes_graves['ANO_ESTATISTICA'], mes_ano_crimes_graves['MES_ESTATISTICA'])]\n",
    "mes_ano_crimes_graves"
   ]
  },
  {
   "cell_type": "markdown",
   "metadata": {},
   "source": [
    "### Evolução de crimes (gerais e violentos no período)"
   ]
  },
  {
   "cell_type": "code",
   "execution_count": 23,
   "metadata": {},
   "outputs": [
    {
     "data": {
      "application/vnd.plotly.v1+json": {
       "config": {
        "plotlyServerURL": "https://plot.ly"
       },
       "data": [
        {
         "hovertemplate": "MES_ANO=%{x}<br>freq=%{y}<extra></extra>",
         "legendgroup": "",
         "line": {
          "color": "#1F77B4",
          "dash": "solid"
         },
         "marker": {
          "symbol": "circle"
         },
         "mode": "lines",
         "name": "",
         "orientation": "v",
         "showlegend": false,
         "type": "scatter",
         "x": [
          "20221",
          "20222",
          "20223",
          "20224",
          "20225",
          "20226",
          "20227",
          "20228",
          "20229",
          "202210",
          "202211",
          "202212",
          "20231",
          "20232",
          "20233",
          "20234",
          "20235",
          "20236",
          "20237",
          "20238",
          "20239",
          "202310"
         ],
         "xaxis": "x",
         "y": [
          288,
          294,
          398,
          336,
          308,
          263,
          343,
          353,
          353,
          394,
          326,
          312,
          339,
          367,
          410,
          341,
          354,
          329,
          280,
          356,
          381,
          353
         ],
         "yaxis": "y"
        }
       ],
       "layout": {
        "legend": {
         "tracegroupgap": 0
        },
        "template": {
         "data": {
          "bar": [
           {
            "error_x": {
             "color": "rgb(36,36,36)"
            },
            "error_y": {
             "color": "rgb(36,36,36)"
            },
            "marker": {
             "line": {
              "color": "white",
              "width": 0.5
             },
             "pattern": {
              "fillmode": "overlay",
              "size": 10,
              "solidity": 0.2
             }
            },
            "type": "bar"
           }
          ],
          "barpolar": [
           {
            "marker": {
             "line": {
              "color": "white",
              "width": 0.5
             },
             "pattern": {
              "fillmode": "overlay",
              "size": 10,
              "solidity": 0.2
             }
            },
            "type": "barpolar"
           }
          ],
          "carpet": [
           {
            "aaxis": {
             "endlinecolor": "rgb(36,36,36)",
             "gridcolor": "white",
             "linecolor": "white",
             "minorgridcolor": "white",
             "startlinecolor": "rgb(36,36,36)"
            },
            "baxis": {
             "endlinecolor": "rgb(36,36,36)",
             "gridcolor": "white",
             "linecolor": "white",
             "minorgridcolor": "white",
             "startlinecolor": "rgb(36,36,36)"
            },
            "type": "carpet"
           }
          ],
          "choropleth": [
           {
            "colorbar": {
             "outlinewidth": 1,
             "tickcolor": "rgb(36,36,36)",
             "ticks": "outside"
            },
            "type": "choropleth"
           }
          ],
          "contour": [
           {
            "colorbar": {
             "outlinewidth": 1,
             "tickcolor": "rgb(36,36,36)",
             "ticks": "outside"
            },
            "colorscale": [
             [
              0,
              "#440154"
             ],
             [
              0.1111111111111111,
              "#482878"
             ],
             [
              0.2222222222222222,
              "#3e4989"
             ],
             [
              0.3333333333333333,
              "#31688e"
             ],
             [
              0.4444444444444444,
              "#26828e"
             ],
             [
              0.5555555555555556,
              "#1f9e89"
             ],
             [
              0.6666666666666666,
              "#35b779"
             ],
             [
              0.7777777777777778,
              "#6ece58"
             ],
             [
              0.8888888888888888,
              "#b5de2b"
             ],
             [
              1,
              "#fde725"
             ]
            ],
            "type": "contour"
           }
          ],
          "contourcarpet": [
           {
            "colorbar": {
             "outlinewidth": 1,
             "tickcolor": "rgb(36,36,36)",
             "ticks": "outside"
            },
            "type": "contourcarpet"
           }
          ],
          "heatmap": [
           {
            "colorbar": {
             "outlinewidth": 1,
             "tickcolor": "rgb(36,36,36)",
             "ticks": "outside"
            },
            "colorscale": [
             [
              0,
              "#440154"
             ],
             [
              0.1111111111111111,
              "#482878"
             ],
             [
              0.2222222222222222,
              "#3e4989"
             ],
             [
              0.3333333333333333,
              "#31688e"
             ],
             [
              0.4444444444444444,
              "#26828e"
             ],
             [
              0.5555555555555556,
              "#1f9e89"
             ],
             [
              0.6666666666666666,
              "#35b779"
             ],
             [
              0.7777777777777778,
              "#6ece58"
             ],
             [
              0.8888888888888888,
              "#b5de2b"
             ],
             [
              1,
              "#fde725"
             ]
            ],
            "type": "heatmap"
           }
          ],
          "heatmapgl": [
           {
            "colorbar": {
             "outlinewidth": 1,
             "tickcolor": "rgb(36,36,36)",
             "ticks": "outside"
            },
            "colorscale": [
             [
              0,
              "#440154"
             ],
             [
              0.1111111111111111,
              "#482878"
             ],
             [
              0.2222222222222222,
              "#3e4989"
             ],
             [
              0.3333333333333333,
              "#31688e"
             ],
             [
              0.4444444444444444,
              "#26828e"
             ],
             [
              0.5555555555555556,
              "#1f9e89"
             ],
             [
              0.6666666666666666,
              "#35b779"
             ],
             [
              0.7777777777777778,
              "#6ece58"
             ],
             [
              0.8888888888888888,
              "#b5de2b"
             ],
             [
              1,
              "#fde725"
             ]
            ],
            "type": "heatmapgl"
           }
          ],
          "histogram": [
           {
            "marker": {
             "line": {
              "color": "white",
              "width": 0.6
             }
            },
            "type": "histogram"
           }
          ],
          "histogram2d": [
           {
            "colorbar": {
             "outlinewidth": 1,
             "tickcolor": "rgb(36,36,36)",
             "ticks": "outside"
            },
            "colorscale": [
             [
              0,
              "#440154"
             ],
             [
              0.1111111111111111,
              "#482878"
             ],
             [
              0.2222222222222222,
              "#3e4989"
             ],
             [
              0.3333333333333333,
              "#31688e"
             ],
             [
              0.4444444444444444,
              "#26828e"
             ],
             [
              0.5555555555555556,
              "#1f9e89"
             ],
             [
              0.6666666666666666,
              "#35b779"
             ],
             [
              0.7777777777777778,
              "#6ece58"
             ],
             [
              0.8888888888888888,
              "#b5de2b"
             ],
             [
              1,
              "#fde725"
             ]
            ],
            "type": "histogram2d"
           }
          ],
          "histogram2dcontour": [
           {
            "colorbar": {
             "outlinewidth": 1,
             "tickcolor": "rgb(36,36,36)",
             "ticks": "outside"
            },
            "colorscale": [
             [
              0,
              "#440154"
             ],
             [
              0.1111111111111111,
              "#482878"
             ],
             [
              0.2222222222222222,
              "#3e4989"
             ],
             [
              0.3333333333333333,
              "#31688e"
             ],
             [
              0.4444444444444444,
              "#26828e"
             ],
             [
              0.5555555555555556,
              "#1f9e89"
             ],
             [
              0.6666666666666666,
              "#35b779"
             ],
             [
              0.7777777777777778,
              "#6ece58"
             ],
             [
              0.8888888888888888,
              "#b5de2b"
             ],
             [
              1,
              "#fde725"
             ]
            ],
            "type": "histogram2dcontour"
           }
          ],
          "mesh3d": [
           {
            "colorbar": {
             "outlinewidth": 1,
             "tickcolor": "rgb(36,36,36)",
             "ticks": "outside"
            },
            "type": "mesh3d"
           }
          ],
          "parcoords": [
           {
            "line": {
             "colorbar": {
              "outlinewidth": 1,
              "tickcolor": "rgb(36,36,36)",
              "ticks": "outside"
             }
            },
            "type": "parcoords"
           }
          ],
          "pie": [
           {
            "automargin": true,
            "type": "pie"
           }
          ],
          "scatter": [
           {
            "fillpattern": {
             "fillmode": "overlay",
             "size": 10,
             "solidity": 0.2
            },
            "type": "scatter"
           }
          ],
          "scatter3d": [
           {
            "line": {
             "colorbar": {
              "outlinewidth": 1,
              "tickcolor": "rgb(36,36,36)",
              "ticks": "outside"
             }
            },
            "marker": {
             "colorbar": {
              "outlinewidth": 1,
              "tickcolor": "rgb(36,36,36)",
              "ticks": "outside"
             }
            },
            "type": "scatter3d"
           }
          ],
          "scattercarpet": [
           {
            "marker": {
             "colorbar": {
              "outlinewidth": 1,
              "tickcolor": "rgb(36,36,36)",
              "ticks": "outside"
             }
            },
            "type": "scattercarpet"
           }
          ],
          "scattergeo": [
           {
            "marker": {
             "colorbar": {
              "outlinewidth": 1,
              "tickcolor": "rgb(36,36,36)",
              "ticks": "outside"
             }
            },
            "type": "scattergeo"
           }
          ],
          "scattergl": [
           {
            "marker": {
             "colorbar": {
              "outlinewidth": 1,
              "tickcolor": "rgb(36,36,36)",
              "ticks": "outside"
             }
            },
            "type": "scattergl"
           }
          ],
          "scattermapbox": [
           {
            "marker": {
             "colorbar": {
              "outlinewidth": 1,
              "tickcolor": "rgb(36,36,36)",
              "ticks": "outside"
             }
            },
            "type": "scattermapbox"
           }
          ],
          "scatterpolar": [
           {
            "marker": {
             "colorbar": {
              "outlinewidth": 1,
              "tickcolor": "rgb(36,36,36)",
              "ticks": "outside"
             }
            },
            "type": "scatterpolar"
           }
          ],
          "scatterpolargl": [
           {
            "marker": {
             "colorbar": {
              "outlinewidth": 1,
              "tickcolor": "rgb(36,36,36)",
              "ticks": "outside"
             }
            },
            "type": "scatterpolargl"
           }
          ],
          "scatterternary": [
           {
            "marker": {
             "colorbar": {
              "outlinewidth": 1,
              "tickcolor": "rgb(36,36,36)",
              "ticks": "outside"
             }
            },
            "type": "scatterternary"
           }
          ],
          "surface": [
           {
            "colorbar": {
             "outlinewidth": 1,
             "tickcolor": "rgb(36,36,36)",
             "ticks": "outside"
            },
            "colorscale": [
             [
              0,
              "#440154"
             ],
             [
              0.1111111111111111,
              "#482878"
             ],
             [
              0.2222222222222222,
              "#3e4989"
             ],
             [
              0.3333333333333333,
              "#31688e"
             ],
             [
              0.4444444444444444,
              "#26828e"
             ],
             [
              0.5555555555555556,
              "#1f9e89"
             ],
             [
              0.6666666666666666,
              "#35b779"
             ],
             [
              0.7777777777777778,
              "#6ece58"
             ],
             [
              0.8888888888888888,
              "#b5de2b"
             ],
             [
              1,
              "#fde725"
             ]
            ],
            "type": "surface"
           }
          ],
          "table": [
           {
            "cells": {
             "fill": {
              "color": "rgb(237,237,237)"
             },
             "line": {
              "color": "white"
             }
            },
            "header": {
             "fill": {
              "color": "rgb(217,217,217)"
             },
             "line": {
              "color": "white"
             }
            },
            "type": "table"
           }
          ]
         },
         "layout": {
          "annotationdefaults": {
           "arrowhead": 0,
           "arrowwidth": 1
          },
          "autotypenumbers": "strict",
          "coloraxis": {
           "colorbar": {
            "outlinewidth": 1,
            "tickcolor": "rgb(36,36,36)",
            "ticks": "outside"
           }
          },
          "colorscale": {
           "diverging": [
            [
             0,
             "rgb(103,0,31)"
            ],
            [
             0.1,
             "rgb(178,24,43)"
            ],
            [
             0.2,
             "rgb(214,96,77)"
            ],
            [
             0.3,
             "rgb(244,165,130)"
            ],
            [
             0.4,
             "rgb(253,219,199)"
            ],
            [
             0.5,
             "rgb(247,247,247)"
            ],
            [
             0.6,
             "rgb(209,229,240)"
            ],
            [
             0.7,
             "rgb(146,197,222)"
            ],
            [
             0.8,
             "rgb(67,147,195)"
            ],
            [
             0.9,
             "rgb(33,102,172)"
            ],
            [
             1,
             "rgb(5,48,97)"
            ]
           ],
           "sequential": [
            [
             0,
             "#440154"
            ],
            [
             0.1111111111111111,
             "#482878"
            ],
            [
             0.2222222222222222,
             "#3e4989"
            ],
            [
             0.3333333333333333,
             "#31688e"
            ],
            [
             0.4444444444444444,
             "#26828e"
            ],
            [
             0.5555555555555556,
             "#1f9e89"
            ],
            [
             0.6666666666666666,
             "#35b779"
            ],
            [
             0.7777777777777778,
             "#6ece58"
            ],
            [
             0.8888888888888888,
             "#b5de2b"
            ],
            [
             1,
             "#fde725"
            ]
           ],
           "sequentialminus": [
            [
             0,
             "#440154"
            ],
            [
             0.1111111111111111,
             "#482878"
            ],
            [
             0.2222222222222222,
             "#3e4989"
            ],
            [
             0.3333333333333333,
             "#31688e"
            ],
            [
             0.4444444444444444,
             "#26828e"
            ],
            [
             0.5555555555555556,
             "#1f9e89"
            ],
            [
             0.6666666666666666,
             "#35b779"
            ],
            [
             0.7777777777777778,
             "#6ece58"
            ],
            [
             0.8888888888888888,
             "#b5de2b"
            ],
            [
             1,
             "#fde725"
            ]
           ]
          },
          "colorway": [
           "#1F77B4",
           "#FF7F0E",
           "#2CA02C",
           "#D62728",
           "#9467BD",
           "#8C564B",
           "#E377C2",
           "#7F7F7F",
           "#BCBD22",
           "#17BECF"
          ],
          "font": {
           "color": "rgb(36,36,36)"
          },
          "geo": {
           "bgcolor": "white",
           "lakecolor": "white",
           "landcolor": "white",
           "showlakes": true,
           "showland": true,
           "subunitcolor": "white"
          },
          "hoverlabel": {
           "align": "left"
          },
          "hovermode": "closest",
          "mapbox": {
           "style": "light"
          },
          "paper_bgcolor": "white",
          "plot_bgcolor": "white",
          "polar": {
           "angularaxis": {
            "gridcolor": "rgb(232,232,232)",
            "linecolor": "rgb(36,36,36)",
            "showgrid": false,
            "showline": true,
            "ticks": "outside"
           },
           "bgcolor": "white",
           "radialaxis": {
            "gridcolor": "rgb(232,232,232)",
            "linecolor": "rgb(36,36,36)",
            "showgrid": false,
            "showline": true,
            "ticks": "outside"
           }
          },
          "scene": {
           "xaxis": {
            "backgroundcolor": "white",
            "gridcolor": "rgb(232,232,232)",
            "gridwidth": 2,
            "linecolor": "rgb(36,36,36)",
            "showbackground": true,
            "showgrid": false,
            "showline": true,
            "ticks": "outside",
            "zeroline": false,
            "zerolinecolor": "rgb(36,36,36)"
           },
           "yaxis": {
            "backgroundcolor": "white",
            "gridcolor": "rgb(232,232,232)",
            "gridwidth": 2,
            "linecolor": "rgb(36,36,36)",
            "showbackground": true,
            "showgrid": false,
            "showline": true,
            "ticks": "outside",
            "zeroline": false,
            "zerolinecolor": "rgb(36,36,36)"
           },
           "zaxis": {
            "backgroundcolor": "white",
            "gridcolor": "rgb(232,232,232)",
            "gridwidth": 2,
            "linecolor": "rgb(36,36,36)",
            "showbackground": true,
            "showgrid": false,
            "showline": true,
            "ticks": "outside",
            "zeroline": false,
            "zerolinecolor": "rgb(36,36,36)"
           }
          },
          "shapedefaults": {
           "fillcolor": "black",
           "line": {
            "width": 0
           },
           "opacity": 0.3
          },
          "ternary": {
           "aaxis": {
            "gridcolor": "rgb(232,232,232)",
            "linecolor": "rgb(36,36,36)",
            "showgrid": false,
            "showline": true,
            "ticks": "outside"
           },
           "baxis": {
            "gridcolor": "rgb(232,232,232)",
            "linecolor": "rgb(36,36,36)",
            "showgrid": false,
            "showline": true,
            "ticks": "outside"
           },
           "bgcolor": "white",
           "caxis": {
            "gridcolor": "rgb(232,232,232)",
            "linecolor": "rgb(36,36,36)",
            "showgrid": false,
            "showline": true,
            "ticks": "outside"
           }
          },
          "title": {
           "x": 0.05
          },
          "xaxis": {
           "automargin": true,
           "gridcolor": "rgb(232,232,232)",
           "linecolor": "rgb(36,36,36)",
           "showgrid": false,
           "showline": true,
           "ticks": "outside",
           "title": {
            "standoff": 15
           },
           "zeroline": false,
           "zerolinecolor": "rgb(36,36,36)"
          },
          "yaxis": {
           "automargin": true,
           "gridcolor": "rgb(232,232,232)",
           "linecolor": "rgb(36,36,36)",
           "showgrid": false,
           "showline": true,
           "ticks": "outside",
           "title": {
            "standoff": 15
           },
           "zeroline": false,
           "zerolinecolor": "rgb(36,36,36)"
          }
         }
        },
        "title": {
         "text": " Quantidade Crimes Violentos Jan à Out 2023"
        },
        "xaxis": {
         "anchor": "y",
         "domain": [
          0,
          1
         ],
         "title": {
          "text": "MES_ANO"
         }
        },
        "yaxis": {
         "anchor": "x",
         "domain": [
          0,
          1
         ],
         "title": {
          "text": "freq"
         }
        }
       }
      }
     },
     "metadata": {},
     "output_type": "display_data"
    }
   ],
   "source": [
    "px.line(mes_ano_crimes_graves, x = 'MES_ANO', y = 'freq', template='simple_white', title=' Quantidade Crimes Violentos Jan à Out 2023')"
   ]
  },
  {
   "cell_type": "code",
   "execution_count": 24,
   "metadata": {},
   "outputs": [
    {
     "data": {
      "text/html": [
       "<div>\n",
       "<style scoped>\n",
       "    .dataframe tbody tr th:only-of-type {\n",
       "        vertical-align: middle;\n",
       "    }\n",
       "\n",
       "    .dataframe tbody tr th {\n",
       "        vertical-align: top;\n",
       "    }\n",
       "\n",
       "    .dataframe thead th {\n",
       "        text-align: right;\n",
       "    }\n",
       "</style>\n",
       "<table border=\"1\" class=\"dataframe\">\n",
       "  <thead>\n",
       "    <tr style=\"text-align: right;\">\n",
       "      <th></th>\n",
       "      <th>MES_ESTATISTICA</th>\n",
       "      <th>ANO_ESTATISTICA</th>\n",
       "      <th>freq</th>\n",
       "      <th>MES_ANO</th>\n",
       "    </tr>\n",
       "  </thead>\n",
       "  <tbody>\n",
       "    <tr>\n",
       "      <th>19</th>\n",
       "      <td>1</td>\n",
       "      <td>2022</td>\n",
       "      <td>35786</td>\n",
       "      <td>20221</td>\n",
       "    </tr>\n",
       "    <tr>\n",
       "      <th>20</th>\n",
       "      <td>2</td>\n",
       "      <td>2022</td>\n",
       "      <td>33810</td>\n",
       "      <td>20222</td>\n",
       "    </tr>\n",
       "    <tr>\n",
       "      <th>2</th>\n",
       "      <td>3</td>\n",
       "      <td>2022</td>\n",
       "      <td>43375</td>\n",
       "      <td>20223</td>\n",
       "    </tr>\n",
       "    <tr>\n",
       "      <th>11</th>\n",
       "      <td>4</td>\n",
       "      <td>2022</td>\n",
       "      <td>40671</td>\n",
       "      <td>20224</td>\n",
       "    </tr>\n",
       "    <tr>\n",
       "      <th>21</th>\n",
       "      <td>5</td>\n",
       "      <td>2022</td>\n",
       "      <td>4231</td>\n",
       "      <td>20225</td>\n",
       "    </tr>\n",
       "    <tr>\n",
       "      <th>10</th>\n",
       "      <td>6</td>\n",
       "      <td>2022</td>\n",
       "      <td>41027</td>\n",
       "      <td>20226</td>\n",
       "    </tr>\n",
       "    <tr>\n",
       "      <th>17</th>\n",
       "      <td>7</td>\n",
       "      <td>2022</td>\n",
       "      <td>39108</td>\n",
       "      <td>20227</td>\n",
       "    </tr>\n",
       "    <tr>\n",
       "      <th>8</th>\n",
       "      <td>8</td>\n",
       "      <td>2022</td>\n",
       "      <td>41419</td>\n",
       "      <td>20228</td>\n",
       "    </tr>\n",
       "    <tr>\n",
       "      <th>15</th>\n",
       "      <td>9</td>\n",
       "      <td>2022</td>\n",
       "      <td>39628</td>\n",
       "      <td>20229</td>\n",
       "    </tr>\n",
       "    <tr>\n",
       "      <th>1</th>\n",
       "      <td>10</td>\n",
       "      <td>2022</td>\n",
       "      <td>43924</td>\n",
       "      <td>202210</td>\n",
       "    </tr>\n",
       "    <tr>\n",
       "      <th>4</th>\n",
       "      <td>11</td>\n",
       "      <td>2022</td>\n",
       "      <td>43160</td>\n",
       "      <td>202211</td>\n",
       "    </tr>\n",
       "    <tr>\n",
       "      <th>3</th>\n",
       "      <td>12</td>\n",
       "      <td>2022</td>\n",
       "      <td>43374</td>\n",
       "      <td>202212</td>\n",
       "    </tr>\n",
       "    <tr>\n",
       "      <th>14</th>\n",
       "      <td>1</td>\n",
       "      <td>2023</td>\n",
       "      <td>39746</td>\n",
       "      <td>20231</td>\n",
       "    </tr>\n",
       "    <tr>\n",
       "      <th>16</th>\n",
       "      <td>2</td>\n",
       "      <td>2023</td>\n",
       "      <td>39256</td>\n",
       "      <td>20232</td>\n",
       "    </tr>\n",
       "    <tr>\n",
       "      <th>0</th>\n",
       "      <td>3</td>\n",
       "      <td>2023</td>\n",
       "      <td>45188</td>\n",
       "      <td>20233</td>\n",
       "    </tr>\n",
       "    <tr>\n",
       "      <th>18</th>\n",
       "      <td>4</td>\n",
       "      <td>2023</td>\n",
       "      <td>38525</td>\n",
       "      <td>20234</td>\n",
       "    </tr>\n",
       "    <tr>\n",
       "      <th>6</th>\n",
       "      <td>5</td>\n",
       "      <td>2023</td>\n",
       "      <td>41782</td>\n",
       "      <td>20235</td>\n",
       "    </tr>\n",
       "    <tr>\n",
       "      <th>12</th>\n",
       "      <td>6</td>\n",
       "      <td>2023</td>\n",
       "      <td>40485</td>\n",
       "      <td>20236</td>\n",
       "    </tr>\n",
       "    <tr>\n",
       "      <th>13</th>\n",
       "      <td>7</td>\n",
       "      <td>2023</td>\n",
       "      <td>39843</td>\n",
       "      <td>20237</td>\n",
       "    </tr>\n",
       "    <tr>\n",
       "      <th>7</th>\n",
       "      <td>8</td>\n",
       "      <td>2023</td>\n",
       "      <td>41608</td>\n",
       "      <td>20238</td>\n",
       "    </tr>\n",
       "    <tr>\n",
       "      <th>9</th>\n",
       "      <td>9</td>\n",
       "      <td>2023</td>\n",
       "      <td>41166</td>\n",
       "      <td>20239</td>\n",
       "    </tr>\n",
       "    <tr>\n",
       "      <th>5</th>\n",
       "      <td>10</td>\n",
       "      <td>2023</td>\n",
       "      <td>42431</td>\n",
       "      <td>202310</td>\n",
       "    </tr>\n",
       "  </tbody>\n",
       "</table>\n",
       "</div>"
      ],
      "text/plain": [
       "    MES_ESTATISTICA  ANO_ESTATISTICA   freq MES_ANO\n",
       "19                1             2022  35786   20221\n",
       "20                2             2022  33810   20222\n",
       "2                 3             2022  43375   20223\n",
       "11                4             2022  40671   20224\n",
       "21                5             2022   4231   20225\n",
       "10                6             2022  41027   20226\n",
       "17                7             2022  39108   20227\n",
       "8                 8             2022  41419   20228\n",
       "15                9             2022  39628   20229\n",
       "1                10             2022  43924  202210\n",
       "4                11             2022  43160  202211\n",
       "3                12             2022  43374  202212\n",
       "14                1             2023  39746   20231\n",
       "16                2             2023  39256   20232\n",
       "0                 3             2023  45188   20233\n",
       "18                4             2023  38525   20234\n",
       "6                 5             2023  41782   20235\n",
       "12                6             2023  40485   20236\n",
       "13                7             2023  39843   20237\n",
       "7                 8             2023  41608   20238\n",
       "9                 9             2023  41166   20239\n",
       "5                10             2023  42431  202310"
      ]
     },
     "execution_count": 24,
     "metadata": {},
     "output_type": "execute_result"
    }
   ],
   "source": [
    "mes_ano_crimes_totais = df2.value_counts(['MES_ESTATISTICA', 'ANO_ESTATISTICA']).reset_index().rename(columns={0: 'freq'})\\\n",
    ".sort_values(by = ['ANO_ESTATISTICA','MES_ESTATISTICA'])\n",
    "mes_ano_crimes_totais['MES_ANO'] = [str(i) + str(j) for i,j in zip(mes_ano_crimes_graves['ANO_ESTATISTICA'], mes_ano_crimes_graves['MES_ESTATISTICA'])]\n",
    "mes_ano_crimes_totais"
   ]
  },
  {
   "cell_type": "code",
   "execution_count": 25,
   "metadata": {},
   "outputs": [
    {
     "data": {
      "application/vnd.plotly.v1+json": {
       "config": {
        "plotlyServerURL": "https://plot.ly"
       },
       "data": [
        {
         "hovertemplate": "MES_ANO=%{x}<br>freq=%{y}<extra></extra>",
         "legendgroup": "",
         "line": {
          "color": "#1F77B4",
          "dash": "solid"
         },
         "marker": {
          "symbol": "circle"
         },
         "mode": "lines",
         "name": "",
         "orientation": "v",
         "showlegend": false,
         "type": "scatter",
         "x": [
          "20231",
          "20232",
          "20233",
          "20234",
          "20235",
          "20236",
          "20237",
          "20238",
          "20239",
          "202310"
         ],
         "xaxis": "x",
         "y": [
          39746,
          39256,
          45188,
          38525,
          41782,
          40485,
          39843,
          41608,
          41166,
          42431
         ],
         "yaxis": "y"
        }
       ],
       "layout": {
        "legend": {
         "tracegroupgap": 0
        },
        "template": {
         "data": {
          "bar": [
           {
            "error_x": {
             "color": "rgb(36,36,36)"
            },
            "error_y": {
             "color": "rgb(36,36,36)"
            },
            "marker": {
             "line": {
              "color": "white",
              "width": 0.5
             },
             "pattern": {
              "fillmode": "overlay",
              "size": 10,
              "solidity": 0.2
             }
            },
            "type": "bar"
           }
          ],
          "barpolar": [
           {
            "marker": {
             "line": {
              "color": "white",
              "width": 0.5
             },
             "pattern": {
              "fillmode": "overlay",
              "size": 10,
              "solidity": 0.2
             }
            },
            "type": "barpolar"
           }
          ],
          "carpet": [
           {
            "aaxis": {
             "endlinecolor": "rgb(36,36,36)",
             "gridcolor": "white",
             "linecolor": "white",
             "minorgridcolor": "white",
             "startlinecolor": "rgb(36,36,36)"
            },
            "baxis": {
             "endlinecolor": "rgb(36,36,36)",
             "gridcolor": "white",
             "linecolor": "white",
             "minorgridcolor": "white",
             "startlinecolor": "rgb(36,36,36)"
            },
            "type": "carpet"
           }
          ],
          "choropleth": [
           {
            "colorbar": {
             "outlinewidth": 1,
             "tickcolor": "rgb(36,36,36)",
             "ticks": "outside"
            },
            "type": "choropleth"
           }
          ],
          "contour": [
           {
            "colorbar": {
             "outlinewidth": 1,
             "tickcolor": "rgb(36,36,36)",
             "ticks": "outside"
            },
            "colorscale": [
             [
              0,
              "#440154"
             ],
             [
              0.1111111111111111,
              "#482878"
             ],
             [
              0.2222222222222222,
              "#3e4989"
             ],
             [
              0.3333333333333333,
              "#31688e"
             ],
             [
              0.4444444444444444,
              "#26828e"
             ],
             [
              0.5555555555555556,
              "#1f9e89"
             ],
             [
              0.6666666666666666,
              "#35b779"
             ],
             [
              0.7777777777777778,
              "#6ece58"
             ],
             [
              0.8888888888888888,
              "#b5de2b"
             ],
             [
              1,
              "#fde725"
             ]
            ],
            "type": "contour"
           }
          ],
          "contourcarpet": [
           {
            "colorbar": {
             "outlinewidth": 1,
             "tickcolor": "rgb(36,36,36)",
             "ticks": "outside"
            },
            "type": "contourcarpet"
           }
          ],
          "heatmap": [
           {
            "colorbar": {
             "outlinewidth": 1,
             "tickcolor": "rgb(36,36,36)",
             "ticks": "outside"
            },
            "colorscale": [
             [
              0,
              "#440154"
             ],
             [
              0.1111111111111111,
              "#482878"
             ],
             [
              0.2222222222222222,
              "#3e4989"
             ],
             [
              0.3333333333333333,
              "#31688e"
             ],
             [
              0.4444444444444444,
              "#26828e"
             ],
             [
              0.5555555555555556,
              "#1f9e89"
             ],
             [
              0.6666666666666666,
              "#35b779"
             ],
             [
              0.7777777777777778,
              "#6ece58"
             ],
             [
              0.8888888888888888,
              "#b5de2b"
             ],
             [
              1,
              "#fde725"
             ]
            ],
            "type": "heatmap"
           }
          ],
          "heatmapgl": [
           {
            "colorbar": {
             "outlinewidth": 1,
             "tickcolor": "rgb(36,36,36)",
             "ticks": "outside"
            },
            "colorscale": [
             [
              0,
              "#440154"
             ],
             [
              0.1111111111111111,
              "#482878"
             ],
             [
              0.2222222222222222,
              "#3e4989"
             ],
             [
              0.3333333333333333,
              "#31688e"
             ],
             [
              0.4444444444444444,
              "#26828e"
             ],
             [
              0.5555555555555556,
              "#1f9e89"
             ],
             [
              0.6666666666666666,
              "#35b779"
             ],
             [
              0.7777777777777778,
              "#6ece58"
             ],
             [
              0.8888888888888888,
              "#b5de2b"
             ],
             [
              1,
              "#fde725"
             ]
            ],
            "type": "heatmapgl"
           }
          ],
          "histogram": [
           {
            "marker": {
             "line": {
              "color": "white",
              "width": 0.6
             }
            },
            "type": "histogram"
           }
          ],
          "histogram2d": [
           {
            "colorbar": {
             "outlinewidth": 1,
             "tickcolor": "rgb(36,36,36)",
             "ticks": "outside"
            },
            "colorscale": [
             [
              0,
              "#440154"
             ],
             [
              0.1111111111111111,
              "#482878"
             ],
             [
              0.2222222222222222,
              "#3e4989"
             ],
             [
              0.3333333333333333,
              "#31688e"
             ],
             [
              0.4444444444444444,
              "#26828e"
             ],
             [
              0.5555555555555556,
              "#1f9e89"
             ],
             [
              0.6666666666666666,
              "#35b779"
             ],
             [
              0.7777777777777778,
              "#6ece58"
             ],
             [
              0.8888888888888888,
              "#b5de2b"
             ],
             [
              1,
              "#fde725"
             ]
            ],
            "type": "histogram2d"
           }
          ],
          "histogram2dcontour": [
           {
            "colorbar": {
             "outlinewidth": 1,
             "tickcolor": "rgb(36,36,36)",
             "ticks": "outside"
            },
            "colorscale": [
             [
              0,
              "#440154"
             ],
             [
              0.1111111111111111,
              "#482878"
             ],
             [
              0.2222222222222222,
              "#3e4989"
             ],
             [
              0.3333333333333333,
              "#31688e"
             ],
             [
              0.4444444444444444,
              "#26828e"
             ],
             [
              0.5555555555555556,
              "#1f9e89"
             ],
             [
              0.6666666666666666,
              "#35b779"
             ],
             [
              0.7777777777777778,
              "#6ece58"
             ],
             [
              0.8888888888888888,
              "#b5de2b"
             ],
             [
              1,
              "#fde725"
             ]
            ],
            "type": "histogram2dcontour"
           }
          ],
          "mesh3d": [
           {
            "colorbar": {
             "outlinewidth": 1,
             "tickcolor": "rgb(36,36,36)",
             "ticks": "outside"
            },
            "type": "mesh3d"
           }
          ],
          "parcoords": [
           {
            "line": {
             "colorbar": {
              "outlinewidth": 1,
              "tickcolor": "rgb(36,36,36)",
              "ticks": "outside"
             }
            },
            "type": "parcoords"
           }
          ],
          "pie": [
           {
            "automargin": true,
            "type": "pie"
           }
          ],
          "scatter": [
           {
            "fillpattern": {
             "fillmode": "overlay",
             "size": 10,
             "solidity": 0.2
            },
            "type": "scatter"
           }
          ],
          "scatter3d": [
           {
            "line": {
             "colorbar": {
              "outlinewidth": 1,
              "tickcolor": "rgb(36,36,36)",
              "ticks": "outside"
             }
            },
            "marker": {
             "colorbar": {
              "outlinewidth": 1,
              "tickcolor": "rgb(36,36,36)",
              "ticks": "outside"
             }
            },
            "type": "scatter3d"
           }
          ],
          "scattercarpet": [
           {
            "marker": {
             "colorbar": {
              "outlinewidth": 1,
              "tickcolor": "rgb(36,36,36)",
              "ticks": "outside"
             }
            },
            "type": "scattercarpet"
           }
          ],
          "scattergeo": [
           {
            "marker": {
             "colorbar": {
              "outlinewidth": 1,
              "tickcolor": "rgb(36,36,36)",
              "ticks": "outside"
             }
            },
            "type": "scattergeo"
           }
          ],
          "scattergl": [
           {
            "marker": {
             "colorbar": {
              "outlinewidth": 1,
              "tickcolor": "rgb(36,36,36)",
              "ticks": "outside"
             }
            },
            "type": "scattergl"
           }
          ],
          "scattermapbox": [
           {
            "marker": {
             "colorbar": {
              "outlinewidth": 1,
              "tickcolor": "rgb(36,36,36)",
              "ticks": "outside"
             }
            },
            "type": "scattermapbox"
           }
          ],
          "scatterpolar": [
           {
            "marker": {
             "colorbar": {
              "outlinewidth": 1,
              "tickcolor": "rgb(36,36,36)",
              "ticks": "outside"
             }
            },
            "type": "scatterpolar"
           }
          ],
          "scatterpolargl": [
           {
            "marker": {
             "colorbar": {
              "outlinewidth": 1,
              "tickcolor": "rgb(36,36,36)",
              "ticks": "outside"
             }
            },
            "type": "scatterpolargl"
           }
          ],
          "scatterternary": [
           {
            "marker": {
             "colorbar": {
              "outlinewidth": 1,
              "tickcolor": "rgb(36,36,36)",
              "ticks": "outside"
             }
            },
            "type": "scatterternary"
           }
          ],
          "surface": [
           {
            "colorbar": {
             "outlinewidth": 1,
             "tickcolor": "rgb(36,36,36)",
             "ticks": "outside"
            },
            "colorscale": [
             [
              0,
              "#440154"
             ],
             [
              0.1111111111111111,
              "#482878"
             ],
             [
              0.2222222222222222,
              "#3e4989"
             ],
             [
              0.3333333333333333,
              "#31688e"
             ],
             [
              0.4444444444444444,
              "#26828e"
             ],
             [
              0.5555555555555556,
              "#1f9e89"
             ],
             [
              0.6666666666666666,
              "#35b779"
             ],
             [
              0.7777777777777778,
              "#6ece58"
             ],
             [
              0.8888888888888888,
              "#b5de2b"
             ],
             [
              1,
              "#fde725"
             ]
            ],
            "type": "surface"
           }
          ],
          "table": [
           {
            "cells": {
             "fill": {
              "color": "rgb(237,237,237)"
             },
             "line": {
              "color": "white"
             }
            },
            "header": {
             "fill": {
              "color": "rgb(217,217,217)"
             },
             "line": {
              "color": "white"
             }
            },
            "type": "table"
           }
          ]
         },
         "layout": {
          "annotationdefaults": {
           "arrowhead": 0,
           "arrowwidth": 1
          },
          "autotypenumbers": "strict",
          "coloraxis": {
           "colorbar": {
            "outlinewidth": 1,
            "tickcolor": "rgb(36,36,36)",
            "ticks": "outside"
           }
          },
          "colorscale": {
           "diverging": [
            [
             0,
             "rgb(103,0,31)"
            ],
            [
             0.1,
             "rgb(178,24,43)"
            ],
            [
             0.2,
             "rgb(214,96,77)"
            ],
            [
             0.3,
             "rgb(244,165,130)"
            ],
            [
             0.4,
             "rgb(253,219,199)"
            ],
            [
             0.5,
             "rgb(247,247,247)"
            ],
            [
             0.6,
             "rgb(209,229,240)"
            ],
            [
             0.7,
             "rgb(146,197,222)"
            ],
            [
             0.8,
             "rgb(67,147,195)"
            ],
            [
             0.9,
             "rgb(33,102,172)"
            ],
            [
             1,
             "rgb(5,48,97)"
            ]
           ],
           "sequential": [
            [
             0,
             "#440154"
            ],
            [
             0.1111111111111111,
             "#482878"
            ],
            [
             0.2222222222222222,
             "#3e4989"
            ],
            [
             0.3333333333333333,
             "#31688e"
            ],
            [
             0.4444444444444444,
             "#26828e"
            ],
            [
             0.5555555555555556,
             "#1f9e89"
            ],
            [
             0.6666666666666666,
             "#35b779"
            ],
            [
             0.7777777777777778,
             "#6ece58"
            ],
            [
             0.8888888888888888,
             "#b5de2b"
            ],
            [
             1,
             "#fde725"
            ]
           ],
           "sequentialminus": [
            [
             0,
             "#440154"
            ],
            [
             0.1111111111111111,
             "#482878"
            ],
            [
             0.2222222222222222,
             "#3e4989"
            ],
            [
             0.3333333333333333,
             "#31688e"
            ],
            [
             0.4444444444444444,
             "#26828e"
            ],
            [
             0.5555555555555556,
             "#1f9e89"
            ],
            [
             0.6666666666666666,
             "#35b779"
            ],
            [
             0.7777777777777778,
             "#6ece58"
            ],
            [
             0.8888888888888888,
             "#b5de2b"
            ],
            [
             1,
             "#fde725"
            ]
           ]
          },
          "colorway": [
           "#1F77B4",
           "#FF7F0E",
           "#2CA02C",
           "#D62728",
           "#9467BD",
           "#8C564B",
           "#E377C2",
           "#7F7F7F",
           "#BCBD22",
           "#17BECF"
          ],
          "font": {
           "color": "rgb(36,36,36)"
          },
          "geo": {
           "bgcolor": "white",
           "lakecolor": "white",
           "landcolor": "white",
           "showlakes": true,
           "showland": true,
           "subunitcolor": "white"
          },
          "hoverlabel": {
           "align": "left"
          },
          "hovermode": "closest",
          "mapbox": {
           "style": "light"
          },
          "paper_bgcolor": "white",
          "plot_bgcolor": "white",
          "polar": {
           "angularaxis": {
            "gridcolor": "rgb(232,232,232)",
            "linecolor": "rgb(36,36,36)",
            "showgrid": false,
            "showline": true,
            "ticks": "outside"
           },
           "bgcolor": "white",
           "radialaxis": {
            "gridcolor": "rgb(232,232,232)",
            "linecolor": "rgb(36,36,36)",
            "showgrid": false,
            "showline": true,
            "ticks": "outside"
           }
          },
          "scene": {
           "xaxis": {
            "backgroundcolor": "white",
            "gridcolor": "rgb(232,232,232)",
            "gridwidth": 2,
            "linecolor": "rgb(36,36,36)",
            "showbackground": true,
            "showgrid": false,
            "showline": true,
            "ticks": "outside",
            "zeroline": false,
            "zerolinecolor": "rgb(36,36,36)"
           },
           "yaxis": {
            "backgroundcolor": "white",
            "gridcolor": "rgb(232,232,232)",
            "gridwidth": 2,
            "linecolor": "rgb(36,36,36)",
            "showbackground": true,
            "showgrid": false,
            "showline": true,
            "ticks": "outside",
            "zeroline": false,
            "zerolinecolor": "rgb(36,36,36)"
           },
           "zaxis": {
            "backgroundcolor": "white",
            "gridcolor": "rgb(232,232,232)",
            "gridwidth": 2,
            "linecolor": "rgb(36,36,36)",
            "showbackground": true,
            "showgrid": false,
            "showline": true,
            "ticks": "outside",
            "zeroline": false,
            "zerolinecolor": "rgb(36,36,36)"
           }
          },
          "shapedefaults": {
           "fillcolor": "black",
           "line": {
            "width": 0
           },
           "opacity": 0.3
          },
          "ternary": {
           "aaxis": {
            "gridcolor": "rgb(232,232,232)",
            "linecolor": "rgb(36,36,36)",
            "showgrid": false,
            "showline": true,
            "ticks": "outside"
           },
           "baxis": {
            "gridcolor": "rgb(232,232,232)",
            "linecolor": "rgb(36,36,36)",
            "showgrid": false,
            "showline": true,
            "ticks": "outside"
           },
           "bgcolor": "white",
           "caxis": {
            "gridcolor": "rgb(232,232,232)",
            "linecolor": "rgb(36,36,36)",
            "showgrid": false,
            "showline": true,
            "ticks": "outside"
           }
          },
          "title": {
           "x": 0.05
          },
          "xaxis": {
           "automargin": true,
           "gridcolor": "rgb(232,232,232)",
           "linecolor": "rgb(36,36,36)",
           "showgrid": false,
           "showline": true,
           "ticks": "outside",
           "title": {
            "standoff": 15
           },
           "zeroline": false,
           "zerolinecolor": "rgb(36,36,36)"
          },
          "yaxis": {
           "automargin": true,
           "gridcolor": "rgb(232,232,232)",
           "linecolor": "rgb(36,36,36)",
           "showgrid": false,
           "showline": true,
           "ticks": "outside",
           "title": {
            "standoff": 15
           },
           "zeroline": false,
           "zerolinecolor": "rgb(36,36,36)"
          }
         }
        },
        "title": {
         "text": "Quantidade Crimes Totais Jan à Out 2023"
        },
        "xaxis": {
         "anchor": "y",
         "domain": [
          0,
          1
         ],
         "title": {
          "text": "MES_ANO"
         }
        },
        "yaxis": {
         "anchor": "x",
         "domain": [
          0,
          1
         ],
         "title": {
          "text": "freq"
         }
        }
       }
      }
     },
     "metadata": {},
     "output_type": "display_data"
    }
   ],
   "source": [
    "px.line(mes_ano_crimes_totais[12:], x = 'MES_ANO', y = 'freq', template='simple_white', title='Quantidade Crimes Totais Jan à Out 2023')"
   ]
  }
 ],
 "metadata": {
  "kernelspec": {
   "display_name": "Python 3",
   "language": "python",
   "name": "python3"
  },
  "language_info": {
   "codemirror_mode": {
    "name": "ipython",
    "version": 3
   },
   "file_extension": ".py",
   "mimetype": "text/x-python",
   "name": "python",
   "nbconvert_exporter": "python",
   "pygments_lexer": "ipython3",
   "version": "3.11.0"
  }
 },
 "nbformat": 4,
 "nbformat_minor": 2
}
